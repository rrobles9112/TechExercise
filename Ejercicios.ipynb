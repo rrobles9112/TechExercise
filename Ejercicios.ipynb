{
 "cells": [
  {
   "cell_type": "code",
   "execution_count": 1,
   "metadata": {
    "collapsed": true
   },
   "outputs": [
    {
     "name": "stdout",
     "output_type": "stream",
     "text": [
      "Instances of person class = 3\n",
      "Instances of employee class = 1\n",
      "Robles Richard\n"
     ]
    },
    {
     "data": {
      "text/plain": "'Robles Richard'"
     },
     "execution_count": 1,
     "metadata": {},
     "output_type": "execute_result"
    }
   ],
   "source": [
    "class MetaCount(type):\n",
    "    def __new__(cls, name, bases, attrs):\n",
    "        new_cls = super(MetaCount, cls).__new__(cls, name, bases, attrs)\n",
    "        new_cls.count = 0\n",
    "        return new_cls\n",
    "\n",
    "\n",
    "class Person(metaclass=MetaCount):\n",
    "\n",
    "    def __init__(self, name, lastname, age, address):\n",
    "        self.__name = name\n",
    "        self.age = age\n",
    "        self.address = address\n",
    "        self.__lastname = lastname\n",
    "        type(self).count += 1\n",
    "        # self.count += 2 creates an *instance* variable\n",
    "\n",
    "    @property\n",
    "    def name(self):\n",
    "        return self.__name\n",
    "\n",
    "    @name.setter\n",
    "    def name(self, newvalue):\n",
    "        self.__name = newvalue\n",
    "\n",
    "    @property\n",
    "    def lastname(self):\n",
    "        return self.__lastname\n",
    "\n",
    "    @lastname.setter\n",
    "    def lastname(self, newvalue):\n",
    "        self.__lastname = newvalue\n",
    "\n",
    "    def get_fullname(self):\n",
    "        return f\"{self.__lastname} {self.__name}\"\n",
    "\n",
    "\n",
    "class Employee(Person, metaclass=MetaCount):\n",
    "\n",
    "    def __init__(self, employee_code, salary_per_hour, start_data, departament):\n",
    "        Person.__base__.__init__(self)\n",
    "        self.employee_code = employee_code\n",
    "        self.salary_per_hour = salary_per_hour\n",
    "        self.start_data = start_data\n",
    "        self.departament = departament\n",
    "        type(self).count += 1\n",
    "\n",
    "\n",
    "p = Person(age=25, address=\"calle 123 Av Evergreen\", name=\"Richard\", lastname=\"Robles\")\n",
    "p1 = Person(age=25, address=\"calle 123 Av Evergreen\", name=\"Richard\", lastname=\"Robles\")\n",
    "p2 = Person(age=25, address=\"calle 123 Av Evergreen\", name=\"Richard\", lastname=\"Robles\")\n",
    "\n",
    "e = Employee(123, 8000000, '2020-12-12', 'accountability')\n",
    "e.name = \"ALfonso\"\n",
    "e.lastname = \"De la hoz\"\n",
    "\n",
    "# print(e.name)\n",
    "print(f\"Instances of person class = {p.count}\")\n",
    "print(f\"Instances of employee class = {e.count}\")\n",
    "print(p.get_fullname())\n",
    "p.get_fullname()"
   ]
  },
  {
   "cell_type": "code",
   "execution_count": 2,
   "metadata": {},
   "outputs": [
    {
     "name": "stdout",
     "output_type": "stream",
     "text": [
      "employee_code,name,lastname,address,age,start_date,salary,position,department\n",
      "12345,Richard,Robles,calle 59A #10a 52,28,2020-12-03,12000000,Python Developer,Development\n",
      "12345,Richard,Robles,calle 59A #10a 52,28,2020-12-03,12000000,Python Developer,Development\n",
      "12345,Richard,Robles,calle 59A #10a 52,28,2020-12-03,12000000,Python Developer,Development\n",
      "12345,Richard,Robles,calle 59A #10a 52,28,2020-12-03,12000000,Python Developer,Development\n",
      "12345,Richard,Robles,calle 59A #10a 52,28,2020-12-03,12000000,Python Developer,Development\n",
      "12345,Richard,Robles,calle 59A #10a 52,28,2020-12-03,12000000,Python Developer,Development\n",
      "12345,Richard,Robles,calle 59A #10a 52,28,2020-12-03,12000000,Python Developer,Development\n",
      "12345,Richard,Robles,calle 59A #10a 52,28,2020-12-03,12000000,Python Developer,Development\n",
      "12345,Richard,Robles,calle 59A #10a 52,28,2020-12-03,12000000,Python Developer,Development\n",
      "12345,Richard,Robles,calle 59A #10a 52,28,2020-12-03,12000000,Python Developer,Development\n",
      "12345,Richard,Robles,calle 59A #10a 52,28,2020-12-03,12000000,Python Developer,Development\n",
      "12345,Richard,Robles,calle 59A #10a 52,28,2020-12-03,12000000,Python Developer,Development\n",
      "12345,Richard,Robles,calle 59A #10a 52,28,2020-12-03,12000000,Python Developer,Development\n",
      "12345,Richard,Robles,calle 59A #10a 52,28,2020-12-03,12000000,Python Developer,Development\n"
     ]
    }
   ],
   "source": [
    "with open(\"employees.txt\", encoding='utf-8') as f:\n",
    "    print(f.read())"
   ]
  },
  {
   "cell_type": "code",
   "execution_count": 3,
   "metadata": {
    "pycharm": {
     "name": "#%%\n"
    }
   },
   "outputs": [
    {
     "name": "stdout",
     "output_type": "stream",
     "text": [
      "1 2.232 3\n",
      "0\n",
      "1\n",
      "2\n",
      "3\n",
      "4\n",
      "5\n",
      "6\n",
      "7\n",
      "8\n",
      "9\n"
     ]
    },
    {
     "data": {
      "text/plain": "0.00023490000000014888"
     },
     "execution_count": 3,
     "metadata": {},
     "output_type": "execute_result"
    }
   ],
   "source": [
    "import time\n",
    "\n",
    "\n",
    "def check_types(int, float, str):\n",
    "    def wrapper(function):\n",
    "\n",
    "        def wrapper_inner(*args, **kwargs):\n",
    "            if type(args[0]) == int and type(args[1]) == float and type(args[2]) == str:\n",
    "                function(*args)\n",
    "            else:\n",
    "                print(\"No se puede ejecutar la funcion\")\n",
    "\n",
    "        return wrapper_inner\n",
    "\n",
    "    return wrapper\n",
    "\n",
    "\n",
    "@check_types(int, float, str)\n",
    "def f(a, b, c):\n",
    "    print(a, b, c)\n",
    "\n",
    "\n",
    "f(1, 2.232, \"3\")\n",
    "\n",
    "\n",
    "def decorator(func):\n",
    "    def wrapper_inner(*args, **kw):\n",
    "        start = time.perf_counter()\n",
    "        resutl = func(*args, **kw)\n",
    "        end = time.perf_counter()\n",
    "        runtime = end - start\n",
    "        return runtime\n",
    "\n",
    "    return wrapper_inner\n",
    "\n",
    "\n",
    "@decorator\n",
    "def print_range():\n",
    "    for i in range(10):\n",
    "        print(i)\n",
    "\n",
    "\n",
    "print_range()\n"
   ]
  },
  {
   "cell_type": "markdown",
   "metadata": {},
   "source": [
    "*Exercise 4 <br/>\n",
    "Suppose that you have 5 Python projects which you’re working on and each of them have\n",
    "their own dependencies (libraries). These projects have common dependencies but different\n",
    "versions of the same dependencies. <br/>\n",
    "Functionality:\n",
    "- How could you handle this case? How would you solve it?\n",
    "\n",
    "    managing dependencies using pipenv\n",
    "\n",
    "- If you imported objects from some module, will the requested objects be loaded only?\n",
    "or will all the objects and definitions be loaded?. Explain. <br/>\n",
    "\n",
    "all if you dont define the specific item from the module that you are importing using from module import whatever\n",
    "\n",
    "- If you imported objects from a module, would the lines code outside of functions and\n",
    "classes be executed? <br/>\n",
    "no it would not be executed\n",
    "\n",
    "- What is the purpose of “if __name__ == __main__” in the bottom part of any module?\n",
    "When will it be executed?<br/>\n",
    "For executing modules as scripts you can make the file usable as a script as well as an importable module, because the code that parses the command line only runs if the module is executed as the “main” file\n"
   ]
  },
  {
   "cell_type": "code",
   "execution_count": 4,
   "metadata": {
    "pycharm": {
     "name": "#%%\n"
    }
   },
   "outputs": [
    {
     "name": "stdout",
     "output_type": "stream",
     "text": [
      "1176 1176\n"
     ]
    }
   ],
   "source": [
    "# Exercise 7\n",
    "import threading\n",
    "import time\n",
    "import random\n",
    "\n",
    "total = 0\n",
    "\n",
    "\n",
    "def update_total(amount, lock):\n",
    "    lock.acquire()\n",
    "    global total\n",
    "    total0 = total\n",
    "    total = total0 + amount\n",
    "    lock.release()\n",
    "\n",
    "\n",
    "threads = []\n",
    "transactions = [2, 100, 20, 300, 400, 250, 15, 89]\n",
    "lock = threading.Lock()\n",
    "\n",
    "for amount in transactions:\n",
    "    mythread = threading.Thread(target=update_total, args=[amount, lock])\n",
    "    mythread.start()\n",
    "    threads.append(mythread)\n",
    "\n",
    "for t in threads:\n",
    "    t.join()\n",
    "\n",
    "print(sum(transactions), total)\n",
    "\n"
   ]
  },
  {
   "cell_type": "code",
   "execution_count": 5,
   "metadata": {},
   "outputs": [
    {
     "name": "stdout",
     "output_type": "stream",
     "text": [
      "[1, 2, 3, 4, 5, 6]\n"
     ]
    }
   ],
   "source": [
    "# Exercise 5\n",
    "from collections.abc import MutableSequence\n",
    "from collections import UserList\n",
    "\n",
    "\n",
    "class MyList(UserList):\n",
    "    \"\"\"A container for manipulating lists of hosts\"\"\"\n",
    "\n",
    "    def __init__(self, data=None):\n",
    "        \"\"\"Initialize the class\"\"\"\n",
    "        super(MyList, self).__init__()\n",
    "        if (data is not None):\n",
    "            self._list = list(data)\n",
    "        else:\n",
    "            self._list = list()\n",
    "\n",
    "    def __repr__(self):\n",
    "        return \"<{0} {1}>\".format(self.__class__.__name__, self._list)\n",
    "\n",
    "    def __len__(self):\n",
    "        \"\"\"List length\"\"\"\n",
    "        return len(self._list)\n",
    "\n",
    "    def __getitem__(self, ii):\n",
    "        \"\"\"Get a list item\"\"\"\n",
    "        return self._list[ii]\n",
    "\n",
    "    def __delitem__(self, ii):\n",
    "        \"\"\"Delete an item\"\"\"\n",
    "        del self._list[ii]\n",
    "\n",
    "    def __setitem__(self, ii, val):\n",
    "        # optional: self._acl_check(val)\n",
    "        self._list[ii] = val\n",
    "\n",
    "    def __str__(self):\n",
    "        return str(self._list)\n",
    "\n",
    "    def insert(self, ii, val):\n",
    "        # optional: self._acl_check(val)\n",
    "        self._list.insert(ii, val)\n",
    "\n",
    "    def append(self, val):\n",
    "        self.insert(len(self._list), val)\n",
    "\n",
    "\n",
    "foo = MyList([1, 2, 3, 4, 5])\n",
    "foo.append(6)\n",
    "print(foo)"
   ]
  },
  {
   "cell_type": "code",
   "execution_count": 6,
   "metadata": {},
   "outputs": [
    {
     "name": "stdout",
     "output_type": "stream",
     "text": [
      "1\n"
     ]
    }
   ],
   "source": [
    "# A simple Python program to introduce a linked list \n",
    "\n",
    "# Node class \n",
    "class Node:\n",
    "\n",
    "    # Function to initialise the node object\n",
    "    def __init__(self, data):\n",
    "        self.data = data  # Assign data\n",
    "        self.next = None  # Initialize next as null\n",
    "\n",
    "\n",
    "# Linked List class contains a Node object \n",
    "class LinkedList:\n",
    "\n",
    "    # Function to initialize head\n",
    "    def __init__(self):\n",
    "        self.head = None\n",
    "\n",
    "\n",
    "# Start with the empty list \n",
    "llist = LinkedList()\n",
    "\n",
    "llist.head = Node(1)\n",
    "second = Node(2)\n",
    "third = Node(3)\n",
    "llist.head.next = second;  # Link first node with second\n",
    "second.next = third;  # Link second node with the third node\n",
    "third.next = None\n",
    "\n",
    "print(llist.head.data)\n"
   ]
  },
  {
   "cell_type": "code",
   "execution_count": 7,
   "metadata": {},
   "outputs": [
    {
     "name": "stdout",
     "output_type": "stream",
     "text": [
      "5\n",
      "4\n",
      "3\n",
      "2\n",
      "1\n"
     ]
    }
   ],
   "source": [
    "class Countdown(object):\n",
    "    def __init__(self, start):\n",
    "        self.start = start\n",
    "\n",
    "    def __iter__(self):\n",
    "        n = self.start\n",
    "        while n > 0:\n",
    "            yield n\n",
    "            n -= 1\n",
    "\n",
    "\n",
    "c = Countdown(5)\n",
    "\n",
    "for x in c:\n",
    "    print(x)\n",
    "\n",
    "\n",
    "\n"
   ]
  },
  {
   "cell_type": "markdown",
   "metadata": {},
   "source": [
    "\n",
    "The magic method __iter__ implement the ways to iterate over a sequence of holding multiples data\n"
   ]
  },
  {
   "cell_type": "markdown",
   "metadata": {},
   "source": [
    "<code>\n",
    "import csv\n",
    "\n",
    "def reader(filename):\n",
    "    with open(filename, 'r') as f:\n",
    "        next(f)\n",
    "        for line in f:\n",
    "            yield line\n",
    "\n",
    "def parse_transaction(lines):\n",
    "    rows = csv.reader(lines)\n",
    "    types = [int, str, str, str, str, str, str, str, str]\n",
    "    converted = ([func(val) for func, val in zip(types, rows)] for row in rows)\n",
    "    return converted\n",
    "\n",
    "\n",
    "def filter(rows, func):\n",
    "    filtered = (row for row in rows if func(row))\n",
    "\n",
    "\n",
    "lines = reader('./employees.csv')\n",
    "\n",
    "transaction = parse_transaction(lines)\n",
    "\n",
    "filtered_transaction = filter(transaction, lambda x: x[0] > 1)\n",
    "\n",
    "for t in filtered_transaction:\n",
    "    print(t)\n",
    "</code>"
   ]
  },
  {
   "cell_type": "code",
   "execution_count": 8,
   "metadata": {},
   "outputs": [
    {
     "name": "stdout",
     "output_type": "stream",
     "text": [
      "{'__module__': '__main__', 'instances': 12, 'changed_method': <function Overloaded.changed_method at 0x000001C2183FFA60>, 'nvalue': <property object at 0x000001C2183FD720>, '__dict__': <attribute '__dict__' of 'Overloaded' objects>, '__weakref__': <attribute '__weakref__' of 'Overloaded' objects>, '__doc__': None}\n",
      "{'_nvalue': 200}\n",
      "200\n",
      "Edad = 10\n",
      "{'_age': 0, 'age': 10} {'__module__': '__main__', '__init__': <function Geeks.__init__ at 0x000001C2183FB0D0>, 'get_age': <function Geeks.get_age at 0x000001C2183FB040>, 'set_age': <function Geeks.set_age at 0x000001C2183FB820>, 'del_age': <function Geeks.del_age at 0x000001C2183FB8B0>, '__dict__': <attribute '__dict__' of 'Geeks' objects>, '__weakref__': <attribute '__weakref__' of 'Geeks' objects>, '__doc__': None}\n",
      "False\n",
      "True\n",
      "hasattr method\n"
     ]
    }
   ],
   "source": [
    "import types\n",
    "import collections\n",
    "\n",
    "\n",
    "class Overloaded(object):\n",
    "    instances = 12\n",
    "\n",
    "    def changed_method(self, number):\n",
    "        self.instance_variable = self.instance_variable + 1\n",
    "        self._nvalue = 0\n",
    "\n",
    "    @property\n",
    "    def nvalue(self):\n",
    "        return self._nvalue\n",
    "\n",
    "    @nvalue.setter\n",
    "    def nvalue(self, value: int):\n",
    "        if not isinstance(value, int):\n",
    "            raise TypeError(\"The value must be an integer\")\n",
    "\n",
    "        if value < 0:\n",
    "            raise ValueError(\"The value must be greater than 0\")\n",
    "\n",
    "        self._nvalue = value\n",
    "\n",
    "\n",
    "def new_changed_method(self, number):\n",
    "    pass\n",
    "\n",
    "\n",
    "print(Overloaded.__dict__)\n",
    "Overloaded.changed_method = new_changed_method\n",
    "over_object = Overloaded()\n",
    "over_object.changed_method(20)\n",
    "over_object.nvalue = 200\n",
    "\n",
    "print(over_object.__dict__)\n",
    "print(over_object.nvalue)\n",
    "Town = collections.namedtuple('Town', ['name', 'population', 'coordinates', 'capital', 'state_bird'])\n",
    "funkytown = Town('funky', 300, 'somewhere', 'lipps', 'chicken')\n",
    "\n",
    "funkytown._asdict()\n",
    "\n",
    "\n",
    "class Geeks:\n",
    "    def __init__(self):\n",
    "        self._age = 0\n",
    "\n",
    "    # function to get value of _age\n",
    "    def get_age(self):\n",
    "        print(\"getter method called\")\n",
    "        return self._age\n",
    "\n",
    "    # function to set value of _age\n",
    "    def set_age(self, a):\n",
    "        print(\"setter method called\")\n",
    "        self._age = a\n",
    "\n",
    "    # function to delete _age attribute\n",
    "    def del_age(self):\n",
    "        del self._age\n",
    "\n",
    "    # age = property(get_age, set_age, del_age)\n",
    "\n",
    "\n",
    "mark = Geeks()\n",
    "\n",
    "mark.age = 10\n",
    "\n",
    "print(f\"Edad = {mark.age}\")\n",
    "print(mark.__dict__, Geeks.__dict__)\n",
    "print(hasattr(mark, '__getitem__'))\n",
    "print(hasattr(mark, '__dict__'))\n",
    "print(\"hasattr method\")"
   ]
  },
  {
   "cell_type": "code",
   "execution_count": 9,
   "metadata": {
    "collapsed": false,
    "pycharm": {
     "name": "#%%\n"
    }
   },
   "outputs": [
    {
     "name": "stdout",
     "output_type": "stream",
     "text": [
      "14400\n"
     ]
    }
   ],
   "source": [
    "def factorial(numero):\n",
    "    producto = 1\n",
    "    for i in range(1, numero + 1):\n",
    "        producto = producto * i\n",
    "        producto = producto * i\n",
    "\n",
    "    return producto\n",
    "\n",
    "\n",
    "producto = factorial(5)\n",
    "\n",
    "print(producto)"
   ]
  },
  {
   "cell_type": "code",
   "execution_count": 10,
   "metadata": {},
   "outputs": [
    {
     "name": "stdout",
     "output_type": "stream",
     "text": [
      "hello world\n",
      "hola mundo\n",
      "\n",
      "1099\n",
      "10999\n"
     ]
    }
   ],
   "source": [
    "print(\"hello world\")\n",
    "print(\"hola mundo\")\n",
    "print()\n",
    "a = 999\n",
    "b = a ** 12\n",
    "print(a.__add__(100))\n",
    "print(a.__add__(10000))"
   ]
  },
  {
   "cell_type": "code",
   "execution_count": 10,
   "metadata": {},
   "outputs": [],
   "source": [
    "\n",
    "\n",
    "\n",
    "\n"
   ]
  },
  {
   "cell_type": "code",
   "execution_count": 11,
   "metadata": {
    "collapsed": false,
    "pycharm": {
     "name": "#%%\n"
    }
   },
   "outputs": [
    {
     "name": "stdout",
     "output_type": "stream",
     "text": [
      "foo\n",
      "None\n",
      "bar\n",
      "None\n"
     ]
    }
   ],
   "source": [
    "class Wrapper(object):\n",
    "    def __init__(self, wrappee):\n",
    "        self.wrappee = wrappee\n",
    "\n",
    "    def foo(self):\n",
    "        print('foo')\n",
    "\n",
    "    def __getattr__(self, attr):\n",
    "        return getattr(self.wrappee, attr)\n",
    "\n",
    "\n",
    "class Wrappee(object):\n",
    "    def bar(self):\n",
    "        print('bar')\n",
    "\n",
    "\n",
    "o2 = Wrappee()\n",
    "o1 = Wrapper(o2)\n",
    "\n",
    "print(o1.foo())\n",
    "\n",
    "print(o1.bar())"
   ]
  },
  {
   "cell_type": "code",
   "execution_count": 12,
   "metadata": {
    "collapsed": false,
    "pycharm": {
     "name": "#%%\n"
    }
   },
   "outputs": [
    {
     "name": "stdout",
     "output_type": "stream",
     "text": [
      "Hello Python Developer\n",
      "<function linear.<locals>.do_linear at 0x000001C218413280>\n",
      "35.0\n",
      "27\n",
      "15\n",
      "30\n"
     ]
    }
   ],
   "source": [
    "import time\n",
    "\n",
    "\n",
    "def after(seconds, func):\n",
    "    time.sleep(seconds)\n",
    "    func()\n",
    "\n",
    "\n",
    "def greeting(name):\n",
    "    print(\"Hello Python Developer\")\n",
    "\n",
    "\n",
    "after(5, lambda: greeting(\"Richard Robles\"))\n",
    "\n",
    "\n",
    "def linear(b):\n",
    "    def do_linear(x, m):\n",
    "        return x * m + b\n",
    "\n",
    "    return do_linear\n",
    "\n",
    "\n",
    "calculate_cab_cost = linear(20)\n",
    "print(calculate_cab_cost)\n",
    "cost = calculate_cab_cost(10, 1.5)\n",
    "print(cost)\n",
    "\n",
    "\n",
    "def make_multiplier_of(n):\n",
    "    def multiplier(x):\n",
    "        return x * n\n",
    "\n",
    "    return multiplier\n",
    "\n",
    "\n",
    "# Multiplier of 3\n",
    "times3 = make_multiplier_of(3)\n",
    "\n",
    "# Multiplier of 5\n",
    "times5 = make_multiplier_of(5)\n",
    "\n",
    "# Output: 27\n",
    "print(times3(9))\n",
    "\n",
    "# Output: 15\n",
    "print(times5(3))\n",
    "\n",
    "# Output: 30\n",
    "print(times5(times3(2)))\n",
    "\n",
    "\n",
    "def locales_setup():\n",
    "    translations = {\n",
    "        ('es', 'I am python programmer'): \"Yo soy un programador python\",\n",
    "        ('en', 'Yo soy un programador python'): \"I am python programmer\"\n",
    "    }\n",
    "\n",
    "    def translate(text, current_lang=\"es\"):\n",
    "        try:\n",
    "            return translations[(current_lang, text)]\n",
    "        except KeyError:\n",
    "            return text\n",
    "\n",
    "    return translate\n",
    "\n",
    "\n",
    "def typed_property(name, expected_type):\n",
    "    private_name = \"_\" + name\n",
    "\n",
    "    @property\n",
    "    def prop(self):\n",
    "        return getattr(self, private_name)\n",
    "\n",
    "    @prop.getter\n",
    "    def prop(self, value):\n",
    "        if not isinstance(value, expected_type):\n",
    "            raise TypeError(f\"Expected {expected_type}\")\n",
    "        setattr(self, private_name, value)\n",
    "\n",
    "    return prop\n",
    "\n",
    "\n",
    "\n",
    "class Empleado(object):\n",
    "        name = typed_property(\"name\", str)\n",
    "        age = typed_property(\"age\", int)\n",
    "        salary = typed_property(\"salary\", float)\n",
    "\n",
    "        def __init__(self, name, age, salary):\n",
    "            self.name = name\n",
    "            self.age = age\n",
    "            self.salary = salary\n",
    "\n",
    "        def __repr__(self):\n",
    "            return f\"Empleado {self.name}, {self.age}, {self.salary}\"\n",
    "\n",
    "\n",
    "Integer = lambda name: typed_property(name, int)\n",
    "Float = lambda name: typed_property(name, float)\n",
    "\n"
   ]
  },
  {
   "cell_type": "code",
   "execution_count": 13,
   "metadata": {},
   "outputs": [
    {
     "name": "stdout",
     "output_type": "stream",
     "text": [
      "Threading number <class 'threading.Thread'> and result 1\n",
      "Threading number <class 'threading.Thread'> and result 1\n",
      "Threading number <class 'threading.Thread'> and result 2Threading number <class 'threading.Thread'> and result 3\n",
      "\n",
      "Threading number <class 'threading.Thread'> and result 5\n",
      "Threading number <class 'threading.Thread'> and result 8\n",
      "Threading number <class 'threading.Thread'> and result 13\n",
      "Threading number <class 'threading.Thread'> and result 21\n"
     ]
    }
   ],
   "source": [
    "from threading import Thread\n",
    "\n",
    "\n",
    "def fib(number):\n",
    "    def _fib(n):\n",
    "        if n == 0:\n",
    "            return 0\n",
    "        elif n == 1 or n == 2:\n",
    "            return 1\n",
    "        else:\n",
    "            return _fib(n - 1) + _fib(n - 2)\n",
    "\n",
    "    result = _fib(number)\n",
    "    print(f\"Threading number {Thread} and result {result}\")\n",
    "    return result\n",
    "\n",
    "\n",
    "numbers = [1, 2, 3, 4, 5, 6, 7, 8]\n",
    "threads = []\n",
    "\n",
    "for number in numbers:\n",
    "    myThread = Thread(target=fib, args=[number])\n",
    "    myThread.start()\n",
    "    threads.append(myThread)\n",
    "\n",
    "for t in threads:\n",
    "    t.join()"
   ]
  },
  {
   "cell_type": "code",
   "execution_count": 14,
   "metadata": {},
   "outputs": [],
   "source": [
    "from multiprocessing import Process\n",
    "import os\n",
    "\n",
    "def fib(number):\n",
    "    def _fib(n):\n",
    "        if n == 0:\n",
    "            return 0\n",
    "        elif n == 1 or n == 2:\n",
    "            return 1\n",
    "        else:\n",
    "            return _fib(n - 1) + _fib(n - 2)\n",
    "\n",
    "    result = _fib(number)\n",
    "    print(f\"Threading number {os.getpid()} and result {result}\")\n",
    "    return result\n",
    "\n",
    "\n",
    "numbers = [1, 2, 3, 4, 5, 6, 7, 8]\n",
    "proceses = []\n",
    "\n",
    "for number in numbers:\n",
    "    myProcess = Process(target=fib, args=[number])\n",
    "    myProcess.start()\n",
    "    proceses.append(myProcess)\n",
    "\n",
    "for p in proceses:\n",
    "    p.join()"
   ]
  },
  {
   "cell_type": "code",
   "execution_count": 15,
   "metadata": {
    "collapsed": false,
    "pycharm": {
     "name": "#%%\n"
    }
   },
   "outputs": [
    {
     "name": "stdout",
     "output_type": "stream",
     "text": [
      "20\n"
     ]
    }
   ],
   "source": [
    "from functools import reduce\n",
    "\n",
    "listWithoutReduce = [1, 2, 3, 4, 5, 6, 7, 8]\n",
    "\n",
    "listReduced = reduce(lambda acc, x: acc + x if x % 2 == 0 else acc + 0, listWithoutReduce, 0)\n",
    "print(listReduced)"
   ]
  },
  {
   "cell_type": "code",
   "execution_count": 16,
   "metadata": {
    "collapsed": false,
    "pycharm": {
     "name": "#%%\n"
    }
   },
   "outputs": [
    {
     "name": "stdout",
     "output_type": "stream",
     "text": [
      "[     1      2      3      4      5      6      7    800   4375 326432]\n",
      "<class 'numpy.ndarray'>\n",
      "331635\n",
      "2121220096\n",
      "1\n",
      "326432\n",
      "[     3      6      9     12     15     18     21   2400  13125 979296]\n",
      "[1.00000000e+00 5.00000000e-01 3.33333333e-01 2.50000000e-01\n",
      " 2.00000000e-01 1.66666667e-01 1.42857143e-01 1.25000000e-03\n",
      " 2.28571429e-04 3.06342515e-06]\n",
      "['ALLOW_THREADS', 'AxisError', 'BUFSIZE', 'CLIP', 'ComplexWarning', 'DataSource', 'ERR_CALL', 'ERR_DEFAULT', 'ERR_IGNORE', 'ERR_LOG', 'ERR_PRINT', 'ERR_RAISE', 'ERR_WARN', 'FLOATING_POINT_SUPPORT', 'FPE_DIVIDEBYZERO', 'FPE_INVALID', 'FPE_OVERFLOW', 'FPE_UNDERFLOW', 'False_', 'Inf', 'Infinity', 'MAXDIMS', 'MAY_SHARE_BOUNDS', 'MAY_SHARE_EXACT', 'MachAr', 'ModuleDeprecationWarning', 'NAN', 'NINF', 'NZERO', 'NaN', 'PINF', 'PZERO', 'RAISE', 'RankWarning', 'SHIFT_DIVIDEBYZERO', 'SHIFT_INVALID', 'SHIFT_OVERFLOW', 'SHIFT_UNDERFLOW', 'ScalarType', 'Tester', 'TooHardError', 'True_', 'UFUNC_BUFSIZE_DEFAULT', 'UFUNC_PYVALS_NAME', 'VisibleDeprecationWarning', 'WRAP', '_NoValue', '_UFUNC_API', '__NUMPY_SETUP__', '__all__', '__builtins__', '__cached__', '__config__', '__dir__', '__doc__', '__file__', '__getattr__', '__git_revision__', '__loader__', '__mkl_version__', '__name__', '__package__', '__path__', '__spec__', '__version__', '_add_newdoc_ufunc', '_distributor_init', '_globals', '_mat', '_pytesttester', 'abs', 'absolute', 'add', 'add_docstring', 'add_newdoc', 'add_newdoc_ufunc', 'alen', 'all', 'allclose', 'alltrue', 'amax', 'amin', 'angle', 'any', 'append', 'apply_along_axis', 'apply_over_axes', 'arange', 'arccos', 'arccosh', 'arcsin', 'arcsinh', 'arctan', 'arctan2', 'arctanh', 'argmax', 'argmin', 'argpartition', 'argsort', 'argwhere', 'around', 'array', 'array2string', 'array_equal', 'array_equiv', 'array_repr', 'array_split', 'array_str', 'asanyarray', 'asarray', 'asarray_chkfinite', 'ascontiguousarray', 'asfarray', 'asfortranarray', 'asmatrix', 'asscalar', 'atleast_1d', 'atleast_2d', 'atleast_3d', 'average', 'bartlett', 'base_repr', 'binary_repr', 'bincount', 'bitwise_and', 'bitwise_not', 'bitwise_or', 'bitwise_xor', 'blackman', 'block', 'bmat', 'bool', 'bool8', 'bool_', 'broadcast', 'broadcast_arrays', 'broadcast_to', 'busday_count', 'busday_offset', 'busdaycalendar', 'byte', 'byte_bounds', 'bytes0', 'bytes_', 'c_', 'can_cast', 'cast', 'cbrt', 'cdouble', 'ceil', 'cfloat', 'char', 'character', 'chararray', 'choose', 'clip', 'clongdouble', 'clongfloat', 'column_stack', 'common_type', 'compare_chararrays', 'compat', 'complex', 'complex128', 'complex64', 'complex_', 'complexfloating', 'compress', 'concatenate', 'conj', 'conjugate', 'convolve', 'copy', 'copysign', 'copyto', 'core', 'corrcoef', 'correlate', 'cos', 'cosh', 'count_nonzero', 'cov', 'cross', 'csingle', 'ctypeslib', 'cumprod', 'cumproduct', 'cumsum', 'datetime64', 'datetime_as_string', 'datetime_data', 'deg2rad', 'degrees', 'delete', 'deprecate', 'deprecate_with_doc', 'diag', 'diag_indices', 'diag_indices_from', 'diagflat', 'diagonal', 'diff', 'digitize', 'disp', 'divide', 'divmod', 'dot', 'double', 'dsplit', 'dstack', 'dtype', 'e', 'ediff1d', 'einsum', 'einsum_path', 'emath', 'empty', 'empty_like', 'equal', 'errstate', 'euler_gamma', 'exp', 'exp2', 'expand_dims', 'expm1', 'extract', 'eye', 'fabs', 'fastCopyAndTranspose', 'fft', 'fill_diagonal', 'find_common_type', 'finfo', 'fix', 'flatiter', 'flatnonzero', 'flexible', 'flip', 'fliplr', 'flipud', 'float', 'float16', 'float32', 'float64', 'float_', 'float_power', 'floating', 'floor', 'floor_divide', 'fmax', 'fmin', 'fmod', 'format_float_positional', 'format_float_scientific', 'format_parser', 'frexp', 'frombuffer', 'fromfile', 'fromfunction', 'fromiter', 'frompyfunc', 'fromregex', 'fromstring', 'full', 'full_like', 'fv', 'gcd', 'generic', 'genfromtxt', 'geomspace', 'get_array_wrap', 'get_include', 'get_printoptions', 'getbufsize', 'geterr', 'geterrcall', 'geterrobj', 'gradient', 'greater', 'greater_equal', 'half', 'hamming', 'hanning', 'heaviside', 'histogram', 'histogram2d', 'histogram_bin_edges', 'histogramdd', 'hsplit', 'hstack', 'hypot', 'i0', 'identity', 'iinfo', 'imag', 'in1d', 'index_exp', 'indices', 'inexact', 'inf', 'info', 'infty', 'inner', 'insert', 'int', 'int0', 'int16', 'int32', 'int64', 'int8', 'int_', 'intc', 'integer', 'interp', 'intersect1d', 'intp', 'invert', 'ipmt', 'irr', 'is_busday', 'isclose', 'iscomplex', 'iscomplexobj', 'isfinite', 'isfortran', 'isin', 'isinf', 'isnan', 'isnat', 'isneginf', 'isposinf', 'isreal', 'isrealobj', 'isscalar', 'issctype', 'issubclass_', 'issubdtype', 'issubsctype', 'iterable', 'ix_', 'kaiser', 'kron', 'lcm', 'ldexp', 'left_shift', 'less', 'less_equal', 'lexsort', 'lib', 'linalg', 'linspace', 'little_endian', 'load', 'loads', 'loadtxt', 'log', 'log10', 'log1p', 'log2', 'logaddexp', 'logaddexp2', 'logical_and', 'logical_not', 'logical_or', 'logical_xor', 'logspace', 'long', 'longcomplex', 'longdouble', 'longfloat', 'longlong', 'lookfor', 'ma', 'mafromtxt', 'mask_indices', 'mat', 'math', 'matmul', 'matrix', 'matrixlib', 'max', 'maximum', 'maximum_sctype', 'may_share_memory', 'mean', 'median', 'memmap', 'meshgrid', 'mgrid', 'min', 'min_scalar_type', 'minimum', 'mintypecode', 'mirr', 'mkl', 'mod', 'modf', 'moveaxis', 'msort', 'multiply', 'nan', 'nan_to_num', 'nanargmax', 'nanargmin', 'nancumprod', 'nancumsum', 'nanmax', 'nanmean', 'nanmedian', 'nanmin', 'nanpercentile', 'nanprod', 'nanquantile', 'nanstd', 'nansum', 'nanvar', 'nbytes', 'ndarray', 'ndenumerate', 'ndfromtxt', 'ndim', 'ndindex', 'nditer', 'negative', 'nested_iters', 'newaxis', 'nextafter', 'nonzero', 'not_equal', 'nper', 'npv', 'numarray', 'number', 'obj2sctype', 'object', 'object0', 'object_', 'ogrid', 'oldnumeric', 'ones', 'ones_like', 'os', 'outer', 'packbits', 'pad', 'partition', 'percentile', 'pi', 'piecewise', 'place', 'pmt', 'poly', 'poly1d', 'polyadd', 'polyder', 'polydiv', 'polyfit', 'polyint', 'polymul', 'polynomial', 'polysub', 'polyval', 'positive', 'power', 'ppmt', 'printoptions', 'prod', 'product', 'promote_types', 'ptp', 'put', 'put_along_axis', 'putmask', 'pv', 'quantile', 'r_', 'rad2deg', 'radians', 'random', 'rate', 'ravel', 'ravel_multi_index', 'real', 'real_if_close', 'rec', 'recarray', 'recfromcsv', 'recfromtxt', 'reciprocal', 'record', 'remainder', 'repeat', 'require', 'reshape', 'resize', 'result_type', 'right_shift', 'rint', 'roll', 'rollaxis', 'roots', 'rot90', 'round', 'round_', 'row_stack', 's_', 'safe_eval', 'save', 'savetxt', 'savez', 'savez_compressed', 'sctype2char', 'sctypeDict', 'sctypeNA', 'sctypes', 'searchsorted', 'select', 'set_numeric_ops', 'set_printoptions', 'set_string_function', 'setbufsize', 'setdiff1d', 'seterr', 'seterrcall', 'seterrobj', 'setxor1d', 'shape', 'shares_memory', 'short', 'show_config', 'sign', 'signbit', 'signedinteger', 'sin', 'sinc', 'single', 'singlecomplex', 'sinh', 'size', 'sometrue', 'sort', 'sort_complex', 'source', 'spacing', 'split', 'sqrt', 'square', 'squeeze', 'stack', 'std', 'str', 'str0', 'str_', 'string_', 'subtract', 'sum', 'swapaxes', 'sys', 'take', 'take_along_axis', 'tan', 'tanh', 'tensordot', 'test', 'testing', 'tile', 'timedelta64', 'trace', 'tracemalloc_domain', 'transpose', 'trapz', 'tri', 'tril', 'tril_indices', 'tril_indices_from', 'trim_zeros', 'triu', 'triu_indices', 'triu_indices_from', 'true_divide', 'trunc', 'typeDict', 'typeNA', 'typecodes', 'typename', 'ubyte', 'ufunc', 'uint', 'uint0', 'uint16', 'uint32', 'uint64', 'uint8', 'uintc', 'uintp', 'ulonglong', 'unicode', 'unicode_', 'union1d', 'unique', 'unpackbits', 'unravel_index', 'unsignedinteger', 'unwrap', 'use_hugepage', 'ushort', 'vander', 'var', 'vdot', 'vectorize', 'version', 'void', 'void0', 'vsplit', 'vstack', 'warnings', 'where', 'who', 'zeros', 'zeros_like']\n",
      "[12 23 34 45 56]\n",
      "[ 2  3  4  5  6 10 20 30 40 50]\n",
      "<module 'numpy' from 'C:\\\\Users\\\\richard.robles\\\\Anaconda3\\\\envs\\\\TechExercise\\\\lib\\\\site-packages\\\\numpy\\\\__init__.py'>\n",
      "2\n",
      "20\n",
      "(4, 5)\n",
      "[[ 0  1  2  3  4]\n",
      " [ 5  6  7  8  9]\n",
      " [10 11 12 13 14]\n",
      " [15 16 17 18 19]]\n",
      "13\n",
      "[[False False False False False]\n",
      " [False False False False False]\n",
      " [False  True  True  True  True]\n",
      " [ True  True  True  True  True]]\n",
      "[[0 1 0 1 0]\n",
      " [1 0 1 0 1]\n",
      " [0 1 0 1 0]\n",
      " [1 0 1 0 1]]\n",
      "[]\n",
      "np array is [[20 21 22 23 24 25 26 27 28 29]\n",
      " [30 31 32 33 34 35 36 37 38 39]\n",
      " [40 41 42 43 44 45 46 47 48 49]\n",
      " [50 51 52 53 54 55 56 57 58 59]\n",
      " [60 61 62 63 64 65 66 67 68 69]\n",
      " [70 71 72 73 74 75 76 77 78 79]]\n",
      "np array is [[22 23]\n",
      " [32 33]\n",
      " [42 43]]\n",
      "np array is [[ 0  1  2  3  4  5  6  7  8  9]\n",
      " [20 21 22 23 24 25 26 27 28 29]\n",
      " [40 41 42 43 44 45 46 47 48 49]\n",
      " [60 61 62 63 64 65 66 67 68 69]\n",
      " [80 81 82 83 84 85 86 87 88 89]]\n",
      "[[20 21 22 23 24 25 26 27 28 29]\n",
      " [30 31 32 33 34 35 36 37 38 39]\n",
      " [40 41 42 43 44 45 46 47 48 49]\n",
      " [50 51 52 53 54 55 56 57 58 59]\n",
      " [60 61 62 63 64 65 66 67 68 69]\n",
      " [70 71 72 73 74 75 76 77 78 79]]\n",
      "[[22 23]\n",
      " [32 33]\n",
      " [42 43]]\n",
      "[[ 0  1  2  3  4  5  6  7  8  9]\n",
      " [20 21 22 23 24 25 26 27 28 29]\n",
      " [40 41 42 43 44 45 46 47 48 49]\n",
      " [60 61 62 63 64 65 66 67 68 69]\n",
      " [80 81 82 83 84 85 86 87 88 89]]\n",
      "False\n"
     ]
    },
    {
     "name": "stderr",
     "output_type": "stream",
     "text": [
      "<ipython-input-16-ac5e8fd44371>:61: DeprecationWarning: elementwise comparison failed; this will raise an error in the future.\n",
      "  print((a == b))\n"
     ]
    }
   ],
   "source": [
    "import numpy as np\n",
    "\n",
    "np.abs(-999)\n",
    "\n",
    "lista = [1, 2, 3, 4, 5, 6, 7, 800, 4375, 326432]\n",
    "\n",
    "np_array = np.array(lista)\n",
    "\n",
    "print(np_array)\n",
    "\n",
    "print(type(np_array))\n",
    "\n",
    "print(np.sum(np_array))\n",
    "print(np.prod(np_array))\n",
    "print(np.min(np_array))\n",
    "print(np.max(np_array))\n",
    "print(3 * np_array)\n",
    "print(1 / np_array)\n",
    "lista = [0.5, 0.2, 0.1, 0.4]\n",
    "np_array = np.array(lista)\n",
    "\n",
    "np.exp(-1)\n",
    "1 / (1 + np.exp(-np_array))\n",
    "a = [2, 3, 4, 5, 6]\n",
    "b = [10, 20, 30, 40, 50]\n",
    "a_np = np.array(a)\n",
    "b_np = np.array(b)\n",
    "suma = a_np + b_np\n",
    "print(dir(np))\n",
    "\n",
    "print(a_np + b_np)\n",
    "print(np.concatenate([a_np, b_np]))\n",
    "a = np.arange(0, 1, 0.1)\n",
    "b = np.linspace(0, 1.1, 20)\n",
    "c = np.random.normal(0, 1, 10)\n",
    "\n",
    "\n",
    "print(np)\n",
    "array = np.array(range(20))\n",
    "matrix = array.reshape((4,5))\n",
    "print(matrix.ndim)\n",
    "print(matrix.size)\n",
    "print(matrix.shape)\n",
    "print(matrix)\n",
    "print(matrix[2,3])\n",
    "print(matrix > 10)\n",
    "print(matrix % 2)\n",
    "print(np_array[np_array % 2 == 0])\n",
    "np_array = np.array(range(100)).reshape(10,10)\n",
    "print(\"np array is\",np_array[2:8,:])\n",
    "print(\"np array is\",np_array[2:5,2:4])\n",
    "print(\"np array is\",np_array[::2])\n",
    "np_array = np.array(range(100)).reshape(10,10)\n",
    "print(np_array[2:8,:])\n",
    "print(np_array[2:5,2:4])\n",
    "print(np_array[::2])\n",
    "A = np.array([1,2,3,4,5])\n",
    "\n",
    "B = np.array([2,1,3,4,5])\n",
    "\n",
    "print((a == b))\n",
    "\n"
   ]
  },
  {
   "cell_type": "code",
   "execution_count": 17,
   "metadata": {},
   "outputs": [
    {
     "name": "stdout",
     "output_type": "stream",
     "text": [
      "<class 'numpy.ndarray'>\n",
      "0     Bulbazor\n",
      "1     Squirtle\n",
      "2    Charizard\n",
      "3      Pikachu\n",
      "4         Onix\n",
      "5      Geodude\n",
      "6       Vulpix\n",
      "7      Starmie\n",
      "Name: pokemon, dtype: object\n",
      "<class 'pandas.core.series.Series'>\n",
      "121\n",
      "Index(['pokemon', 'master', 'types', 'pokedex_number'], dtype='object')\n"
     ]
    },
    {
     "data": {
      "text/plain": "     pokemon master              types  pokedex_number envolved region\n0   Bulbazor    Ash  regardless Poison               1      Yes  Kanto\n1   Squirtle    Ash              Water               4       No  Kanto\n2  Charizard    Ash               Fire               7      Yes  Kanto\n3    Pikachu    Ash           Electric              25       No  Kanto\n4       Onix  Brock        Rock Ground              95      Yes  Kanto\n5    Geodude  Brock   row_stack ground              74       No  Kanto\n6     Vulpix  Misty               Fire              37      Yes  Kanto\n7    Starmie  Misty              Water             121       No  Kanto",
      "text/html": "<div>\n<style scoped>\n    .dataframe tbody tr th:only-of-type {\n        vertical-align: middle;\n    }\n\n    .dataframe tbody tr th {\n        vertical-align: top;\n    }\n\n    .dataframe thead th {\n        text-align: right;\n    }\n</style>\n<table border=\"1\" class=\"dataframe\">\n  <thead>\n    <tr style=\"text-align: right;\">\n      <th></th>\n      <th>pokemon</th>\n      <th>master</th>\n      <th>types</th>\n      <th>pokedex_number</th>\n      <th>envolved</th>\n      <th>region</th>\n    </tr>\n  </thead>\n  <tbody>\n    <tr>\n      <th>0</th>\n      <td>Bulbazor</td>\n      <td>Ash</td>\n      <td>regardless Poison</td>\n      <td>1</td>\n      <td>Yes</td>\n      <td>Kanto</td>\n    </tr>\n    <tr>\n      <th>1</th>\n      <td>Squirtle</td>\n      <td>Ash</td>\n      <td>Water</td>\n      <td>4</td>\n      <td>No</td>\n      <td>Kanto</td>\n    </tr>\n    <tr>\n      <th>2</th>\n      <td>Charizard</td>\n      <td>Ash</td>\n      <td>Fire</td>\n      <td>7</td>\n      <td>Yes</td>\n      <td>Kanto</td>\n    </tr>\n    <tr>\n      <th>3</th>\n      <td>Pikachu</td>\n      <td>Ash</td>\n      <td>Electric</td>\n      <td>25</td>\n      <td>No</td>\n      <td>Kanto</td>\n    </tr>\n    <tr>\n      <th>4</th>\n      <td>Onix</td>\n      <td>Brock</td>\n      <td>Rock Ground</td>\n      <td>95</td>\n      <td>Yes</td>\n      <td>Kanto</td>\n    </tr>\n    <tr>\n      <th>5</th>\n      <td>Geodude</td>\n      <td>Brock</td>\n      <td>row_stack ground</td>\n      <td>74</td>\n      <td>No</td>\n      <td>Kanto</td>\n    </tr>\n    <tr>\n      <th>6</th>\n      <td>Vulpix</td>\n      <td>Misty</td>\n      <td>Fire</td>\n      <td>37</td>\n      <td>Yes</td>\n      <td>Kanto</td>\n    </tr>\n    <tr>\n      <th>7</th>\n      <td>Starmie</td>\n      <td>Misty</td>\n      <td>Water</td>\n      <td>121</td>\n      <td>No</td>\n      <td>Kanto</td>\n    </tr>\n  </tbody>\n</table>\n</div>"
     },
     "execution_count": 17,
     "metadata": {},
     "output_type": "execute_result"
    }
   ],
   "source": [
    "import pandas as pd\n",
    "\n",
    "pokemon = [\"Bulbazor\",\"Squirtle\",\"Charizard\",\"Pikachu\",\"Onix\",\"Geodude\",\"Vulpix\",\"Starmie\"]\n",
    "types = [\"regardless Poison\",\"Water\",\"Fire\",\"Electric\",\"Rock Ground\",\"row_stack ground\",\"Fire\",\"Water\"]\n",
    "master = [\"Ash\",\"Ash\",\"Ash\",\"Ash\",\"Brock\",\"Brock\",\"Misty\",\"Misty\"]\n",
    "pokedex_number = [1,4, 7, 25, 95, 74, 37, 121]\n",
    "\n",
    "\"\"\" data_frame = pd.DataFrame({pokemon: pokemon, master:master, types: types, pokedex_number: pokedex_number}) \"\"\"\n",
    "data_frame = pd.DataFrame({\"pokemon\":pokemon, \"master\":master, \"types\":types, \"pokedex_number\":pokedex_number})\n",
    "\n",
    "print(type(data_frame.values))\n",
    "\n",
    "print(data_frame['pokemon'])\n",
    "print(type(data_frame['pokemon']))\n",
    "print(data_frame['pokedex_number'].max())\n",
    "print(data_frame.columns)\n",
    "data_frame.loc[3, 'types']\n",
    "\n",
    "envolved = [\"Yes\",\"No\",\"Yes\",\"No\",\"Yes\",\"No\",\"Yes\",\"No\"]\n",
    "\n",
    "data_frame['envolved'] = envolved\n",
    "\n",
    "\n",
    "data_frame\n",
    "\n",
    "# una serie con un valor constante o broadcasting\n",
    "data_frame['region'] = \"Kanto\"\n",
    "\n",
    "data_frame"
   ]
  },
  {
   "cell_type": "code",
   "execution_count": 18,
   "metadata": {},
   "outputs": [
    {
     "data": {
      "text/plain": "     pokemon              types\n0   Bulbazor  regardless Poison\n1   Squirtle              Water\n2  Charizard               Fire\n3    Pikachu           Electric\n4       Onix        Rock Ground\n5    Geodude   row_stack ground\n6     Vulpix               Fire\n7    Starmie              Water",
      "text/html": "<div>\n<style scoped>\n    .dataframe tbody tr th:only-of-type {\n        vertical-align: middle;\n    }\n\n    .dataframe tbody tr th {\n        vertical-align: top;\n    }\n\n    .dataframe thead th {\n        text-align: right;\n    }\n</style>\n<table border=\"1\" class=\"dataframe\">\n  <thead>\n    <tr style=\"text-align: right;\">\n      <th></th>\n      <th>pokemon</th>\n      <th>types</th>\n    </tr>\n  </thead>\n  <tbody>\n    <tr>\n      <th>0</th>\n      <td>Bulbazor</td>\n      <td>regardless Poison</td>\n    </tr>\n    <tr>\n      <th>1</th>\n      <td>Squirtle</td>\n      <td>Water</td>\n    </tr>\n    <tr>\n      <th>2</th>\n      <td>Charizard</td>\n      <td>Fire</td>\n    </tr>\n    <tr>\n      <th>3</th>\n      <td>Pikachu</td>\n      <td>Electric</td>\n    </tr>\n    <tr>\n      <th>4</th>\n      <td>Onix</td>\n      <td>Rock Ground</td>\n    </tr>\n    <tr>\n      <th>5</th>\n      <td>Geodude</td>\n      <td>row_stack ground</td>\n    </tr>\n    <tr>\n      <th>6</th>\n      <td>Vulpix</td>\n      <td>Fire</td>\n    </tr>\n    <tr>\n      <th>7</th>\n      <td>Starmie</td>\n      <td>Water</td>\n    </tr>\n  </tbody>\n</table>\n</div>"
     },
     "execution_count": 18,
     "metadata": {},
     "output_type": "execute_result"
    }
   ],
   "source": [
    "data_frame[['pokemon', 'types']]"
   ]
  },
  {
   "cell_type": "code",
   "execution_count": 19,
   "metadata": {},
   "outputs": [
    {
     "name": "stdout",
     "output_type": "stream",
     "text": [
      "     pokemon              types\n",
      "0   Bulbazor  regardless Poison\n",
      "1   Squirtle              Water\n",
      "2  Charizard               Fire\n",
      "3    Pikachu           Electric\n",
      "4       Onix        Rock Ground\n",
      "5    Geodude   row_stack ground\n",
      "6     Vulpix               Fire\n",
      "7    Starmie              Water\n"
     ]
    }
   ],
   "source": [
    "print(data_frame.get(['pokemon','types']))\n"
   ]
  },
  {
   "cell_type": "code",
   "execution_count": 20,
   "metadata": {},
   "outputs": [
    {
     "data": {
      "text/plain": "     pokemon master              types  pokedex_number envolved\n0   Bulbazor    Ash  regardless Poison               1      Yes\n1   Squirtle    Ash              Water               4       No\n2  Charizard    Ash               Fire               7      Yes\n3    Pikachu    Ash           Electric              25       No\n4       Onix  Brock        Rock Ground              95      Yes\n5    Geodude  Brock   row_stack ground              74       No\n6     Vulpix  Misty               Fire              37      Yes\n7    Starmie  Misty              Water             121       No",
      "text/html": "<div>\n<style scoped>\n    .dataframe tbody tr th:only-of-type {\n        vertical-align: middle;\n    }\n\n    .dataframe tbody tr th {\n        vertical-align: top;\n    }\n\n    .dataframe thead th {\n        text-align: right;\n    }\n</style>\n<table border=\"1\" class=\"dataframe\">\n  <thead>\n    <tr style=\"text-align: right;\">\n      <th></th>\n      <th>pokemon</th>\n      <th>master</th>\n      <th>types</th>\n      <th>pokedex_number</th>\n      <th>envolved</th>\n    </tr>\n  </thead>\n  <tbody>\n    <tr>\n      <th>0</th>\n      <td>Bulbazor</td>\n      <td>Ash</td>\n      <td>regardless Poison</td>\n      <td>1</td>\n      <td>Yes</td>\n    </tr>\n    <tr>\n      <th>1</th>\n      <td>Squirtle</td>\n      <td>Ash</td>\n      <td>Water</td>\n      <td>4</td>\n      <td>No</td>\n    </tr>\n    <tr>\n      <th>2</th>\n      <td>Charizard</td>\n      <td>Ash</td>\n      <td>Fire</td>\n      <td>7</td>\n      <td>Yes</td>\n    </tr>\n    <tr>\n      <th>3</th>\n      <td>Pikachu</td>\n      <td>Ash</td>\n      <td>Electric</td>\n      <td>25</td>\n      <td>No</td>\n    </tr>\n    <tr>\n      <th>4</th>\n      <td>Onix</td>\n      <td>Brock</td>\n      <td>Rock Ground</td>\n      <td>95</td>\n      <td>Yes</td>\n    </tr>\n    <tr>\n      <th>5</th>\n      <td>Geodude</td>\n      <td>Brock</td>\n      <td>row_stack ground</td>\n      <td>74</td>\n      <td>No</td>\n    </tr>\n    <tr>\n      <th>6</th>\n      <td>Vulpix</td>\n      <td>Misty</td>\n      <td>Fire</td>\n      <td>37</td>\n      <td>Yes</td>\n    </tr>\n    <tr>\n      <th>7</th>\n      <td>Starmie</td>\n      <td>Misty</td>\n      <td>Water</td>\n      <td>121</td>\n      <td>No</td>\n    </tr>\n  </tbody>\n</table>\n</div>"
     },
     "execution_count": 20,
     "metadata": {},
     "output_type": "execute_result"
    }
   ],
   "source": [
    "data_frame.drop('region', axis = 1)"
   ]
  },
  {
   "cell_type": "markdown",
   "metadata": {},
   "source": [
    "ORDERNAR COLUMNAS USANDO O CON DOBLE CORCHETE"
   ]
  },
  {
   "cell_type": "code",
   "execution_count": 21,
   "metadata": {},
   "outputs": [
    {
     "data": {
      "text/plain": "  envolved    pokemon\n0      Yes   Bulbazor\n1       No   Squirtle\n2      Yes  Charizard\n3       No    Pikachu\n4      Yes       Onix\n5       No    Geodude\n6      Yes     Vulpix\n7       No    Starmie",
      "text/html": "<div>\n<style scoped>\n    .dataframe tbody tr th:only-of-type {\n        vertical-align: middle;\n    }\n\n    .dataframe tbody tr th {\n        vertical-align: top;\n    }\n\n    .dataframe thead th {\n        text-align: right;\n    }\n</style>\n<table border=\"1\" class=\"dataframe\">\n  <thead>\n    <tr style=\"text-align: right;\">\n      <th></th>\n      <th>envolved</th>\n      <th>pokemon</th>\n    </tr>\n  </thead>\n  <tbody>\n    <tr>\n      <th>0</th>\n      <td>Yes</td>\n      <td>Bulbazor</td>\n    </tr>\n    <tr>\n      <th>1</th>\n      <td>No</td>\n      <td>Squirtle</td>\n    </tr>\n    <tr>\n      <th>2</th>\n      <td>Yes</td>\n      <td>Charizard</td>\n    </tr>\n    <tr>\n      <th>3</th>\n      <td>No</td>\n      <td>Pikachu</td>\n    </tr>\n    <tr>\n      <th>4</th>\n      <td>Yes</td>\n      <td>Onix</td>\n    </tr>\n    <tr>\n      <th>5</th>\n      <td>No</td>\n      <td>Geodude</td>\n    </tr>\n    <tr>\n      <th>6</th>\n      <td>Yes</td>\n      <td>Vulpix</td>\n    </tr>\n    <tr>\n      <th>7</th>\n      <td>No</td>\n      <td>Starmie</td>\n    </tr>\n  </tbody>\n</table>\n</div>"
     },
     "execution_count": 21,
     "metadata": {},
     "output_type": "execute_result"
    }
   ],
   "source": [
    "data_frame[['envolved', \"pokemon\"]]"
   ]
  },
  {
   "cell_type": "code",
   "execution_count": 22,
   "metadata": {},
   "outputs": [
    {
     "data": {
      "text/plain": "pokemon                    Geodude\nmaster                       Brock\ntypes             row_stack ground\npokedex_number                  74\nenvolved                        No\nregion                       Kanto\nName: 5, dtype: object"
     },
     "execution_count": 22,
     "metadata": {},
     "output_type": "execute_result"
    }
   ],
   "source": [
    "data_frame.loc[5]"
   ]
  },
  {
   "cell_type": "code",
   "execution_count": 23,
   "metadata": {},
   "outputs": [
    {
     "data": {
      "text/plain": "     pokemon master              types  pokedex_number envolved region\n0   Bulbazor    Ash  regardless Poison               1      Yes  Kanto\n2  Charizard    Ash               Fire               7      Yes  Kanto\n3    Pikachu    Ash           Electric              25       No  Kanto\n4       Onix  Brock        Rock Ground              95      Yes  Kanto\n5    Geodude  Brock   row_stack ground              74       No  Kanto\n6     Vulpix  Misty               Fire              37      Yes  Kanto\n7    Starmie  Misty              Water             121       No  Kanto",
      "text/html": "<div>\n<style scoped>\n    .dataframe tbody tr th:only-of-type {\n        vertical-align: middle;\n    }\n\n    .dataframe tbody tr th {\n        vertical-align: top;\n    }\n\n    .dataframe thead th {\n        text-align: right;\n    }\n</style>\n<table border=\"1\" class=\"dataframe\">\n  <thead>\n    <tr style=\"text-align: right;\">\n      <th></th>\n      <th>pokemon</th>\n      <th>master</th>\n      <th>types</th>\n      <th>pokedex_number</th>\n      <th>envolved</th>\n      <th>region</th>\n    </tr>\n  </thead>\n  <tbody>\n    <tr>\n      <th>0</th>\n      <td>Bulbazor</td>\n      <td>Ash</td>\n      <td>regardless Poison</td>\n      <td>1</td>\n      <td>Yes</td>\n      <td>Kanto</td>\n    </tr>\n    <tr>\n      <th>2</th>\n      <td>Charizard</td>\n      <td>Ash</td>\n      <td>Fire</td>\n      <td>7</td>\n      <td>Yes</td>\n      <td>Kanto</td>\n    </tr>\n    <tr>\n      <th>3</th>\n      <td>Pikachu</td>\n      <td>Ash</td>\n      <td>Electric</td>\n      <td>25</td>\n      <td>No</td>\n      <td>Kanto</td>\n    </tr>\n    <tr>\n      <th>4</th>\n      <td>Onix</td>\n      <td>Brock</td>\n      <td>Rock Ground</td>\n      <td>95</td>\n      <td>Yes</td>\n      <td>Kanto</td>\n    </tr>\n    <tr>\n      <th>5</th>\n      <td>Geodude</td>\n      <td>Brock</td>\n      <td>row_stack ground</td>\n      <td>74</td>\n      <td>No</td>\n      <td>Kanto</td>\n    </tr>\n    <tr>\n      <th>6</th>\n      <td>Vulpix</td>\n      <td>Misty</td>\n      <td>Fire</td>\n      <td>37</td>\n      <td>Yes</td>\n      <td>Kanto</td>\n    </tr>\n    <tr>\n      <th>7</th>\n      <td>Starmie</td>\n      <td>Misty</td>\n      <td>Water</td>\n      <td>121</td>\n      <td>No</td>\n      <td>Kanto</td>\n    </tr>\n  </tbody>\n</table>\n</div>"
     },
     "execution_count": 23,
     "metadata": {},
     "output_type": "execute_result"
    }
   ],
   "source": [
    "data_frame.drop(1)"
   ]
  },
  {
   "cell_type": "markdown",
   "metadata": {},
   "source": [
    "Para leer desde archivos \n",
    "es con: "
   ]
  },
  {
   "cell_type": "code",
   "execution_count": 24,
   "metadata": {},
   "outputs": [
    {
     "data": {
      "text/plain": "    school sex  age address famsize Pstatus  Medu  Fedu      Mjob      Fjob  \\\n0       GP   F   18       U     GT3       A     4     4   at_home   teacher   \n1       GP   F   17       U     GT3       T     1     1   at_home     other   \n2       GP   F   15       U     LE3       T     1     1   at_home     other   \n3       GP   F   15       U     GT3       T     4     2    health  services   \n4       GP   F   16       U     GT3       T     3     3     other     other   \n..     ...  ..  ...     ...     ...     ...   ...   ...       ...       ...   \n390     MS   M   20       U     LE3       A     2     2  services  services   \n391     MS   M   17       U     LE3       T     3     1  services  services   \n392     MS   M   21       R     GT3       T     1     1     other     other   \n393     MS   M   18       R     LE3       T     3     2  services     other   \n394     MS   M   19       U     LE3       T     1     1     other   at_home   \n\n     ... famrel freetime  goout  Dalc  Walc health absences  G1  G2  G3  \n0    ...      4        3      4     1     1      3        6   5   6   6  \n1    ...      5        3      3     1     1      3        4   5   5   6  \n2    ...      4        3      2     2     3      3       10   7   8  10  \n3    ...      3        2      2     1     1      5        2  15  14  15  \n4    ...      4        3      2     1     2      5        4   6  10  10  \n..   ...    ...      ...    ...   ...   ...    ...      ...  ..  ..  ..  \n390  ...      5        5      4     4     5      4       11   9   9   9  \n391  ...      2        4      5     3     4      2        3  14  16  16  \n392  ...      5        5      3     3     3      3        3  10   8   7  \n393  ...      4        4      1     3     4      5        0  11  12  10  \n394  ...      3        2      3     3     3      5        5   8   9   9  \n\n[395 rows x 33 columns]",
      "text/html": "<div>\n<style scoped>\n    .dataframe tbody tr th:only-of-type {\n        vertical-align: middle;\n    }\n\n    .dataframe tbody tr th {\n        vertical-align: top;\n    }\n\n    .dataframe thead th {\n        text-align: right;\n    }\n</style>\n<table border=\"1\" class=\"dataframe\">\n  <thead>\n    <tr style=\"text-align: right;\">\n      <th></th>\n      <th>school</th>\n      <th>sex</th>\n      <th>age</th>\n      <th>address</th>\n      <th>famsize</th>\n      <th>Pstatus</th>\n      <th>Medu</th>\n      <th>Fedu</th>\n      <th>Mjob</th>\n      <th>Fjob</th>\n      <th>...</th>\n      <th>famrel</th>\n      <th>freetime</th>\n      <th>goout</th>\n      <th>Dalc</th>\n      <th>Walc</th>\n      <th>health</th>\n      <th>absences</th>\n      <th>G1</th>\n      <th>G2</th>\n      <th>G3</th>\n    </tr>\n  </thead>\n  <tbody>\n    <tr>\n      <th>0</th>\n      <td>GP</td>\n      <td>F</td>\n      <td>18</td>\n      <td>U</td>\n      <td>GT3</td>\n      <td>A</td>\n      <td>4</td>\n      <td>4</td>\n      <td>at_home</td>\n      <td>teacher</td>\n      <td>...</td>\n      <td>4</td>\n      <td>3</td>\n      <td>4</td>\n      <td>1</td>\n      <td>1</td>\n      <td>3</td>\n      <td>6</td>\n      <td>5</td>\n      <td>6</td>\n      <td>6</td>\n    </tr>\n    <tr>\n      <th>1</th>\n      <td>GP</td>\n      <td>F</td>\n      <td>17</td>\n      <td>U</td>\n      <td>GT3</td>\n      <td>T</td>\n      <td>1</td>\n      <td>1</td>\n      <td>at_home</td>\n      <td>other</td>\n      <td>...</td>\n      <td>5</td>\n      <td>3</td>\n      <td>3</td>\n      <td>1</td>\n      <td>1</td>\n      <td>3</td>\n      <td>4</td>\n      <td>5</td>\n      <td>5</td>\n      <td>6</td>\n    </tr>\n    <tr>\n      <th>2</th>\n      <td>GP</td>\n      <td>F</td>\n      <td>15</td>\n      <td>U</td>\n      <td>LE3</td>\n      <td>T</td>\n      <td>1</td>\n      <td>1</td>\n      <td>at_home</td>\n      <td>other</td>\n      <td>...</td>\n      <td>4</td>\n      <td>3</td>\n      <td>2</td>\n      <td>2</td>\n      <td>3</td>\n      <td>3</td>\n      <td>10</td>\n      <td>7</td>\n      <td>8</td>\n      <td>10</td>\n    </tr>\n    <tr>\n      <th>3</th>\n      <td>GP</td>\n      <td>F</td>\n      <td>15</td>\n      <td>U</td>\n      <td>GT3</td>\n      <td>T</td>\n      <td>4</td>\n      <td>2</td>\n      <td>health</td>\n      <td>services</td>\n      <td>...</td>\n      <td>3</td>\n      <td>2</td>\n      <td>2</td>\n      <td>1</td>\n      <td>1</td>\n      <td>5</td>\n      <td>2</td>\n      <td>15</td>\n      <td>14</td>\n      <td>15</td>\n    </tr>\n    <tr>\n      <th>4</th>\n      <td>GP</td>\n      <td>F</td>\n      <td>16</td>\n      <td>U</td>\n      <td>GT3</td>\n      <td>T</td>\n      <td>3</td>\n      <td>3</td>\n      <td>other</td>\n      <td>other</td>\n      <td>...</td>\n      <td>4</td>\n      <td>3</td>\n      <td>2</td>\n      <td>1</td>\n      <td>2</td>\n      <td>5</td>\n      <td>4</td>\n      <td>6</td>\n      <td>10</td>\n      <td>10</td>\n    </tr>\n    <tr>\n      <th>...</th>\n      <td>...</td>\n      <td>...</td>\n      <td>...</td>\n      <td>...</td>\n      <td>...</td>\n      <td>...</td>\n      <td>...</td>\n      <td>...</td>\n      <td>...</td>\n      <td>...</td>\n      <td>...</td>\n      <td>...</td>\n      <td>...</td>\n      <td>...</td>\n      <td>...</td>\n      <td>...</td>\n      <td>...</td>\n      <td>...</td>\n      <td>...</td>\n      <td>...</td>\n      <td>...</td>\n    </tr>\n    <tr>\n      <th>390</th>\n      <td>MS</td>\n      <td>M</td>\n      <td>20</td>\n      <td>U</td>\n      <td>LE3</td>\n      <td>A</td>\n      <td>2</td>\n      <td>2</td>\n      <td>services</td>\n      <td>services</td>\n      <td>...</td>\n      <td>5</td>\n      <td>5</td>\n      <td>4</td>\n      <td>4</td>\n      <td>5</td>\n      <td>4</td>\n      <td>11</td>\n      <td>9</td>\n      <td>9</td>\n      <td>9</td>\n    </tr>\n    <tr>\n      <th>391</th>\n      <td>MS</td>\n      <td>M</td>\n      <td>17</td>\n      <td>U</td>\n      <td>LE3</td>\n      <td>T</td>\n      <td>3</td>\n      <td>1</td>\n      <td>services</td>\n      <td>services</td>\n      <td>...</td>\n      <td>2</td>\n      <td>4</td>\n      <td>5</td>\n      <td>3</td>\n      <td>4</td>\n      <td>2</td>\n      <td>3</td>\n      <td>14</td>\n      <td>16</td>\n      <td>16</td>\n    </tr>\n    <tr>\n      <th>392</th>\n      <td>MS</td>\n      <td>M</td>\n      <td>21</td>\n      <td>R</td>\n      <td>GT3</td>\n      <td>T</td>\n      <td>1</td>\n      <td>1</td>\n      <td>other</td>\n      <td>other</td>\n      <td>...</td>\n      <td>5</td>\n      <td>5</td>\n      <td>3</td>\n      <td>3</td>\n      <td>3</td>\n      <td>3</td>\n      <td>3</td>\n      <td>10</td>\n      <td>8</td>\n      <td>7</td>\n    </tr>\n    <tr>\n      <th>393</th>\n      <td>MS</td>\n      <td>M</td>\n      <td>18</td>\n      <td>R</td>\n      <td>LE3</td>\n      <td>T</td>\n      <td>3</td>\n      <td>2</td>\n      <td>services</td>\n      <td>other</td>\n      <td>...</td>\n      <td>4</td>\n      <td>4</td>\n      <td>1</td>\n      <td>3</td>\n      <td>4</td>\n      <td>5</td>\n      <td>0</td>\n      <td>11</td>\n      <td>12</td>\n      <td>10</td>\n    </tr>\n    <tr>\n      <th>394</th>\n      <td>MS</td>\n      <td>M</td>\n      <td>19</td>\n      <td>U</td>\n      <td>LE3</td>\n      <td>T</td>\n      <td>1</td>\n      <td>1</td>\n      <td>other</td>\n      <td>at_home</td>\n      <td>...</td>\n      <td>3</td>\n      <td>2</td>\n      <td>3</td>\n      <td>3</td>\n      <td>3</td>\n      <td>5</td>\n      <td>5</td>\n      <td>8</td>\n      <td>9</td>\n      <td>9</td>\n    </tr>\n  </tbody>\n</table>\n<p>395 rows × 33 columns</p>\n</div>"
     },
     "execution_count": 24,
     "metadata": {},
     "output_type": "execute_result"
    }
   ],
   "source": [
    "import pandas\n",
    "\n",
    "df = pandas.read_csv(\"https://raw.githubusercontent.com/guipsamora/pandas_exercises/master/04_Apply/Students_Alcohol_Consumption/student-mat.csv\")\n",
    "\n",
    "df"
   ]
  },
  {
   "cell_type": "code",
   "execution_count": 25,
   "metadata": {},
   "outputs": [],
   "source": [
    "import requests\n",
    "import pandas\n",
    "\n",
    "url = \"https://pokemondb.net/pokedex/all\"\n",
    "\n",
    "html_text = requests.get(url).content\n",
    "\n",
    "dfpkd = pandas.read_html(html_text)\n",
    "\n",
    "contenido = dfpkd[0]\n",
    "\n",
    "contenido.to_csv('./contenido.csv')"
   ]
  },
  {
   "cell_type": "code",
   "execution_count": 26,
   "metadata": {},
   "outputs": [
    {
     "data": {
      "text/plain": "   #                    Name          Type  Total  HP  Attack  Defense  \\\n0  1               Bulbasaur  Grass Poison    318  45      49       49   \n1  2                 Ivysaur  Grass Poison    405  60      62       63   \n2  3                Venusaur  Grass Poison    525  80      82       83   \n3  3  Venusaur Mega Venusaur  Grass Poison    625  80     100      123   \n4  4              Charmander          Fire    309  39      52       43   \n\n   Sp. Atk  Sp. Def  Speed  \n0       65       65     45  \n1       80       80     60  \n2      100      100     80  \n3      122      120     80  \n4       60       50     65  ",
      "text/html": "<div>\n<style scoped>\n    .dataframe tbody tr th:only-of-type {\n        vertical-align: middle;\n    }\n\n    .dataframe tbody tr th {\n        vertical-align: top;\n    }\n\n    .dataframe thead th {\n        text-align: right;\n    }\n</style>\n<table border=\"1\" class=\"dataframe\">\n  <thead>\n    <tr style=\"text-align: right;\">\n      <th></th>\n      <th>#</th>\n      <th>Name</th>\n      <th>Type</th>\n      <th>Total</th>\n      <th>HP</th>\n      <th>Attack</th>\n      <th>Defense</th>\n      <th>Sp. Atk</th>\n      <th>Sp. Def</th>\n      <th>Speed</th>\n    </tr>\n  </thead>\n  <tbody>\n    <tr>\n      <th>0</th>\n      <td>1</td>\n      <td>Bulbasaur</td>\n      <td>Grass Poison</td>\n      <td>318</td>\n      <td>45</td>\n      <td>49</td>\n      <td>49</td>\n      <td>65</td>\n      <td>65</td>\n      <td>45</td>\n    </tr>\n    <tr>\n      <th>1</th>\n      <td>2</td>\n      <td>Ivysaur</td>\n      <td>Grass Poison</td>\n      <td>405</td>\n      <td>60</td>\n      <td>62</td>\n      <td>63</td>\n      <td>80</td>\n      <td>80</td>\n      <td>60</td>\n    </tr>\n    <tr>\n      <th>2</th>\n      <td>3</td>\n      <td>Venusaur</td>\n      <td>Grass Poison</td>\n      <td>525</td>\n      <td>80</td>\n      <td>82</td>\n      <td>83</td>\n      <td>100</td>\n      <td>100</td>\n      <td>80</td>\n    </tr>\n    <tr>\n      <th>3</th>\n      <td>3</td>\n      <td>Venusaur Mega Venusaur</td>\n      <td>Grass Poison</td>\n      <td>625</td>\n      <td>80</td>\n      <td>100</td>\n      <td>123</td>\n      <td>122</td>\n      <td>120</td>\n      <td>80</td>\n    </tr>\n    <tr>\n      <th>4</th>\n      <td>4</td>\n      <td>Charmander</td>\n      <td>Fire</td>\n      <td>309</td>\n      <td>39</td>\n      <td>52</td>\n      <td>43</td>\n      <td>60</td>\n      <td>50</td>\n      <td>65</td>\n    </tr>\n  </tbody>\n</table>\n</div>"
     },
     "execution_count": 26,
     "metadata": {},
     "output_type": "execute_result"
    }
   ],
   "source": [
    "contenido.head()"
   ]
  },
  {
   "cell_type": "code",
   "execution_count": 27,
   "metadata": {},
   "outputs": [
    {
     "name": "stdout",
     "output_type": "stream",
     "text": [
      "<class 'pandas.core.frame.DataFrame'>\n",
      "RangeIndex: 1045 entries, 0 to 1044\n",
      "Data columns (total 10 columns):\n",
      " #   Column   Non-Null Count  Dtype \n",
      "---  ------   --------------  ----- \n",
      " 0   #        1045 non-null   int64 \n",
      " 1   Name     1045 non-null   object\n",
      " 2   Type     1045 non-null   object\n",
      " 3   Total    1045 non-null   int64 \n",
      " 4   HP       1045 non-null   int64 \n",
      " 5   Attack   1045 non-null   int64 \n",
      " 6   Defense  1045 non-null   int64 \n",
      " 7   Sp. Atk  1045 non-null   int64 \n",
      " 8   Sp. Def  1045 non-null   int64 \n",
      " 9   Speed    1045 non-null   int64 \n",
      "dtypes: int64(8), object(2)\n",
      "memory usage: 81.8+ KB\n"
     ]
    }
   ],
   "source": [
    "contenido.info()"
   ]
  },
  {
   "cell_type": "code",
   "execution_count": 28,
   "metadata": {},
   "outputs": [
    {
     "data": {
      "text/plain": "   #                    Name          Type  Total  HP  Attack  Defense  \\\n0  1               Bulbasaur  Grass Poison    318  45      49       49   \n1  2                 Ivysaur  Grass Poison    405  60      62       63   \n2  3                Venusaur  Grass Poison    525  80      82       83   \n3  3  Venusaur Mega Venusaur  Grass Poison    625  80     100      123   \n4  4              Charmander          Fire    309  39      52       43   \n\n   Sp. Atk  Sp. Def  Speed  \n0       65       65     45  \n1       80       80     60  \n2      100      100     80  \n3      122      120     80  \n4       60       50     65  ",
      "text/html": "<div>\n<style scoped>\n    .dataframe tbody tr th:only-of-type {\n        vertical-align: middle;\n    }\n\n    .dataframe tbody tr th {\n        vertical-align: top;\n    }\n\n    .dataframe thead th {\n        text-align: right;\n    }\n</style>\n<table border=\"1\" class=\"dataframe\">\n  <thead>\n    <tr style=\"text-align: right;\">\n      <th></th>\n      <th>#</th>\n      <th>Name</th>\n      <th>Type</th>\n      <th>Total</th>\n      <th>HP</th>\n      <th>Attack</th>\n      <th>Defense</th>\n      <th>Sp. Atk</th>\n      <th>Sp. Def</th>\n      <th>Speed</th>\n    </tr>\n  </thead>\n  <tbody>\n    <tr>\n      <th>0</th>\n      <td>1</td>\n      <td>Bulbasaur</td>\n      <td>Grass Poison</td>\n      <td>318</td>\n      <td>45</td>\n      <td>49</td>\n      <td>49</td>\n      <td>65</td>\n      <td>65</td>\n      <td>45</td>\n    </tr>\n    <tr>\n      <th>1</th>\n      <td>2</td>\n      <td>Ivysaur</td>\n      <td>Grass Poison</td>\n      <td>405</td>\n      <td>60</td>\n      <td>62</td>\n      <td>63</td>\n      <td>80</td>\n      <td>80</td>\n      <td>60</td>\n    </tr>\n    <tr>\n      <th>2</th>\n      <td>3</td>\n      <td>Venusaur</td>\n      <td>Grass Poison</td>\n      <td>525</td>\n      <td>80</td>\n      <td>82</td>\n      <td>83</td>\n      <td>100</td>\n      <td>100</td>\n      <td>80</td>\n    </tr>\n    <tr>\n      <th>3</th>\n      <td>3</td>\n      <td>Venusaur Mega Venusaur</td>\n      <td>Grass Poison</td>\n      <td>625</td>\n      <td>80</td>\n      <td>100</td>\n      <td>123</td>\n      <td>122</td>\n      <td>120</td>\n      <td>80</td>\n    </tr>\n    <tr>\n      <th>4</th>\n      <td>4</td>\n      <td>Charmander</td>\n      <td>Fire</td>\n      <td>309</td>\n      <td>39</td>\n      <td>52</td>\n      <td>43</td>\n      <td>60</td>\n      <td>50</td>\n      <td>65</td>\n    </tr>\n  </tbody>\n</table>\n</div>"
     },
     "execution_count": 28,
     "metadata": {},
     "output_type": "execute_result"
    }
   ],
   "source": [
    "contenido.head()"
   ]
  },
  {
   "cell_type": "code",
   "execution_count": 29,
   "metadata": {},
   "outputs": [
    {
     "data": {
      "text/plain": "0       114\n1       142\n2       182\n3       222\n4       112\n       ... \n1040    210\n1041    210\n1042    160\n1043    250\n1044    250\nLength: 1045, dtype: int64"
     },
     "execution_count": 29,
     "metadata": {},
     "output_type": "execute_result"
    }
   ],
   "source": [
    "contenido['Attack'] + contenido['Sp. Atk']"
   ]
  },
  {
   "cell_type": "code",
   "execution_count": 30,
   "metadata": {},
   "outputs": [
    {
     "name": "stdout",
     "output_type": "stream",
     "text": [
      "0       114\n",
      "1       142\n",
      "2       182\n",
      "3       222\n",
      "4       112\n",
      "       ... \n",
      "1040    210\n",
      "1041    210\n",
      "1042    160\n",
      "1043    250\n",
      "1044    250\n",
      "Length: 1045, dtype: int64\n"
     ]
    }
   ],
   "source": [
    "sum = contenido.get(['Attack','Sp. Atk']).sum(axis = 1)\n",
    "\n",
    "print(sum)\n"
   ]
  },
  {
   "cell_type": "code",
   "execution_count": 31,
   "metadata": {},
   "outputs": [
    {
     "data": {
      "text/plain": "        #                  Name           Type  Total   HP  Attack  Defense  \\\n1040  896             Glastrier            Ice    580  100     145      130   \n1041  897             Spectrier          Ghost    580  100      65       60   \n1042  898               Calyrex  Psychic Grass    500  100      80       80   \n1043  898     Calyrex Ice Rider    Psychic Ice    680  100     165      150   \n1044  898  Calyrex Shadow Rider  Psychic Ghost    680  100      85       80   \n\n      Sp. Atk  Sp. Def  Speed  \n1040       65      110     30  \n1041      145       80    130  \n1042       80       80     80  \n1043       85      130     50  \n1044      165      100    150  ",
      "text/html": "<div>\n<style scoped>\n    .dataframe tbody tr th:only-of-type {\n        vertical-align: middle;\n    }\n\n    .dataframe tbody tr th {\n        vertical-align: top;\n    }\n\n    .dataframe thead th {\n        text-align: right;\n    }\n</style>\n<table border=\"1\" class=\"dataframe\">\n  <thead>\n    <tr style=\"text-align: right;\">\n      <th></th>\n      <th>#</th>\n      <th>Name</th>\n      <th>Type</th>\n      <th>Total</th>\n      <th>HP</th>\n      <th>Attack</th>\n      <th>Defense</th>\n      <th>Sp. Atk</th>\n      <th>Sp. Def</th>\n      <th>Speed</th>\n    </tr>\n  </thead>\n  <tbody>\n    <tr>\n      <th>1040</th>\n      <td>896</td>\n      <td>Glastrier</td>\n      <td>Ice</td>\n      <td>580</td>\n      <td>100</td>\n      <td>145</td>\n      <td>130</td>\n      <td>65</td>\n      <td>110</td>\n      <td>30</td>\n    </tr>\n    <tr>\n      <th>1041</th>\n      <td>897</td>\n      <td>Spectrier</td>\n      <td>Ghost</td>\n      <td>580</td>\n      <td>100</td>\n      <td>65</td>\n      <td>60</td>\n      <td>145</td>\n      <td>80</td>\n      <td>130</td>\n    </tr>\n    <tr>\n      <th>1042</th>\n      <td>898</td>\n      <td>Calyrex</td>\n      <td>Psychic Grass</td>\n      <td>500</td>\n      <td>100</td>\n      <td>80</td>\n      <td>80</td>\n      <td>80</td>\n      <td>80</td>\n      <td>80</td>\n    </tr>\n    <tr>\n      <th>1043</th>\n      <td>898</td>\n      <td>Calyrex Ice Rider</td>\n      <td>Psychic Ice</td>\n      <td>680</td>\n      <td>100</td>\n      <td>165</td>\n      <td>150</td>\n      <td>85</td>\n      <td>130</td>\n      <td>50</td>\n    </tr>\n    <tr>\n      <th>1044</th>\n      <td>898</td>\n      <td>Calyrex Shadow Rider</td>\n      <td>Psychic Ghost</td>\n      <td>680</td>\n      <td>100</td>\n      <td>85</td>\n      <td>80</td>\n      <td>165</td>\n      <td>100</td>\n      <td>150</td>\n    </tr>\n  </tbody>\n</table>\n</div>"
     },
     "execution_count": 31,
     "metadata": {},
     "output_type": "execute_result"
    }
   ],
   "source": [
    "contenido.tail()"
   ]
  },
  {
   "cell_type": "code",
   "execution_count": 41,
   "metadata": {},
   "outputs": [
    {
     "data": {
      "text/plain": "       #                      Name           Type  Total   HP  Attack  \\\n548  460                 Abomasnow      Grass Ice    494   90      92   \n549  460  Abomasnow Mega Abomasnow      Grass Ice    594   90     132   \n81    63                      Abra        Psychic    310   25      20   \n430  359                     Absol           Dark    465   65     130   \n431  359          Absol Mega Absol           Dark    565   65     150   \n..   ...                       ...            ...    ...  ...     ...   \n54    41                     Zubat  Poison Flying    245   40      45   \n739  634                  Zweilous    Dark Dragon    420   72      85   \n840  718         Zygarde 10% Forme  Dragon Ground    486   54     100   \n839  718         Zygarde 50% Forme  Dragon Ground    600  108     100   \n841  718    Zygarde Complete Forme  Dragon Ground    708  216     100   \n\n     Defense  Sp. Atk  Sp. Def  Speed  \n548       75       92       85     60  \n549      105      132      105     30  \n81        15      105       55     90  \n430       60       75       60     75  \n431       60      115       60    115  \n..       ...      ...      ...    ...  \n54        35       30       40     55  \n739       70       65       70     58  \n840       71       61       85    115  \n839      121       81       95     95  \n841      121       91       95     85  \n\n[1045 rows x 10 columns]",
      "text/html": "<div>\n<style scoped>\n    .dataframe tbody tr th:only-of-type {\n        vertical-align: middle;\n    }\n\n    .dataframe tbody tr th {\n        vertical-align: top;\n    }\n\n    .dataframe thead th {\n        text-align: right;\n    }\n</style>\n<table border=\"1\" class=\"dataframe\">\n  <thead>\n    <tr style=\"text-align: right;\">\n      <th></th>\n      <th>#</th>\n      <th>Name</th>\n      <th>Type</th>\n      <th>Total</th>\n      <th>HP</th>\n      <th>Attack</th>\n      <th>Defense</th>\n      <th>Sp. Atk</th>\n      <th>Sp. Def</th>\n      <th>Speed</th>\n    </tr>\n  </thead>\n  <tbody>\n    <tr>\n      <th>548</th>\n      <td>460</td>\n      <td>Abomasnow</td>\n      <td>Grass Ice</td>\n      <td>494</td>\n      <td>90</td>\n      <td>92</td>\n      <td>75</td>\n      <td>92</td>\n      <td>85</td>\n      <td>60</td>\n    </tr>\n    <tr>\n      <th>549</th>\n      <td>460</td>\n      <td>Abomasnow Mega Abomasnow</td>\n      <td>Grass Ice</td>\n      <td>594</td>\n      <td>90</td>\n      <td>132</td>\n      <td>105</td>\n      <td>132</td>\n      <td>105</td>\n      <td>30</td>\n    </tr>\n    <tr>\n      <th>81</th>\n      <td>63</td>\n      <td>Abra</td>\n      <td>Psychic</td>\n      <td>310</td>\n      <td>25</td>\n      <td>20</td>\n      <td>15</td>\n      <td>105</td>\n      <td>55</td>\n      <td>90</td>\n    </tr>\n    <tr>\n      <th>430</th>\n      <td>359</td>\n      <td>Absol</td>\n      <td>Dark</td>\n      <td>465</td>\n      <td>65</td>\n      <td>130</td>\n      <td>60</td>\n      <td>75</td>\n      <td>60</td>\n      <td>75</td>\n    </tr>\n    <tr>\n      <th>431</th>\n      <td>359</td>\n      <td>Absol Mega Absol</td>\n      <td>Dark</td>\n      <td>565</td>\n      <td>65</td>\n      <td>150</td>\n      <td>60</td>\n      <td>115</td>\n      <td>60</td>\n      <td>115</td>\n    </tr>\n    <tr>\n      <th>...</th>\n      <td>...</td>\n      <td>...</td>\n      <td>...</td>\n      <td>...</td>\n      <td>...</td>\n      <td>...</td>\n      <td>...</td>\n      <td>...</td>\n      <td>...</td>\n      <td>...</td>\n    </tr>\n    <tr>\n      <th>54</th>\n      <td>41</td>\n      <td>Zubat</td>\n      <td>Poison Flying</td>\n      <td>245</td>\n      <td>40</td>\n      <td>45</td>\n      <td>35</td>\n      <td>30</td>\n      <td>40</td>\n      <td>55</td>\n    </tr>\n    <tr>\n      <th>739</th>\n      <td>634</td>\n      <td>Zweilous</td>\n      <td>Dark Dragon</td>\n      <td>420</td>\n      <td>72</td>\n      <td>85</td>\n      <td>70</td>\n      <td>65</td>\n      <td>70</td>\n      <td>58</td>\n    </tr>\n    <tr>\n      <th>840</th>\n      <td>718</td>\n      <td>Zygarde 10% Forme</td>\n      <td>Dragon Ground</td>\n      <td>486</td>\n      <td>54</td>\n      <td>100</td>\n      <td>71</td>\n      <td>61</td>\n      <td>85</td>\n      <td>115</td>\n    </tr>\n    <tr>\n      <th>839</th>\n      <td>718</td>\n      <td>Zygarde 50% Forme</td>\n      <td>Dragon Ground</td>\n      <td>600</td>\n      <td>108</td>\n      <td>100</td>\n      <td>121</td>\n      <td>81</td>\n      <td>95</td>\n      <td>95</td>\n    </tr>\n    <tr>\n      <th>841</th>\n      <td>718</td>\n      <td>Zygarde Complete Forme</td>\n      <td>Dragon Ground</td>\n      <td>708</td>\n      <td>216</td>\n      <td>100</td>\n      <td>121</td>\n      <td>91</td>\n      <td>95</td>\n      <td>85</td>\n    </tr>\n  </tbody>\n</table>\n<p>1045 rows × 10 columns</p>\n</div>"
     },
     "execution_count": 41,
     "metadata": {},
     "output_type": "execute_result"
    }
   ],
   "source": [
    "def generaciones(numero):\n",
    "    if numero == 1:\n",
    "        return 'Kanto'\n",
    "    elif numero == 2:\n",
    "        return 'Johto'\n",
    "    elif numero == 3:\n",
    "        return 'Hoenn'\n",
    "    elif numero == 4:\n",
    "        return 'Sinnoh'\n",
    "    elif numero == 5:\n",
    "        return 'Unova'\n",
    "    elif numero == 6:\n",
    "        return 'kalos'\n",
    "    elif numero == 7:\n",
    "        return 'Alola'\n",
    "\n",
    "contenido\n",
    "# contenido['region'] = contenido['generation'].apply(generaciones)"
   ]
  },
  {
   "cell_type": "code",
   "execution_count": 33,
   "metadata": {},
   "outputs": [
    {
     "data": {
      "text/plain": "array([ 49,  62,  82, 100,  52,  64,  84, 130, 104,  48,  63,  83, 103,\n        30,  20,  45,  35,  25,  90, 150,  60,  80,  56,  81,  71,  95,\n        55,  85,  75,  47,  92,  57,  72, 102,  70,  41,  76,  67,  50,\n        65, 105, 110,  40, 120,  73,   5, 125, 155,  10, 115, 135, 134,\n       190,  46,  38,  58,  33, 185, 164, 160,  51,  91, 140,  43,  78,\n        15, 165,  68,  23, 145, 180,  89, 109,  66,  86,  42,  29,  59,\n        79,  69,  94, 136,  93,  24, 170, 112,  61, 106, 132, 123,  88,\n        53,  98,  77,  27, 117, 108,  44,  87, 147,  74, 124,  97, 129,\n       128, 107,  36,  22,  54, 121, 131, 137, 113, 139, 101, 181, 157,\n       167, 127, 143, 116,  28, 118], dtype=int64)"
     },
     "execution_count": 33,
     "metadata": {},
     "output_type": "execute_result"
    }
   ],
   "source": [
    "contenido['Attack'].unique()"
   ]
  },
  {
   "cell_type": "code",
   "execution_count": 34,
   "metadata": {},
   "outputs": [
    {
     "data": {
      "text/plain": "       #       Name          Type  Total  HP  Attack  Defense  Sp. Atk  \\\n0      1  Bulbasaur  Grass Poison    318  45      49       49       65   \n197  152  Chikorita         Grass    318  45      49       65       49   \n544  456    Finneon         Water    330  49      49       56       49   \n\n     Sp. Def  Speed  \n0         65     45  \n197       65     45  \n544       61     66  ",
      "text/html": "<div>\n<style scoped>\n    .dataframe tbody tr th:only-of-type {\n        vertical-align: middle;\n    }\n\n    .dataframe tbody tr th {\n        vertical-align: top;\n    }\n\n    .dataframe thead th {\n        text-align: right;\n    }\n</style>\n<table border=\"1\" class=\"dataframe\">\n  <thead>\n    <tr style=\"text-align: right;\">\n      <th></th>\n      <th>#</th>\n      <th>Name</th>\n      <th>Type</th>\n      <th>Total</th>\n      <th>HP</th>\n      <th>Attack</th>\n      <th>Defense</th>\n      <th>Sp. Atk</th>\n      <th>Sp. Def</th>\n      <th>Speed</th>\n    </tr>\n  </thead>\n  <tbody>\n    <tr>\n      <th>0</th>\n      <td>1</td>\n      <td>Bulbasaur</td>\n      <td>Grass Poison</td>\n      <td>318</td>\n      <td>45</td>\n      <td>49</td>\n      <td>49</td>\n      <td>65</td>\n      <td>65</td>\n      <td>45</td>\n    </tr>\n    <tr>\n      <th>197</th>\n      <td>152</td>\n      <td>Chikorita</td>\n      <td>Grass</td>\n      <td>318</td>\n      <td>45</td>\n      <td>49</td>\n      <td>65</td>\n      <td>49</td>\n      <td>65</td>\n      <td>45</td>\n    </tr>\n    <tr>\n      <th>544</th>\n      <td>456</td>\n      <td>Finneon</td>\n      <td>Water</td>\n      <td>330</td>\n      <td>49</td>\n      <td>49</td>\n      <td>56</td>\n      <td>49</td>\n      <td>61</td>\n      <td>66</td>\n    </tr>\n  </tbody>\n</table>\n</div>"
     },
     "execution_count": 34,
     "metadata": {},
     "output_type": "execute_result"
    }
   ],
   "source": [
    "contenido[contenido['Attack'] == 49]"
   ]
  },
  {
   "cell_type": "code",
   "execution_count": 35,
   "metadata": {},
   "outputs": [
    {
     "data": {
      "text/plain": "       #      Name          Type  Total  HP  Attack  Defense  Sp. Atk  \\\n240  194    Wooper  Water Ground    210  55      45       45       25   \n359  300    Skitty        Normal    260  50      45       45       35   \n991  854  Sinistea         Ghost    308  40      45       45       74   \n\n     Sp. Def  Speed  \n240       25     15  \n359       35     50  \n991       54     50  ",
      "text/html": "<div>\n<style scoped>\n    .dataframe tbody tr th:only-of-type {\n        vertical-align: middle;\n    }\n\n    .dataframe tbody tr th {\n        vertical-align: top;\n    }\n\n    .dataframe thead th {\n        text-align: right;\n    }\n</style>\n<table border=\"1\" class=\"dataframe\">\n  <thead>\n    <tr style=\"text-align: right;\">\n      <th></th>\n      <th>#</th>\n      <th>Name</th>\n      <th>Type</th>\n      <th>Total</th>\n      <th>HP</th>\n      <th>Attack</th>\n      <th>Defense</th>\n      <th>Sp. Atk</th>\n      <th>Sp. Def</th>\n      <th>Speed</th>\n    </tr>\n  </thead>\n  <tbody>\n    <tr>\n      <th>240</th>\n      <td>194</td>\n      <td>Wooper</td>\n      <td>Water Ground</td>\n      <td>210</td>\n      <td>55</td>\n      <td>45</td>\n      <td>45</td>\n      <td>25</td>\n      <td>25</td>\n      <td>15</td>\n    </tr>\n    <tr>\n      <th>359</th>\n      <td>300</td>\n      <td>Skitty</td>\n      <td>Normal</td>\n      <td>260</td>\n      <td>50</td>\n      <td>45</td>\n      <td>45</td>\n      <td>35</td>\n      <td>35</td>\n      <td>50</td>\n    </tr>\n    <tr>\n      <th>991</th>\n      <td>854</td>\n      <td>Sinistea</td>\n      <td>Ghost</td>\n      <td>308</td>\n      <td>40</td>\n      <td>45</td>\n      <td>45</td>\n      <td>74</td>\n      <td>54</td>\n      <td>50</td>\n    </tr>\n  </tbody>\n</table>\n</div>"
     },
     "execution_count": 35,
     "metadata": {},
     "output_type": "execute_result"
    }
   ],
   "source": [
    "import numpy\n",
    "\n",
    "contenido.loc[numpy.logical_and(contenido['Attack'] == 45, contenido['Defense'] == 45)]"
   ]
  },
  {
   "cell_type": "code",
   "execution_count": 36,
   "metadata": {},
   "outputs": [
    {
     "data": {
      "text/plain": "       #                      Name           Type  Total   HP  Attack  \\\n548  460                 Abomasnow      Grass Ice    494   90      92   \n549  460  Abomasnow Mega Abomasnow      Grass Ice    594   90     132   \n81    63                      Abra        Psychic    310   25      20   \n430  359                     Absol           Dark    465   65     130   \n431  359          Absol Mega Absol           Dark    565   65     150   \n..   ...                       ...            ...    ...  ...     ...   \n54    41                     Zubat  Poison Flying    245   40      45   \n739  634                  Zweilous    Dark Dragon    420   72      85   \n840  718         Zygarde 10% Forme  Dragon Ground    486   54     100   \n839  718         Zygarde 50% Forme  Dragon Ground    600  108     100   \n841  718    Zygarde Complete Forme  Dragon Ground    708  216     100   \n\n     Defense  Sp. Atk  Sp. Def  Speed  \n548       75       92       85     60  \n549      105      132      105     30  \n81        15      105       55     90  \n430       60       75       60     75  \n431       60      115       60    115  \n..       ...      ...      ...    ...  \n54        35       30       40     55  \n739       70       65       70     58  \n840       71       61       85    115  \n839      121       81       95     95  \n841      121       91       95     85  \n\n[1045 rows x 10 columns]",
      "text/html": "<div>\n<style scoped>\n    .dataframe tbody tr th:only-of-type {\n        vertical-align: middle;\n    }\n\n    .dataframe tbody tr th {\n        vertical-align: top;\n    }\n\n    .dataframe thead th {\n        text-align: right;\n    }\n</style>\n<table border=\"1\" class=\"dataframe\">\n  <thead>\n    <tr style=\"text-align: right;\">\n      <th></th>\n      <th>#</th>\n      <th>Name</th>\n      <th>Type</th>\n      <th>Total</th>\n      <th>HP</th>\n      <th>Attack</th>\n      <th>Defense</th>\n      <th>Sp. Atk</th>\n      <th>Sp. Def</th>\n      <th>Speed</th>\n    </tr>\n  </thead>\n  <tbody>\n    <tr>\n      <th>548</th>\n      <td>460</td>\n      <td>Abomasnow</td>\n      <td>Grass Ice</td>\n      <td>494</td>\n      <td>90</td>\n      <td>92</td>\n      <td>75</td>\n      <td>92</td>\n      <td>85</td>\n      <td>60</td>\n    </tr>\n    <tr>\n      <th>549</th>\n      <td>460</td>\n      <td>Abomasnow Mega Abomasnow</td>\n      <td>Grass Ice</td>\n      <td>594</td>\n      <td>90</td>\n      <td>132</td>\n      <td>105</td>\n      <td>132</td>\n      <td>105</td>\n      <td>30</td>\n    </tr>\n    <tr>\n      <th>81</th>\n      <td>63</td>\n      <td>Abra</td>\n      <td>Psychic</td>\n      <td>310</td>\n      <td>25</td>\n      <td>20</td>\n      <td>15</td>\n      <td>105</td>\n      <td>55</td>\n      <td>90</td>\n    </tr>\n    <tr>\n      <th>430</th>\n      <td>359</td>\n      <td>Absol</td>\n      <td>Dark</td>\n      <td>465</td>\n      <td>65</td>\n      <td>130</td>\n      <td>60</td>\n      <td>75</td>\n      <td>60</td>\n      <td>75</td>\n    </tr>\n    <tr>\n      <th>431</th>\n      <td>359</td>\n      <td>Absol Mega Absol</td>\n      <td>Dark</td>\n      <td>565</td>\n      <td>65</td>\n      <td>150</td>\n      <td>60</td>\n      <td>115</td>\n      <td>60</td>\n      <td>115</td>\n    </tr>\n    <tr>\n      <th>...</th>\n      <td>...</td>\n      <td>...</td>\n      <td>...</td>\n      <td>...</td>\n      <td>...</td>\n      <td>...</td>\n      <td>...</td>\n      <td>...</td>\n      <td>...</td>\n      <td>...</td>\n    </tr>\n    <tr>\n      <th>54</th>\n      <td>41</td>\n      <td>Zubat</td>\n      <td>Poison Flying</td>\n      <td>245</td>\n      <td>40</td>\n      <td>45</td>\n      <td>35</td>\n      <td>30</td>\n      <td>40</td>\n      <td>55</td>\n    </tr>\n    <tr>\n      <th>739</th>\n      <td>634</td>\n      <td>Zweilous</td>\n      <td>Dark Dragon</td>\n      <td>420</td>\n      <td>72</td>\n      <td>85</td>\n      <td>70</td>\n      <td>65</td>\n      <td>70</td>\n      <td>58</td>\n    </tr>\n    <tr>\n      <th>840</th>\n      <td>718</td>\n      <td>Zygarde 10% Forme</td>\n      <td>Dragon Ground</td>\n      <td>486</td>\n      <td>54</td>\n      <td>100</td>\n      <td>71</td>\n      <td>61</td>\n      <td>85</td>\n      <td>115</td>\n    </tr>\n    <tr>\n      <th>839</th>\n      <td>718</td>\n      <td>Zygarde 50% Forme</td>\n      <td>Dragon Ground</td>\n      <td>600</td>\n      <td>108</td>\n      <td>100</td>\n      <td>121</td>\n      <td>81</td>\n      <td>95</td>\n      <td>95</td>\n    </tr>\n    <tr>\n      <th>841</th>\n      <td>718</td>\n      <td>Zygarde Complete Forme</td>\n      <td>Dragon Ground</td>\n      <td>708</td>\n      <td>216</td>\n      <td>100</td>\n      <td>121</td>\n      <td>91</td>\n      <td>95</td>\n      <td>85</td>\n    </tr>\n  </tbody>\n</table>\n<p>1045 rows × 10 columns</p>\n</div>"
     },
     "execution_count": 36,
     "metadata": {},
     "output_type": "execute_result"
    }
   ],
   "source": [
    "contenido = contenido.sort_values(by = 'Name')\n",
    "contenido"
   ]
  },
  {
   "cell_type": "code",
   "execution_count": 37,
   "metadata": {},
   "outputs": [
    {
     "data": {
      "text/plain": "       #                      Name           Type  Total   HP  Attack  \\\n841  718    Zygarde Complete Forme  Dragon Ground    708  216     100   \n839  718         Zygarde 50% Forme  Dragon Ground    600  108     100   \n840  718         Zygarde 10% Forme  Dragon Ground    486   54     100   \n739  634                  Zweilous    Dark Dragon    420   72      85   \n54    41                     Zubat  Poison Flying    245   40      45   \n..   ...                       ...            ...    ...  ...     ...   \n431  359          Absol Mega Absol           Dark    565   65     150   \n430  359                     Absol           Dark    465   65     130   \n81    63                      Abra        Psychic    310   25      20   \n549  460  Abomasnow Mega Abomasnow      Grass Ice    594   90     132   \n548  460                 Abomasnow      Grass Ice    494   90      92   \n\n     Defense  Sp. Atk  Sp. Def  Speed  \n841      121       91       95     85  \n839      121       81       95     95  \n840       71       61       85    115  \n739       70       65       70     58  \n54        35       30       40     55  \n..       ...      ...      ...    ...  \n431       60      115       60    115  \n430       60       75       60     75  \n81        15      105       55     90  \n549      105      132      105     30  \n548       75       92       85     60  \n\n[1045 rows x 10 columns]",
      "text/html": "<div>\n<style scoped>\n    .dataframe tbody tr th:only-of-type {\n        vertical-align: middle;\n    }\n\n    .dataframe tbody tr th {\n        vertical-align: top;\n    }\n\n    .dataframe thead th {\n        text-align: right;\n    }\n</style>\n<table border=\"1\" class=\"dataframe\">\n  <thead>\n    <tr style=\"text-align: right;\">\n      <th></th>\n      <th>#</th>\n      <th>Name</th>\n      <th>Type</th>\n      <th>Total</th>\n      <th>HP</th>\n      <th>Attack</th>\n      <th>Defense</th>\n      <th>Sp. Atk</th>\n      <th>Sp. Def</th>\n      <th>Speed</th>\n    </tr>\n  </thead>\n  <tbody>\n    <tr>\n      <th>841</th>\n      <td>718</td>\n      <td>Zygarde Complete Forme</td>\n      <td>Dragon Ground</td>\n      <td>708</td>\n      <td>216</td>\n      <td>100</td>\n      <td>121</td>\n      <td>91</td>\n      <td>95</td>\n      <td>85</td>\n    </tr>\n    <tr>\n      <th>839</th>\n      <td>718</td>\n      <td>Zygarde 50% Forme</td>\n      <td>Dragon Ground</td>\n      <td>600</td>\n      <td>108</td>\n      <td>100</td>\n      <td>121</td>\n      <td>81</td>\n      <td>95</td>\n      <td>95</td>\n    </tr>\n    <tr>\n      <th>840</th>\n      <td>718</td>\n      <td>Zygarde 10% Forme</td>\n      <td>Dragon Ground</td>\n      <td>486</td>\n      <td>54</td>\n      <td>100</td>\n      <td>71</td>\n      <td>61</td>\n      <td>85</td>\n      <td>115</td>\n    </tr>\n    <tr>\n      <th>739</th>\n      <td>634</td>\n      <td>Zweilous</td>\n      <td>Dark Dragon</td>\n      <td>420</td>\n      <td>72</td>\n      <td>85</td>\n      <td>70</td>\n      <td>65</td>\n      <td>70</td>\n      <td>58</td>\n    </tr>\n    <tr>\n      <th>54</th>\n      <td>41</td>\n      <td>Zubat</td>\n      <td>Poison Flying</td>\n      <td>245</td>\n      <td>40</td>\n      <td>45</td>\n      <td>35</td>\n      <td>30</td>\n      <td>40</td>\n      <td>55</td>\n    </tr>\n    <tr>\n      <th>...</th>\n      <td>...</td>\n      <td>...</td>\n      <td>...</td>\n      <td>...</td>\n      <td>...</td>\n      <td>...</td>\n      <td>...</td>\n      <td>...</td>\n      <td>...</td>\n      <td>...</td>\n    </tr>\n    <tr>\n      <th>431</th>\n      <td>359</td>\n      <td>Absol Mega Absol</td>\n      <td>Dark</td>\n      <td>565</td>\n      <td>65</td>\n      <td>150</td>\n      <td>60</td>\n      <td>115</td>\n      <td>60</td>\n      <td>115</td>\n    </tr>\n    <tr>\n      <th>430</th>\n      <td>359</td>\n      <td>Absol</td>\n      <td>Dark</td>\n      <td>465</td>\n      <td>65</td>\n      <td>130</td>\n      <td>60</td>\n      <td>75</td>\n      <td>60</td>\n      <td>75</td>\n    </tr>\n    <tr>\n      <th>81</th>\n      <td>63</td>\n      <td>Abra</td>\n      <td>Psychic</td>\n      <td>310</td>\n      <td>25</td>\n      <td>20</td>\n      <td>15</td>\n      <td>105</td>\n      <td>55</td>\n      <td>90</td>\n    </tr>\n    <tr>\n      <th>549</th>\n      <td>460</td>\n      <td>Abomasnow Mega Abomasnow</td>\n      <td>Grass Ice</td>\n      <td>594</td>\n      <td>90</td>\n      <td>132</td>\n      <td>105</td>\n      <td>132</td>\n      <td>105</td>\n      <td>30</td>\n    </tr>\n    <tr>\n      <th>548</th>\n      <td>460</td>\n      <td>Abomasnow</td>\n      <td>Grass Ice</td>\n      <td>494</td>\n      <td>90</td>\n      <td>92</td>\n      <td>75</td>\n      <td>92</td>\n      <td>85</td>\n      <td>60</td>\n    </tr>\n  </tbody>\n</table>\n<p>1045 rows × 10 columns</p>\n</div>"
     },
     "execution_count": 37,
     "metadata": {},
     "output_type": "execute_result"
    }
   ],
   "source": [
    "contenido.sort_values(by='Name', ascending=False)"
   ]
  },
  {
   "cell_type": "code",
   "execution_count": 38,
   "metadata": {},
   "outputs": [
    {
     "data": {
      "text/plain": "                 #       Total          HP     Defense     Sp. Atk  \\\nAttack                                                               \n5       276.500000  335.000000  175.000000    5.000000   25.000000   \n10      194.666667  415.000000   98.333333   98.333333   33.333333   \n15      349.000000  200.000000   20.000000   20.000000   10.000000   \n20      315.800000  241.500000   44.000000   38.000000   38.000000   \n22      665.000000  213.000000   45.000000   60.000000   27.000000   \n...            ...         ...         ...         ...         ...   \n170     659.666667  706.666667  108.333333  110.000000  106.666667   \n180     384.333333  716.666667   85.000000   93.333333  170.000000   \n181     798.000000  570.000000   59.000000  131.000000   59.000000   \n185     214.000000  600.000000   80.000000  115.000000   40.000000   \n190     150.000000  780.000000  106.000000  100.000000  154.000000   \n\n           Sp. Def       Speed  \nAttack                          \n5        85.000000   40.000000  \n10      128.333333   46.666667  \n15       55.000000   80.000000  \n20       55.000000   46.500000  \n22       30.000000   29.000000  \n...            ...         ...  \n170     100.000000  111.666667  \n180      70.000000  118.333333  \n181      31.000000  109.000000  \n185     105.000000   75.000000  \n190     100.000000  130.000000  \n\n[123 rows x 7 columns]",
      "text/html": "<div>\n<style scoped>\n    .dataframe tbody tr th:only-of-type {\n        vertical-align: middle;\n    }\n\n    .dataframe tbody tr th {\n        vertical-align: top;\n    }\n\n    .dataframe thead th {\n        text-align: right;\n    }\n</style>\n<table border=\"1\" class=\"dataframe\">\n  <thead>\n    <tr style=\"text-align: right;\">\n      <th></th>\n      <th>#</th>\n      <th>Total</th>\n      <th>HP</th>\n      <th>Defense</th>\n      <th>Sp. Atk</th>\n      <th>Sp. Def</th>\n      <th>Speed</th>\n    </tr>\n    <tr>\n      <th>Attack</th>\n      <th></th>\n      <th></th>\n      <th></th>\n      <th></th>\n      <th></th>\n      <th></th>\n      <th></th>\n    </tr>\n  </thead>\n  <tbody>\n    <tr>\n      <th>5</th>\n      <td>276.500000</td>\n      <td>335.000000</td>\n      <td>175.000000</td>\n      <td>5.000000</td>\n      <td>25.000000</td>\n      <td>85.000000</td>\n      <td>40.000000</td>\n    </tr>\n    <tr>\n      <th>10</th>\n      <td>194.666667</td>\n      <td>415.000000</td>\n      <td>98.333333</td>\n      <td>98.333333</td>\n      <td>33.333333</td>\n      <td>128.333333</td>\n      <td>46.666667</td>\n    </tr>\n    <tr>\n      <th>15</th>\n      <td>349.000000</td>\n      <td>200.000000</td>\n      <td>20.000000</td>\n      <td>20.000000</td>\n      <td>10.000000</td>\n      <td>55.000000</td>\n      <td>80.000000</td>\n    </tr>\n    <tr>\n      <th>20</th>\n      <td>315.800000</td>\n      <td>241.500000</td>\n      <td>44.000000</td>\n      <td>38.000000</td>\n      <td>38.000000</td>\n      <td>55.000000</td>\n      <td>46.500000</td>\n    </tr>\n    <tr>\n      <th>22</th>\n      <td>665.000000</td>\n      <td>213.000000</td>\n      <td>45.000000</td>\n      <td>60.000000</td>\n      <td>27.000000</td>\n      <td>30.000000</td>\n      <td>29.000000</td>\n    </tr>\n    <tr>\n      <th>...</th>\n      <td>...</td>\n      <td>...</td>\n      <td>...</td>\n      <td>...</td>\n      <td>...</td>\n      <td>...</td>\n      <td>...</td>\n    </tr>\n    <tr>\n      <th>170</th>\n      <td>659.666667</td>\n      <td>706.666667</td>\n      <td>108.333333</td>\n      <td>110.000000</td>\n      <td>106.666667</td>\n      <td>100.000000</td>\n      <td>111.666667</td>\n    </tr>\n    <tr>\n      <th>180</th>\n      <td>384.333333</td>\n      <td>716.666667</td>\n      <td>85.000000</td>\n      <td>93.333333</td>\n      <td>170.000000</td>\n      <td>70.000000</td>\n      <td>118.333333</td>\n    </tr>\n    <tr>\n      <th>181</th>\n      <td>798.000000</td>\n      <td>570.000000</td>\n      <td>59.000000</td>\n      <td>131.000000</td>\n      <td>59.000000</td>\n      <td>31.000000</td>\n      <td>109.000000</td>\n    </tr>\n    <tr>\n      <th>185</th>\n      <td>214.000000</td>\n      <td>600.000000</td>\n      <td>80.000000</td>\n      <td>115.000000</td>\n      <td>40.000000</td>\n      <td>105.000000</td>\n      <td>75.000000</td>\n    </tr>\n    <tr>\n      <th>190</th>\n      <td>150.000000</td>\n      <td>780.000000</td>\n      <td>106.000000</td>\n      <td>100.000000</td>\n      <td>154.000000</td>\n      <td>100.000000</td>\n      <td>130.000000</td>\n    </tr>\n  </tbody>\n</table>\n<p>123 rows × 7 columns</p>\n</div>"
     },
     "execution_count": 38,
     "metadata": {},
     "output_type": "execute_result"
    }
   ],
   "source": [
    "contenido.groupby('Attack').mean()"
   ]
  },
  {
   "cell_type": "code",
   "execution_count": 39,
   "metadata": {},
   "outputs": [
    {
     "data": {
      "text/plain": "         #  Name  Type  Total  HP  Defense  Sp. Atk  Sp. Def  Speed\nAttack                                                             \n5        2     2     2      2   2        2        2        2      2\n10       3     3     3      3   3        3        3        3      3\n15       1     1     1      1   1        1        1        1      1\n20      10    10    10     10  10       10       10       10     10\n22       1     1     1      1   1        1        1        1      1\n23       1     1     1      1   1        1        1        1      1\n24       1     1     1      1   1        1        1        1      1\n25       8     8     8      8   8        8        8        8      8\n27       1     1     1      1   1        1        1        1      1\n28       1     1     1      1   1        1        1        1      1",
      "text/html": "<div>\n<style scoped>\n    .dataframe tbody tr th:only-of-type {\n        vertical-align: middle;\n    }\n\n    .dataframe tbody tr th {\n        vertical-align: top;\n    }\n\n    .dataframe thead th {\n        text-align: right;\n    }\n</style>\n<table border=\"1\" class=\"dataframe\">\n  <thead>\n    <tr style=\"text-align: right;\">\n      <th></th>\n      <th>#</th>\n      <th>Name</th>\n      <th>Type</th>\n      <th>Total</th>\n      <th>HP</th>\n      <th>Defense</th>\n      <th>Sp. Atk</th>\n      <th>Sp. Def</th>\n      <th>Speed</th>\n    </tr>\n    <tr>\n      <th>Attack</th>\n      <th></th>\n      <th></th>\n      <th></th>\n      <th></th>\n      <th></th>\n      <th></th>\n      <th></th>\n      <th></th>\n      <th></th>\n    </tr>\n  </thead>\n  <tbody>\n    <tr>\n      <th>5</th>\n      <td>2</td>\n      <td>2</td>\n      <td>2</td>\n      <td>2</td>\n      <td>2</td>\n      <td>2</td>\n      <td>2</td>\n      <td>2</td>\n      <td>2</td>\n    </tr>\n    <tr>\n      <th>10</th>\n      <td>3</td>\n      <td>3</td>\n      <td>3</td>\n      <td>3</td>\n      <td>3</td>\n      <td>3</td>\n      <td>3</td>\n      <td>3</td>\n      <td>3</td>\n    </tr>\n    <tr>\n      <th>15</th>\n      <td>1</td>\n      <td>1</td>\n      <td>1</td>\n      <td>1</td>\n      <td>1</td>\n      <td>1</td>\n      <td>1</td>\n      <td>1</td>\n      <td>1</td>\n    </tr>\n    <tr>\n      <th>20</th>\n      <td>10</td>\n      <td>10</td>\n      <td>10</td>\n      <td>10</td>\n      <td>10</td>\n      <td>10</td>\n      <td>10</td>\n      <td>10</td>\n      <td>10</td>\n    </tr>\n    <tr>\n      <th>22</th>\n      <td>1</td>\n      <td>1</td>\n      <td>1</td>\n      <td>1</td>\n      <td>1</td>\n      <td>1</td>\n      <td>1</td>\n      <td>1</td>\n      <td>1</td>\n    </tr>\n    <tr>\n      <th>23</th>\n      <td>1</td>\n      <td>1</td>\n      <td>1</td>\n      <td>1</td>\n      <td>1</td>\n      <td>1</td>\n      <td>1</td>\n      <td>1</td>\n      <td>1</td>\n    </tr>\n    <tr>\n      <th>24</th>\n      <td>1</td>\n      <td>1</td>\n      <td>1</td>\n      <td>1</td>\n      <td>1</td>\n      <td>1</td>\n      <td>1</td>\n      <td>1</td>\n      <td>1</td>\n    </tr>\n    <tr>\n      <th>25</th>\n      <td>8</td>\n      <td>8</td>\n      <td>8</td>\n      <td>8</td>\n      <td>8</td>\n      <td>8</td>\n      <td>8</td>\n      <td>8</td>\n      <td>8</td>\n    </tr>\n    <tr>\n      <th>27</th>\n      <td>1</td>\n      <td>1</td>\n      <td>1</td>\n      <td>1</td>\n      <td>1</td>\n      <td>1</td>\n      <td>1</td>\n      <td>1</td>\n      <td>1</td>\n    </tr>\n    <tr>\n      <th>28</th>\n      <td>1</td>\n      <td>1</td>\n      <td>1</td>\n      <td>1</td>\n      <td>1</td>\n      <td>1</td>\n      <td>1</td>\n      <td>1</td>\n      <td>1</td>\n    </tr>\n  </tbody>\n</table>\n</div>"
     },
     "execution_count": 39,
     "metadata": {},
     "output_type": "execute_result"
    }
   ],
   "source": [
    "groupedByAttack = contenido.groupby('Attack').count()\n",
    "groupedByAttack.head(10)"
   ]
  },
  {
   "cell_type": "code",
   "execution_count": 44,
   "metadata": {
    "pycharm": {
     "name": "#%%\n"
    }
   },
   "outputs": [
    {
     "data": {
      "text/plain": "<AxesSubplot:>"
     },
     "execution_count": 44,
     "metadata": {},
     "output_type": "execute_result"
    },
    {
     "data": {
      "text/plain": "<Figure size 432x288 with 1 Axes>",
      "image/png": "[encoded data removed]"
     },
     "metadata": {
      "needs_background": "light"
     },
     "output_type": "display_data"
    }
   ],
   "source": [
    "import numpy\n",
    "contenido.get(['Attack', 'Sp. Atk','Defense']).plot(kind=\"box\")\n",
    "\n",
    "# contenido.loc[numpy.logical_or(contenido['types'] == 'Dark', contenido['types'] == 'Grass Ice')]"
   ]
  },
  {
   "cell_type": "markdown",
   "source": [
    "<h3>the end</h3>"
   ],
   "metadata": {
    "collapsed": false
   }
  }
 ],
 "metadata": {
  "kernelspec": {
   "name": "python3",
   "language": "python",
   "display_name": "Python 3"
  },
  "language_info": {
   "codemirror_mode": {
    "name": "ipython",
    "version": 3
   },
   "file_extension": ".py",
   "mimetype": "text/x-python",
   "name": "python",
   "nbconvert_exporter": "python",
   "pygments_lexer": "ipython3",
   "version": "3.8.8"
  }
 },
 "nbformat": 4,
 "nbformat_minor": 0
}