{
 "cells": [
  {
   "cell_type": "code",
   "execution_count": 17,
   "metadata": {
    "collapsed": true
   },
   "outputs": [
    {
     "name": "stdout",
     "output_type": "stream",
     "text": [
      "Instances of person class = 3\n",
      "Instances of employee class = 1\n",
      "Robles Richard\n"
     ]
    },
    {
     "data": {
      "text/plain": "'Robles Richard'"
     },
     "execution_count": 17,
     "metadata": {},
     "output_type": "execute_result"
    }
   ],
   "source": [
    "class MetaCount(type):\n",
    "    def __new__(cls, name, bases, attrs):\n",
    "        new_cls = super(MetaCount, cls).__new__(cls, name, bases, attrs)\n",
    "        new_cls.count = 0\n",
    "        return new_cls\n",
    "\n",
    "class Person(metaclass=MetaCount):\n",
    "  \n",
    "  def __init__(self, name, lastname, age, address):\n",
    "      self.__name = name\n",
    "      self.age = age\n",
    "      self.address = address\n",
    "      self.__lastname = lastname           \n",
    "      type(self).count += 1 \n",
    "      # self.count += 2 creates an *instance* variable\n",
    "\n",
    "  \n",
    "  @property   \n",
    "  def name(self):\n",
    "    return self.__name\n",
    "\n",
    "  @name.setter\n",
    "  def name(self, newvalue):\n",
    "     self.__name = newvalue\n",
    "  \n",
    "  @property\n",
    "  def lastname(self):\n",
    "    return self.__lastname\n",
    "\n",
    "  @lastname.setter\n",
    "  def lastname(self, newvalue):\n",
    "     self.__lastname = newvalue\n",
    "\n",
    "  def get_fullname(self):\n",
    "      return f\"{self.__lastname} {self.__name}\"\n",
    "\n",
    "\n",
    "class Employee(Person, metaclass=MetaCount):\n",
    "\n",
    "  def __init__(self, employee_code, salary_per_hour, start_data, departament):\n",
    "      Person.__base__.__init__(self)\n",
    "      self.employee_code = employee_code\n",
    "      self.salary_per_hour = salary_per_hour\n",
    "      self.start_data = start_data\n",
    "      self.departament = departament\n",
    "      type(self).count += 1 \n",
    "\n",
    "\n",
    "p = Person(age=25, address=\"calle 123 Av Evergreen\", name=\"Richard\", lastname=\"Robles\")\n",
    "p1 = Person(age=25, address=\"calle 123 Av Evergreen\", name=\"Richard\", lastname=\"Robles\")\n",
    "p2 = Person(age=25, address=\"calle 123 Av Evergreen\", name=\"Richard\", lastname=\"Robles\")\n",
    "\n",
    "e = Employee(123, 8000000, '2020-12-12', 'accountability')\n",
    "e.name = \"ALfonso\"\n",
    "e.lastname = \"De la hoz\"\n",
    "\n",
    "# print(e.name)\n",
    "print(f\"Instances of person class = {p.count}\")\n",
    "print(f\"Instances of employee class = {e.count}\")\n",
    "print(p.get_fullname())\n",
    "p.get_fullname()"
   ]
  },
  {
   "cell_type": "code",
   "execution_count": 18,
   "metadata": {},
   "outputs": [
    {
     "name": "stdout",
     "output_type": "stream",
     "text": [
      "employee_code,name,lastname,address,age,start_date,salary,position,department\n",
      "12345,Richard,Robles,calle 59A #10a 52,28,2020-12-03,12000000,Python Developer,Development\n",
      "12345,Richard,Robles,calle 59A #10a 52,28,2020-12-03,12000000,Python Developer,Development\n",
      "12345,Richard,Robles,calle 59A #10a 52,28,2020-12-03,12000000,Python Developer,Development\n",
      "12345,Richard,Robles,calle 59A #10a 52,28,2020-12-03,12000000,Python Developer,Development\n",
      "12345,Richard,Robles,calle 59A #10a 52,28,2020-12-03,12000000,Python Developer,Development\n",
      "12345,Richard,Robles,calle 59A #10a 52,28,2020-12-03,12000000,Python Developer,Development\n",
      "12345,Richard,Robles,calle 59A #10a 52,28,2020-12-03,12000000,Python Developer,Development\n",
      "12345,Richard,Robles,calle 59A #10a 52,28,2020-12-03,12000000,Python Developer,Development\n",
      "12345,Richard,Robles,calle 59A #10a 52,28,2020-12-03,12000000,Python Developer,Development\n",
      "12345,Richard,Robles,calle 59A #10a 52,28,2020-12-03,12000000,Python Developer,Development\n",
      "12345,Richard,Robles,calle 59A #10a 52,28,2020-12-03,12000000,Python Developer,Development\n",
      "12345,Richard,Robles,calle 59A #10a 52,28,2020-12-03,12000000,Python Developer,Development\n",
      "12345,Richard,Robles,calle 59A #10a 52,28,2020-12-03,12000000,Python Developer,Development\n",
      "12345,Richard,Robles,calle 59A #10a 52,28,2020-12-03,12000000,Python Developer,Development\n"
     ]
    }
   ],
   "source": [
    "with open(\"employees.txt\", encoding = 'utf-8') as f:\n",
    "   print(f.read())"
   ]
  },
  {
   "cell_type": "code",
   "execution_count": 19,
   "metadata": {
    "pycharm": {
     "name": "#%%\n"
    }
   },
   "outputs": [
    {
     "name": "stdout",
     "output_type": "stream",
     "text": [
      "1 2.232 3\n",
      "0\n",
      "1\n",
      "2\n",
      "3\n",
      "4\n",
      "5\n",
      "6\n",
      "7\n",
      "8\n",
      "9\n"
     ]
    },
    {
     "data": {
      "text/plain": "0.000368699999967248"
     },
     "execution_count": 19,
     "metadata": {},
     "output_type": "execute_result"
    }
   ],
   "source": [
    "import time\n",
    "\n",
    "def check_types(int, float, str):\n",
    "    def wrapper(function):\n",
    "\n",
    "            def wrapper_inner(*args, **kwargs):\n",
    "                if type(args[0]) == int and type(args[1]) == float and type(args[2]) == str:\n",
    "                    function(*args)\n",
    "                else:\n",
    "                    print(\"No se puede ejecutar la funcion\")\n",
    "\n",
    "            return wrapper_inner\n",
    "    return wrapper\n",
    "\n",
    "\n",
    "@check_types(int, float, str)\n",
    "def f(a, b, c):\n",
    "    print(a,b,c)\n",
    "\n",
    "f(1,2.232,\"3\")\n",
    "\n",
    "\n",
    "def decorator(func):\n",
    "    def wrapper_inner(*args, **kw):\n",
    "        start = time.perf_counter()\n",
    "        resutl = func(*args, **kw)\n",
    "        end = time.perf_counter()\n",
    "        runtime = end - start\n",
    "        return runtime\n",
    "        \n",
    "    return wrapper_inner\n",
    "\n",
    "@decorator\n",
    "def print_range():\n",
    "    for i in range(10):\n",
    "        print(i)\n",
    "\n",
    "print_range()\n"
   ]
  },
  {
   "cell_type": "markdown",
   "metadata": {},
   "source": [
    "*Exercise 4 <br/>\n",
    "Suppose that you have 5 Python projects which you’re working on and each of them have\n",
    "their own dependencies (libraries). These projects have common dependencies but different\n",
    "versions of the same dependencies. <br/>\n",
    "Functionality:\n",
    "- How could you handle this case? How would you solve it?\n",
    "\n",
    "    managing dependencies using pipenv\n",
    "\n",
    "- If you imported objects from some module, will the requested objects be loaded only?\n",
    "or will all the objects and definitions be loaded?. Explain. <br/>\n",
    "\n",
    "all if you dont define the specific item from the module that you are importing using from module import whatever\n",
    "\n",
    "- If you imported objects from a module, would the lines code outside of functions and\n",
    "classes be executed? <br/>\n",
    "no it would not be executed\n",
    "\n",
    "- What is the purpose of “if __name__ == __main__” in the bottom part of any module?\n",
    "When will it be executed?<br/>\n",
    "For executing modules as scripts you can make the file usable as a script as well as an importable module, because the code that parses the command line only runs if the module is executed as the “main” file\n"
   ]
  },
  {
   "cell_type": "code",
   "execution_count": 20,
   "metadata": {
    "pycharm": {
     "name": "#%%\n"
    }
   },
   "outputs": [
    {
     "name": "stdout",
     "output_type": "stream",
     "text": [
      "1176 1176\n"
     ]
    }
   ],
   "source": [
    "# Exercise 7\n",
    "import threading\n",
    "import time\n",
    "import random\n",
    "total = 0\n",
    "def update_total(amount, lock):\n",
    "    lock.acquire()\n",
    "    global total\n",
    "    total0 = total\n",
    "    total = total0 + amount\n",
    "    lock.release()\n",
    "\n",
    "\n",
    "threads = []\n",
    "transactions = [2, 100, 20, 300, 400, 250, 15, 89]\n",
    "lock = threading.Lock()\n",
    "\n",
    "for amount in transactions:\n",
    "    mythread = threading.Thread(target=update_total, args=[amount, lock])\n",
    "    mythread.start()\n",
    "    threads.append(mythread)\n",
    "\n",
    "for t in threads:\n",
    "    t.join()\n",
    "\n",
    "\n",
    "print(sum(transactions), total)\n",
    "\n"
   ]
  },
  {
   "cell_type": "code",
   "execution_count": 21,
   "metadata": {},
   "outputs": [
    {
     "name": "stdout",
     "output_type": "stream",
     "text": [
      "[1, 2, 3, 4, 5, 6]\n"
     ]
    }
   ],
   "source": [
    "# Exercise 5\n",
    "from collections.abc import MutableSequence\n",
    "from collections import UserList\n",
    "\n",
    "class MyList(UserList):\n",
    "    \"\"\"A container for manipulating lists of hosts\"\"\"\n",
    "    def __init__(self, data=None):\n",
    "        \"\"\"Initialize the class\"\"\"\n",
    "        super(MyList, self).__init__()\n",
    "        if (data is not None):\n",
    "            self._list = list(data)\n",
    "        else:\n",
    "            self._list = list()\n",
    "\n",
    "    def __repr__(self):\n",
    "        return \"<{0} {1}>\".format(self.__class__.__name__, self._list)\n",
    "\n",
    "    def __len__(self):\n",
    "        \"\"\"List length\"\"\"\n",
    "        return len(self._list)\n",
    "\n",
    "    def __getitem__(self, ii):\n",
    "        \"\"\"Get a list item\"\"\"\n",
    "        return self._list[ii]\n",
    "\n",
    "    def __delitem__(self, ii):\n",
    "        \"\"\"Delete an item\"\"\"\n",
    "        del self._list[ii]\n",
    "\n",
    "    def __setitem__(self, ii, val):\n",
    "        # optional: self._acl_check(val)\n",
    "        self._list[ii] = val\n",
    "\n",
    "    def __str__(self):\n",
    "        return str(self._list)\n",
    "\n",
    "    def insert(self, ii, val):\n",
    "        # optional: self._acl_check(val)\n",
    "        self._list.insert(ii, val)\n",
    "\n",
    "    def append(self, val):\n",
    "        self.insert(len(self._list), val)\n",
    "\n",
    "\n",
    "foo = MyList([1,2,3,4,5])\n",
    "foo.append(6)\n",
    "print(foo)"
   ]
  },
  {
   "cell_type": "code",
   "execution_count": 22,
   "metadata": {},
   "outputs": [
    {
     "name": "stdout",
     "output_type": "stream",
     "text": [
      "1\n"
     ]
    }
   ],
   "source": [
    "# A simple Python program to introduce a linked list \n",
    "\n",
    "# Node class \n",
    "class Node: \n",
    "\n",
    "\t# Function to initialise the node object \n",
    "\tdef __init__(self, data): \n",
    "\t\tself.data = data # Assign data \n",
    "\t\tself.next = None # Initialize next as null \n",
    "\n",
    "\n",
    "# Linked List class contains a Node object \n",
    "class LinkedList: \n",
    "\n",
    "\t# Function to initialize head \n",
    "\tdef __init__(self): \n",
    "\t\tself.head = None\n",
    "\n",
    "\t\n",
    "\n",
    "\n",
    "\n",
    "# Start with the empty list \n",
    "llist = LinkedList() \n",
    "\n",
    "llist.head = Node(1) \n",
    "second = Node(2) \n",
    "third = Node(3) \n",
    "llist.head.next = second; # Link first node with second \n",
    "second.next = third; # Link second node with the third node \n",
    "third.next = None\n",
    "\n",
    "print(llist.head.data)\n"
   ]
  },
  {
   "cell_type": "code",
   "execution_count": 23,
   "metadata": {},
   "outputs": [
    {
     "name": "stdout",
     "output_type": "stream",
     "text": [
      "5\n",
      "4\n",
      "3\n",
      "2\n",
      "1\n"
     ]
    }
   ],
   "source": [
    "class Countdown(object):\n",
    "    def __init__(self, start):\n",
    "        self.start = start\n",
    "\n",
    "    def __iter__(self):\n",
    "        n = self.start\n",
    "        while n > 0:\n",
    "            yield n\n",
    "            n -=1\n",
    "\n",
    "\n",
    "c = Countdown(5)\n",
    "\n",
    "for x in c:\n",
    "    print(x)\n",
    "\n",
    "\n",
    "\n"
   ]
  },
  {
   "cell_type": "markdown",
   "metadata": {},
   "source": [
    "\n",
    "The magic method __iter__ implement the ways to iterate over a sequence of holding multiples data\n"
   ]
  },
  {
   "cell_type": "markdown",
   "metadata": {},
   "source": [
    "<code>\n",
    "import csv\n",
    "\n",
    "def reader(filename):\n",
    "    with open(filename, 'r') as f:\n",
    "        next(f)\n",
    "        for line in f:\n",
    "            yield line\n",
    "\n",
    "def parse_transaction(lines):\n",
    "    rows = csv.reader(lines)\n",
    "    types = [int, str, str, str, str, str, str, str, str]\n",
    "    converted = ([func(val) for func, val in zip(types, rows)] for row in rows)\n",
    "    return converted\n",
    "\n",
    "\n",
    "def filter(rows, func):\n",
    "    filtered = (row for row in rows if func(row))\n",
    "\n",
    "\n",
    "lines = reader('./employees.csv')\n",
    "\n",
    "transaction = parse_transaction(lines)\n",
    "\n",
    "filtered_transaction = filter(transaction, lambda x: x[0] > 1)\n",
    "\n",
    "for t in filtered_transaction:\n",
    "    print(t)\n",
    "</code>"
   ]
  },
  {
   "cell_type": "code",
   "execution_count": 24,
   "metadata": {},
   "outputs": [
    {
     "name": "stdout",
     "output_type": "stream",
     "text": [
      "{'__module__': '__main__', 'instances': 12, 'changed_method': <function Overloaded.changed_method at 0x000002974AD35DC0>, 'nvalue': <property object at 0x000002974AD47D60>, '__dict__': <attribute '__dict__' of 'Overloaded' objects>, '__weakref__': <attribute '__weakref__' of 'Overloaded' objects>, '__doc__': None}\n",
      "{'_nvalue': 200}\n",
      "200\n",
      "Edad = 10\n",
      "{'_age': 0, 'age': 10} {'__module__': '__main__', '__init__': <function Geeks.__init__ at 0x000002974AD49550>, 'get_age': <function Geeks.get_age at 0x000002974AD495E0>, 'set_age': <function Geeks.set_age at 0x000002974AD49670>, 'del_age': <function Geeks.del_age at 0x000002974AD49700>, '__dict__': <attribute '__dict__' of 'Geeks' objects>, '__weakref__': <attribute '__weakref__' of 'Geeks' objects>, '__doc__': None}\n",
      "False\n",
      "True\n",
      "hasattr method\n"
     ]
    }
   ],
   "source": [
    "import types\n",
    "import collections\n",
    "\n",
    "\n",
    "class Overloaded(object):\n",
    "    instances = 12\n",
    "\n",
    "    def changed_method(self, number):\n",
    "        self.instance_variable = self.instance_variable + 1\n",
    "        self._nvalue = 0\n",
    "\n",
    "    @property\n",
    "    def nvalue(self):\n",
    "        return self._nvalue\n",
    "\n",
    "    @nvalue.setter\n",
    "    def nvalue(self, value: int):\n",
    "        if not isinstance(value, int):\n",
    "            raise TypeError(\"The value must be an integer\")\n",
    "        \n",
    "        if value < 0:\n",
    "            raise ValueError(\"The value must be greater than 0\")\n",
    "\n",
    "        self._nvalue = value\n",
    "\n",
    "\n",
    "\n",
    "def new_changed_method(self, number):\n",
    "    pass\n",
    "\n",
    "\n",
    "print(Overloaded.__dict__)\n",
    "Overloaded.changed_method = new_changed_method\n",
    "over_object = Overloaded()\n",
    "over_object.changed_method(20)\n",
    "over_object.nvalue = 200\n",
    "\n",
    "print(over_object.__dict__)\n",
    "print(over_object.nvalue)\n",
    "Town = collections.namedtuple('Town', ['name', 'population', 'coordinates', 'capital', 'state_bird'])\n",
    "funkytown = Town('funky', 300, 'somewhere', 'lipps', 'chicken')\n",
    "\n",
    "funkytown._asdict()\n",
    "\n",
    "class Geeks:\n",
    "     def __init__(self):\n",
    "          self._age = 0\n",
    "\n",
    "     # function to get value of _age\n",
    "     def get_age(self):\n",
    "         print(\"getter method called\")\n",
    "         return self._age\n",
    "\n",
    "     # function to set value of _age\n",
    "     def set_age(self, a):\n",
    "         print(\"setter method called\")\n",
    "         self._age = a\n",
    "\n",
    "     # function to delete _age attribute\n",
    "     def del_age(self):\n",
    "         del self._age\n",
    "\n",
    "     # age = property(get_age, set_age, del_age)\n",
    "\n",
    "mark = Geeks()\n",
    "\n",
    "mark.age = 10\n",
    "\n",
    "print(f\"Edad = {mark.age}\")\n",
    "print(mark.__dict__, Geeks.__dict__)\n",
    "print(hasattr(mark, '__getitem__'))\n",
    "print(hasattr(mark, '__dict__'))\n",
    "print(\"hasattr method\")"
   ]
  },
  {
   "cell_type": "code",
   "execution_count": 25,
   "metadata": {
    "collapsed": false,
    "pycharm": {
     "name": "#%%\n"
    }
   },
   "outputs": [
    {
     "name": "stdout",
     "output_type": "stream",
     "text": [
      "14400\n"
     ]
    }
   ],
   "source": [
    "def factorial(numero):\n",
    "\n",
    "    producto = 1 \n",
    "    for i in range(1, numero + 1):\n",
    "        producto = producto * i\n",
    "        producto = producto * i\n",
    "\n",
    "    return producto\n",
    "\n",
    "producto = factorial(5)\n",
    "\n",
    "print(producto)"
   ]
  },
  {
   "cell_type": "code",
   "execution_count": 26,
   "metadata": {},
   "outputs": [
    {
     "name": "stdout",
     "output_type": "stream",
     "text": [
      "hello world\n",
      "hola mundo\n",
      "\n",
      "1099\n",
      "10999\n"
     ]
    }
   ],
   "source": [
    "print(\"hello world\")\n",
    "print(\"hola mundo\")\n",
    "print()\n",
    "a = 999\n",
    "b = a ** 12\n",
    "print(a.__add__(100))\n",
    "print(a.__add__(10000))"
   ]
  },
  {
   "cell_type": "code",
   "execution_count": 26,
   "metadata": {},
   "outputs": [],
   "source": [
    "\n",
    "\n",
    "\n",
    "\n"
   ]
  },
  {
   "cell_type": "code",
   "execution_count": 27,
   "metadata": {
    "collapsed": false,
    "pycharm": {
     "name": "#%%\n"
    }
   },
   "outputs": [
    {
     "name": "stdout",
     "output_type": "stream",
     "text": [
      "foo\n",
      "None\n",
      "bar\n",
      "None\n"
     ]
    }
   ],
   "source": [
    "class Wrapper(object):\n",
    "    def __init__(self, wrappee):\n",
    "        self.wrappee = wrappee\n",
    "\n",
    "    def foo(self):\n",
    "        print('foo')\n",
    "\n",
    "    def __getattr__(self, attr):\n",
    "        return getattr(self.wrappee, attr)\n",
    "\n",
    "\n",
    "class Wrappee(object):\n",
    "    def bar(self):\n",
    "        print('bar')\n",
    "\n",
    "o2 = Wrappee()\n",
    "o1 = Wrapper(o2)\n",
    "\n",
    "print(o1.foo())\n",
    "\n",
    "print(o1.bar())"
   ]
  },
  {
   "cell_type": "code",
   "execution_count": 28,
   "metadata": {
    "collapsed": false,
    "pycharm": {
     "name": "#%%\n"
    }
   },
   "outputs": [
    {
     "name": "stdout",
     "output_type": "stream",
     "text": [
      "Hello Python Developer\n",
      "<function linear.<locals>.do_linear at 0x000002974A8F5B80>\n",
      "35.0\n",
      "27\n",
      "15\n",
      "30\n"
     ]
    }
   ],
   "source": [
    "import time\n",
    "\n",
    "def after(seconds, func):\n",
    "    time.sleep(seconds)\n",
    "    func()\n",
    "\n",
    "\n",
    "def greeting(name):\n",
    "    print(\"Hello Python Developer\")\n",
    "\n",
    "\n",
    "after(5, lambda: greeting(\"Richard Robles\"))\n",
    "\n",
    "def linear(b):\n",
    "    def do_linear(x, m):\n",
    "        return x * m + b\n",
    "    return do_linear\n",
    "\n",
    "calculate_cab_cost = linear(20)\n",
    "print(calculate_cab_cost)\n",
    "cost = calculate_cab_cost(10, 1.5)\n",
    "print(cost)\n",
    "\n",
    "def make_multiplier_of(n):\n",
    "    def multiplier(x):\n",
    "        return x * n\n",
    "    return multiplier\n",
    "\n",
    "\n",
    "# Multiplier of 3\n",
    "times3 = make_multiplier_of(3)\n",
    "\n",
    "# Multiplier of 5\n",
    "times5 = make_multiplier_of(5)\n",
    "\n",
    "# Output: 27\n",
    "print(times3(9))\n",
    "\n",
    "# Output: 15\n",
    "print(times5(3))\n",
    "\n",
    "# Output: 30\n",
    "print(times5(times3(2)))\n",
    "\n",
    "def locales_setup():\n",
    "    translations = {\n",
    "        ('es','I am python programmer'):\"Yo soy un programador python\",\n",
    "        ('en', 'Yo soy un programador python'):\"I am python programmer\"\n",
    "    }\n",
    "    def translate(text, current_lang=\"es\"):\n",
    "        try:\n",
    "            return translations[(current_lang, text)]\n",
    "        except KeyError:\n",
    "            return text\n",
    "    \n",
    "    return translate\n",
    "\n",
    "\n",
    "def typed_property(name, expected_type):\n",
    "    private_name = \"_\"+name\n",
    "\n",
    "    @property\n",
    "    def prop(self):\n",
    "        return getattr(self, private_name)\n",
    "\n",
    "    @prop.getter\n",
    "    def prop(self, value):\n",
    "        if not isinstance(value, expected_type):\n",
    "            raise TypeError(f\"Expected {expected_type}\")\n",
    "        setattr(self, private_name, value)\n",
    "    \n",
    "    return prop\n",
    "\n",
    "\n",
    "    class Empleado(object):\n",
    "        name = typed_property(\"name\", str)\n",
    "        age = typed_property(\"age\", int)\n",
    "        salary = typed_property(\"salary\", float)\n",
    "\n",
    "        def __init__(self, name, age, salary):\n",
    "            self.name = name\n",
    "            self.age = age\n",
    "            self.salary = salary\n",
    "        \n",
    "        def __repr__(self):\n",
    "            return f\"Empleado {self.name}, {self.age}, {self.salary}\"\n",
    "        \n",
    "\n",
    "Integer = lambda name: typed_property(name, int)\n",
    "Float = lambda name: typed_property(name, float)\n",
    "\n"
   ]
  },
  {
   "cell_type": "code",
   "execution_count": 29,
   "metadata": {},
   "outputs": [
    {
     "name": "stderr",
     "output_type": "stream",
     "text": [
      "Exception in thread Thread-33:\n",
      "Traceback (most recent call last):\n",
      "  File \"C:\\Users\\richard.robles\\Anaconda3\\envs\\TechExercise\\lib\\threading.py\", line 932, in _bootstrap_inner\n",
      "Exception in thread Exception in thread Thread-35:\n",
      "Traceback (most recent call last):\n",
      "  File \"C:\\Users\\richard.robles\\Anaconda3\\envs\\TechExercise\\lib\\threading.py\", line 932, in _bootstrap_inner\n",
      "Thread-34:\n",
      "Traceback (most recent call last):\n",
      "  File \"C:\\Users\\richard.robles\\Anaconda3\\envs\\TechExercise\\lib\\threading.py\", line 932, in _bootstrap_inner\n",
      "Exception in thread Thread-36Exception in thread Thread-37:\n",
      "Traceback (most recent call last):\n",
      "  File \"C:\\Users\\richard.robles\\Anaconda3\\envs\\TechExercise\\lib\\threading.py\", line 932, in _bootstrap_inner\n",
      ":\n",
      "Traceback (most recent call last):\n",
      "  File \"C:\\Users\\richard.robles\\Anaconda3\\envs\\TechExercise\\lib\\threading.py\", line 932, in _bootstrap_inner\n",
      "    self.run()\n",
      "    self.run()\n",
      "  File \"C:\\Users\\richard.robles\\Anaconda3\\envs\\TechExercise\\lib\\threading.py\", line 870, in run\n",
      "  File \"C:\\Users\\richard.robles\\Anaconda3\\envs\\TechExercise\\lib\\threading.py\", line 870, in run\n",
      "    self.run()        self.run()\n",
      "  File \"C:\\Users\\richard.robles\\Anaconda3\\envs\\TechExercise\\lib\\threading.py\", line 870, in run\n",
      "self.run()\n",
      "  File \"C:\\Users\\richard.robles\\Anaconda3\\envs\\TechExercise\\lib\\threading.py\", line 870, in run\n",
      "\n",
      "  File \"C:\\Users\\richard.robles\\Anaconda3\\envs\\TechExercise\\lib\\threading.py\", line 870, in run\n",
      "        self._target(*self._args, **self._kwargs)self._target(*self._args, **self._kwargs)\n",
      "  File \"<ipython-input-29-4ca8906c67e9>\", line 12, in fib\n",
      "\n",
      "  File \"<ipython-input-29-4ca8906c67e9>\", line 12, in fib\n",
      "    self._target(*self._args, **self._kwargs)\n",
      "  File \"<ipython-input-29-4ca8906c67e9>\", line 12, in fib\n",
      "    self._target(*self._args, **self._kwargs)\n",
      "  File \"<ipython-input-29-4ca8906c67e9>\", line 12, in fib\n",
      "    self._target(*self._args, **self._kwargs)\n",
      "  File \"<ipython-input-29-4ca8906c67e9>\", line 12, in fib\n",
      "  File \"<ipython-input-29-4ca8906c67e9>\", line 10, in _fib\n",
      "  File \"<ipython-input-29-4ca8906c67e9>\", line 10, in _fib\n",
      "  File \"<ipython-input-29-4ca8906c67e9>\", line 10, in _fib\n",
      "  File \"<ipython-input-29-4ca8906c67e9>\", line 10, in _fib\n",
      "  File \"<ipython-input-29-4ca8906c67e9>\", line 10, in _fib\n",
      "  File \"<ipython-input-29-4ca8906c67e9>\", line 10, in _fib\n",
      "  File \"<ipython-input-29-4ca8906c67e9>\", line 10, in _fib\n",
      "TypeError  File \"<ipython-input-29-4ca8906c67e9>\", line 10, in _fib\n",
      ": unsupported operand type(s) for +: 'NoneType' and 'int'\n",
      "  File \"<ipython-input-29-4ca8906c67e9>\", line 10, in _fib\n",
      "  File \"<ipython-input-29-4ca8906c67e9>\", line 10, in _fib\n",
      "  File \"<ipython-input-29-4ca8906c67e9>\", line 10, in _fib\n",
      "  File \"<ipython-input-29-4ca8906c67e9>\", line 10, in _fib\n",
      "TypeError: unsupported operand type(s) for +: 'NoneType' and 'int'\n",
      "TypeError: unsupported operand type(s) for +: 'NoneType' and 'int'\n",
      "  [Previous line repeated 1 more time]\n",
      "TypeError: unsupported operand type(s) for +: 'NoneType' and 'int'\n",
      "  [Previous line repeated 2 more times]\n",
      "TypeError: unsupported operand type(s) for +: 'NoneType' and 'int'\n"
     ]
    },
    {
     "name": "stdout",
     "output_type": "stream",
     "text": [
      "Threading number <class 'threading.Thread'>\n",
      "Threading number <class 'threading.Thread'>\n",
      "Threading number <class 'threading.Thread'>\n"
     ]
    }
   ],
   "source": [
    "from threading import Thread\n",
    "\n",
    "def fib(number):\n",
    "    def _fib(n):\n",
    "        if n == 0:\n",
    "            return 0\n",
    "        elif n == 1 or n == 2:\n",
    "            return 1\n",
    "        else:\n",
    "            _fib(n-1) + _fib(n-2)\n",
    "    \n",
    "    result = _fib(number)\n",
    "    print(f\"Threading number {Thread}\")\n",
    "    return result\n",
    "\n",
    "\n",
    "numbers = [1, 2, 3, 4, 5, 6, 7,8]\n",
    "threads = []\n",
    "\n",
    "for number in numbers:\n",
    "    myThread = Thread(target = fib, args = [number])\n",
    "    myThread.start()\n",
    "    threads.append(myThread)\n",
    "\n",
    "\n",
    "for t in threads:\n",
    "    t.join()"
   ]
  },
  {
   "cell_type": "code",
   "execution_count": 38,
   "outputs": [
    {
     "name": "stdout",
     "output_type": "stream",
     "text": [
      "20\n"
     ]
    }
   ],
   "source": [
    "from functools import reduce\n",
    "\n",
    "listWithoutReduce = [1,2,3,4,5,6,7,8]\n",
    "\n",
    "listReduced = reduce(lambda acc, x: acc + x if x % 2 ==0 else acc + 0, listWithoutReduce, 0)\n",
    "print(listReduced)"
   ],
   "metadata": {
    "collapsed": false,
    "pycharm": {
     "name": "#%%\n"
    }
   }
  },
  {
   "cell_type": "code",
   "execution_count": 43,
   "outputs": [
    {
     "name": "stdout",
     "output_type": "stream",
     "text": [
      "[     1      2      3      4      5      6      7    800   4375 326432]\n",
      "<class 'numpy.ndarray'>\n",
      "331635\n",
      "2121220096\n",
      "1\n",
      "326432\n"
     ]
    }
   ],
   "source": [
    "import numpy as np\n",
    "\n",
    "np.abs(-999)\n",
    "\n",
    "lista = [1,2,3,4,5,6,7,800,4375,326432]\n",
    "\n",
    "np_array = np.array(lista)\n",
    "\n",
    "print(np_array)\n",
    "\n",
    "print(type(np_array))\n",
    "\n",
    "print(np.sum(np_array))\n",
    "print(np.prod(np_array))\n",
    "print(np.min(np_array))\n",
    "print(np.max(np_array))"
   ],
   "metadata": {
    "collapsed": false,
    "pycharm": {
     "name": "#%%\n"
    }
   }
  }
 ],
 "metadata": {
  "kernelspec": {
   "name": "python3",
   "language": "python",
   "display_name": "Python 3"
  },
  "language_info": {
   "codemirror_mode": {
    "name": "ipython",
    "version": 3
   },
   "file_extension": ".py",
   "mimetype": "text/x-python",
   "name": "python",
   "nbconvert_exporter": "python",
   "pygments_lexer": "ipython3",
   "version": "3.8.8"
  }
 },
 "nbformat": 4,
 "nbformat_minor": 0
}