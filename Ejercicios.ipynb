{
 "cells": [
  {
   "cell_type": "code",
   "execution_count": 1,
   "metadata": {
    "collapsed": true
   },
   "outputs": [
    {
     "name": "stdout",
     "output_type": "stream",
     "text": [
      "Instances of person class = 3\n",
      "Instances of employee class = 1\n",
      "Robles Richard\n"
     ]
    }
   ],
   "source": [
    "class MetaCount(type):\n",
    "    def __new__(cls, name, bases, attrs):\n",
    "        new_cls = super(MetaCount, cls).__new__(cls, name, bases, attrs)\n",
    "        new_cls.count = 0\n",
    "        return new_cls\n",
    "\n",
    "class Person(metaclass=MetaCount):\n",
    "  \n",
    "  def __init__(self, name, lastname, age, address):\n",
    "      self.__name = name\n",
    "      self.age = age\n",
    "      self.address = address\n",
    "      self.__lastname = lastname           \n",
    "      type(self).count += 1 \n",
    "      # self.count += 2 creates an *instance* variable\n",
    "\n",
    "  \n",
    "  @property   \n",
    "  def name(self):\n",
    "    return self.__name\n",
    "\n",
    "  @name.setter\n",
    "  def name(self, newvalue):\n",
    "     self.__name = newvalue\n",
    "  \n",
    "  @property\n",
    "  def lastname(self):\n",
    "    return self.__lastname\n",
    "\n",
    "  @lastname.setter\n",
    "  def lastname(self, newvalue):\n",
    "     self.__lastname = newvalue\n",
    "\n",
    "  def get_fullname(self):\n",
    "      return f\"{self.__lastname} {self.__name}\"\n",
    "\n",
    "\n",
    "class Employee(Person, metaclass=MetaCount):\n",
    "\n",
    "  def __init__(self, employee_code, salary_per_hour, start_data, departament):\n",
    "      Person.__base__.__init__(self)\n",
    "      self.employee_code = employee_code\n",
    "      self.salary_per_hour = salary_per_hour\n",
    "      self.start_data = start_data\n",
    "      self.departament = departament\n",
    "      type(self).count += 1 \n",
    "\n",
    "\n",
    "p = Person(age=25, address=\"calle 123 Av Evergreen\", name=\"Richard\", lastname=\"Robles\")\n",
    "p1 = Person(age=25, address=\"calle 123 Av Evergreen\", name=\"Richard\", lastname=\"Robles\")\n",
    "p2 = Person(age=25, address=\"calle 123 Av Evergreen\", name=\"Richard\", lastname=\"Robles\")\n",
    "\n",
    "e = Employee(123, 8000000, '2020-12-12', 'accountability')\n",
    "e.name = \"ALfonso\"\n",
    "e.lastname = \"De la hoz\"\n",
    "\n",
    "# print(e.name)\n",
    "print(f\"Instances of person class = {p.count}\")\n",
    "print(f\"Instances of employee class = {e.count}\")\n",
    "print(p.get_fullname())"
   ]
  },
  {
   "cell_type": "code",
   "execution_count": 2,
   "metadata": {},
   "outputs": [
    {
     "name": "stdout",
     "output_type": "stream",
     "text": [
      "employee_code,name,lastname,address,age,start_date,salary,position,department\n",
      "12345,Richard,Robles,calle 59A #10a 52,28,2020-12-03,12000000,Python Developer,Development\n",
      "12345,Richard,Robles,calle 59A #10a 52,28,2020-12-03,12000000,Python Developer,Development\n",
      "12345,Richard,Robles,calle 59A #10a 52,28,2020-12-03,12000000,Python Developer,Development\n",
      "12345,Richard,Robles,calle 59A #10a 52,28,2020-12-03,12000000,Python Developer,Development\n",
      "12345,Richard,Robles,calle 59A #10a 52,28,2020-12-03,12000000,Python Developer,Development\n",
      "12345,Richard,Robles,calle 59A #10a 52,28,2020-12-03,12000000,Python Developer,Development\n",
      "12345,Richard,Robles,calle 59A #10a 52,28,2020-12-03,12000000,Python Developer,Development\n",
      "12345,Richard,Robles,calle 59A #10a 52,28,2020-12-03,12000000,Python Developer,Development\n",
      "12345,Richard,Robles,calle 59A #10a 52,28,2020-12-03,12000000,Python Developer,Development\n",
      "12345,Richard,Robles,calle 59A #10a 52,28,2020-12-03,12000000,Python Developer,Development\n",
      "12345,Richard,Robles,calle 59A #10a 52,28,2020-12-03,12000000,Python Developer,Development\n",
      "12345,Richard,Robles,calle 59A #10a 52,28,2020-12-03,12000000,Python Developer,Development\n",
      "12345,Richard,Robles,calle 59A #10a 52,28,2020-12-03,12000000,Python Developer,Development\n",
      "12345,Richard,Robles,calle 59A #10a 52,28,2020-12-03,12000000,Python Developer,Development\n"
     ]
    }
   ],
   "source": [
    "with open(\"employees.txt\", encoding = 'utf-8') as f:\n",
    "   print(f.read())"
   ]
  },
  {
   "cell_type": "code",
   "execution_count": 3,
   "metadata": {
    "pycharm": {
     "name": "#%%\n"
    }
   },
   "outputs": [
    {
     "name": "stdout",
     "output_type": "stream",
     "text": [
      "1 2.232 3\n",
      "<function decorator.<locals>.wrapper_inner at 0x00000172C3575D30>\n"
     ]
    }
   ],
   "source": [
    "import time\r\n",
    "\r\n",
    "def check_types(int, float, str):\r\n",
    "    def wrapper(function):\r\n",
    "\r\n",
    "            def wrapper_inner(*args, **kwargs):\r\n",
    "                if type(args[0]) == int and type(args[1]) == float and type(args[2]) == str:\r\n",
    "                    function(*args)\r\n",
    "                else:\r\n",
    "                    print(\"No se puede ejecutar la funcion\")\r\n",
    "\r\n",
    "            return wrapper_inner\r\n",
    "    return wrapper\r\n",
    "\r\n",
    "\r\n",
    "@check_types(int, float, str)\r\n",
    "def f(a, b, c):\r\n",
    "    print(a,b,c)\r\n",
    "\r\n",
    "f(1,2.232,\"3\")\r\n",
    "\r\n",
    "\r\n",
    "def decorator(func):\r\n",
    "    def wrapper_inner(*args, **kw):\r\n",
    "        start = time.perf_counter()\r\n",
    "        resutl = func(*args, **kw)\r\n",
    "        end = time.perf_counter()\r\n",
    "        runtime = end - start\r\n",
    "        return runtime\r\n",
    "        \r\n",
    "    return wrapper_inner\r\n",
    "\r\n",
    "@decorator\r\n",
    "def print_range():\r\n",
    "    for i in range(10):\r\n",
    "        print(i)\r\n",
    "\r\n",
    "print_range()\r\n"
   ]
  },
  {
   "cell_type": "markdown",
   "metadata": {},
   "source": [
    "*Exercise 4 <br/>\r\n",
    "Suppose that you have 5 Python projects which you’re working on and each of them have\r\n",
    "their own dependencies (libraries). These projects have common dependencies but different\r\n",
    "versions of the same dependencies. <br/>\r\n",
    "Functionality:\r\n",
    "- How could you handle this case? How would you solve it?\r\n",
    "\r\n",
    "    managing dependencies using pipenv\r\n",
    "\r\n",
    "- If you imported objects from some module, will the requested objects be loaded only?\r\n",
    "or will all the objects and definitions be loaded?. Explain. <br/>\r\n",
    "\r\n",
    "all if you dont define the specific item from the module that you are importing using from module import whatever\r\n",
    "\r\n",
    "- If you imported objects from a module, would the lines code outside of functions and\r\n",
    "classes be executed? <br/>\r\n",
    "no it would not be executed\r\n",
    "\r\n",
    "- What is the purpose of “if __name__ == __main__” in the bottom part of any module?\r\n",
    "When will it be executed?<br/>\r\n",
    "For executing modules as scripts you can make the file usable as a script as well as an importable module, because the code that parses the command line only runs if the module is executed as the “main” file\r\n"
   ]
  },
  {
   "cell_type": "code",
   "execution_count": 4,
   "metadata": {
    "pycharm": {
     "name": "#%%\n"
    }
   },
   "outputs": [
    {
     "name": "stdout",
     "output_type": "stream",
     "text": [
      "1176 1176\n"
     ]
    }
   ],
   "source": [
    "# Exercise 7\r\n",
    "import threading\r\n",
    "import time\r\n",
    "import random\r\n",
    "total = 0\r\n",
    "def update_total(amount, lock):\r\n",
    "    lock.acquire()\r\n",
    "    global total\r\n",
    "    total0 = total\r\n",
    "    total = total0 + amount\r\n",
    "    lock.release()\r\n",
    "\r\n",
    "\r\n",
    "threads = []\r\n",
    "transactions = [2, 100, 20, 300, 400, 250, 15, 89]\r\n",
    "lock = threading.Lock()\r\n",
    "\r\n",
    "for amount in transactions:\r\n",
    "    mythread = threading.Thread(target=update_total, args=[amount, lock])\r\n",
    "    mythread.start()\r\n",
    "    threads.append(mythread)\r\n",
    "\r\n",
    "for t in threads:\r\n",
    "    t.join()\r\n",
    "\r\n",
    "\r\n",
    "print(sum(transactions), total)\r\n",
    "\r\n"
   ]
  },
  {
   "cell_type": "code",
   "execution_count": 5,
   "metadata": {},
   "outputs": [
    {
     "name": "stdout",
     "output_type": "stream",
     "text": [
      "[1, 2, 3, 4, 5, 6]\n"
     ]
    }
   ],
   "source": [
    "# Exercise 5\n",
    "from collections.abc import MutableSequence\n",
    "from collections import UserList\n",
    "\n",
    "class MyList(UserList):\n",
    "    \"\"\"A container for manipulating lists of hosts\"\"\"\n",
    "    def __init__(self, data=None):\n",
    "        \"\"\"Initialize the class\"\"\"\n",
    "        super(MyList, self).__init__()\n",
    "        if (data is not None):\n",
    "            self._list = list(data)\n",
    "        else:\n",
    "            self._list = list()\n",
    "\n",
    "    def __repr__(self):\n",
    "        return \"<{0} {1}>\".format(self.__class__.__name__, self._list)\n",
    "\n",
    "    def __len__(self):\n",
    "        \"\"\"List length\"\"\"\n",
    "        return len(self._list)\n",
    "\n",
    "    def __getitem__(self, ii):\n",
    "        \"\"\"Get a list item\"\"\"\n",
    "        return self._list[ii]\n",
    "\n",
    "    def __delitem__(self, ii):\n",
    "        \"\"\"Delete an item\"\"\"\n",
    "        del self._list[ii]\n",
    "\n",
    "    def __setitem__(self, ii, val):\n",
    "        # optional: self._acl_check(val)\n",
    "        self._list[ii] = val\n",
    "\n",
    "    def __str__(self):\n",
    "        return str(self._list)\n",
    "\n",
    "    def insert(self, ii, val):\n",
    "        # optional: self._acl_check(val)\n",
    "        self._list.insert(ii, val)\n",
    "\n",
    "    def append(self, val):\n",
    "        self.insert(len(self._list), val)\n",
    "\n",
    "\n",
    "foo = MyList([1,2,3,4,5])\n",
    "foo.append(6)\n",
    "print(foo)"
   ]
  },
  {
   "cell_type": "code",
   "execution_count": 6,
   "metadata": {},
   "outputs": [
    {
     "name": "stdout",
     "output_type": "stream",
     "text": [
      "1\n"
     ]
    }
   ],
   "source": [
    "# A simple Python program to introduce a linked list \n",
    "\n",
    "# Node class \n",
    "class Node: \n",
    "\n",
    "\t# Function to initialise the node object \n",
    "\tdef __init__(self, data): \n",
    "\t\tself.data = data # Assign data \n",
    "\t\tself.next = None # Initialize next as null \n",
    "\n",
    "\n",
    "# Linked List class contains a Node object \n",
    "class LinkedList: \n",
    "\n",
    "\t# Function to initialize head \n",
    "\tdef __init__(self): \n",
    "\t\tself.head = None\n",
    "\n",
    "\t\n",
    "\n",
    "\n",
    "\n",
    "# Start with the empty list \n",
    "llist = LinkedList() \n",
    "\n",
    "llist.head = Node(1) \n",
    "second = Node(2) \n",
    "third = Node(3) \n",
    "llist.head.next = second; # Link first node with second \n",
    "second.next = third; # Link second node with the third node \n",
    "third.next = None\n",
    "\n",
    "print(llist.head.data)\n"
   ]
  },
  {
   "cell_type": "code",
   "execution_count": 7,
   "metadata": {},
   "outputs": [
    {
     "name": "stdout",
     "output_type": "stream",
     "text": [
      "5\n",
      "4\n",
      "3\n",
      "2\n",
      "1\n"
     ]
    }
   ],
   "source": [
    "class Countdown(object):\r\n",
    "    def __init__(self, start):\r\n",
    "        self.start = start\r\n",
    "\r\n",
    "    def __iter__(self):\r\n",
    "        n = self.start\r\n",
    "        while n > 0:\r\n",
    "            yield n\r\n",
    "            n -=1\r\n",
    "\r\n",
    "\r\n",
    "c = Countdown(5)\r\n",
    "\r\n",
    "for x in c:\r\n",
    "    print(x)\r\n",
    "\r\n",
    "\r\n",
    "\r\n"
   ]
  },
  {
   "cell_type": "code",
   "execution_count": 8,
   "metadata": {},
   "outputs": [],
   "source": [
    "\r\n",
    "The magic method __iter__ implement the ways to iterate over a sequence of holding multiples data\r\n"
   ]
  },
  {
   "cell_type": "markdown",
   "metadata": {},
   "source": [
    "<code>\r\n",
    "import csv\r\n",
    "\r\n",
    "def reader(filename):\r\n",
    "    with open(filename, 'r') as f:\r\n",
    "        next(f)\r\n",
    "        for line in f:\r\n",
    "            yield line\r\n",
    "\r\n",
    "def parse_transaction(lines):\r\n",
    "    rows = csv.reader(lines)\r\n",
    "    types = [int, str, str, str, str, str, str, str, str]\r\n",
    "    converted = ([func(val) for func, val in zip(types, rows)] for row in rows)\r\n",
    "    return converted\r\n",
    "\r\n",
    "\r\n",
    "def filter(rows, func):\r\n",
    "    filtered = (row for row in rows if func(row))\r\n",
    "\r\n",
    "\r\n",
    "lines = reader('./employees.csv')\r\n",
    "\r\n",
    "transaction = parse_transaction(lines)\r\n",
    "\r\n",
    "filtered_transaction = filter(transaction, lambda x: x[0] > 1)\r\n",
    "\r\n",
    "for t in filtered_transaction:\r\n",
    "    print(t)\r\n",
    "</code>"
   ]
  },
  {
   "cell_type": "code",
   "execution_count": 9,
   "metadata": {},
   "outputs": [],
   "source": [
    "class Overload(object):\r\n",
    "\r\n",
    "    def __mul__(self):\r\n",
    "        pass\r\n",
    "\r\n",
    "    def __add__(self):\r\n",
    "        pass"
   ]
  },
  {
   "cell_type": "code",
   "execution_count": 12,
   "metadata": {},
   "outputs": [
    {
     "name": "stdout",
     "output_type": "stream",
     "text": [
      "120\n"
     ]
    }
   ],
   "source": [
    "def factorial(numero):\r\n",
    "\r\n",
    "    producto = 1 \r\n",
    "    for i in range(1, numero + 1):\r\n",
    "        producto = producto * i\r\n",
    "\r\n",
    "    \r\n",
    "    return producto\r\n",
    "\r\n",
    "producto = factorial(5)\r\n",
    "\r\n",
    "print(producto)"
   ]
  },
  {
   "cell_type": "code",
   "execution_count": 13,
   "metadata": {},
   "outputs": [
    {
     "name": "stdout",
     "output_type": "stream",
     "text": [
      "1\n",
      "None\n"
     ]
    }
   ],
   "source": [
    "print(\"hello world\")"
   ]
  }
 ],
 "metadata": {
  "kernelspec": {
   "display_name": "Python 3",
   "language": "python",
   "name": "python3"
  },
  "language_info": {
   "codemirror_mode": {
    "name": "ipython",
    "version": 3
   },
   "file_extension": ".py",
   "mimetype": "text/x-python",
   "name": "python",
   "nbconvert_exporter": "python",
   "pygments_lexer": "ipython3",
   "version": "3.8.5"
  }
 },
 "nbformat": 4,
 "nbformat_minor": 0
}