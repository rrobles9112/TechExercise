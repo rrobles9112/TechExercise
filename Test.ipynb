{
 "cells": [
  {
   "cell_type": "code",
   "execution_count": 3,
   "metadata": {},
   "outputs": [
    {
     "name": "stdout",
     "output_type": "stream",
     "text": [
      "hola mundo\n",
      "\n",
      "1099\n",
      "10999\n",
      "['__class__', '__delattr__', '__dict__', '__dir__', '__doc__', '__eq__', '__format__', '__ge__', '__getattribute__', '__gt__', '__hash__', '__init__', '__init_subclass__', '__le__', '__lt__', '__module__', '__ne__', '__new__', '__reduce__', '__reduce_ex__', '__repr__', '__setattr__', '__sizeof__', '__str__', '__subclasshook__', '__weakref__']\n"
     ]
    }
   ],
   "source": [
    "print(\"hola mundo\")\n",
    "print()\n",
    "a = 999\n",
    "b = a ** 12\n",
    "print(a.__add__(100))\n",
    "print(a.__add__(10000)) \n",
    "\n",
    "class Empty(object):\n",
    "    def __init__(self):\n",
    "        self.__name= \"Empty\"\n",
    "\n",
    "    def __new__(cls, *args, **kwargs):\n",
    "        print((dir(cls)), *args, **kwargs)\n",
    "    \n",
    "e = Empty()\n"
   ]
  },
  {
   "cell_type": "code",
   "execution_count": 4,
   "metadata": {
    "collapsed": false,
    "pycharm": {
     "name": "#%%\n"
    }
   },
   "outputs": [
    {
     "name": "stdout",
     "output_type": "stream",
     "text": [
      "None\n"
     ]
    }
   ],
   "source": [
    "def main_list(sample_list):\n",
    "    def compute():\n",
    "        return sum({i for i in sample_list if isinstance(i,float)})\n",
    "        result = compute()\n",
    "        global final_list\n",
    "        final_list.append(result)\n",
    "        return final_list\n",
    "\n",
    "\n",
    "sample_list = [1000, 1010.90, 3450, 7809.23]\n",
    "\n",
    "final_list = []\n",
    "\n",
    "print(main_list(sample_list))"
   ]
  },
  {
   "cell_type": "code",
   "execution_count": 5,
   "metadata": {},
   "outputs": [
    {
     "name": "stdout",
     "output_type": "stream",
     "text": [
      "[2, 's', 4, 'm', '1', 10, 'm', '1', 10, 'm', '1', 10, 'm', '1', 10]\n"
     ]
    }
   ],
   "source": [
    "l1 = [2, 's', 4]\n",
    "l2 = ['m','1',10]\n",
    "print(l1+l2*2**2)"
   ]
  },
  {
   "cell_type": "code",
   "execution_count": 6,
   "metadata": {
    "pycharm": {
     "name": "#%%\n"
    }
   },
   "outputs": [
    {
     "name": "stdout",
     "output_type": "stream",
     "text": [
      "55\n"
     ]
    }
   ],
   "source": [
    "def Num(x):\n",
    "    n = 0\n",
    "    while n <= x:\n",
    "        yield n\n",
    "        n += 1\n",
    "\n",
    "\n",
    "S = sum(Num(10))\n",
    "print(S)\n",
    "\n"
   ]
  },
  {
   "cell_type": "code",
   "execution_count": 7,
   "metadata": {
    "collapsed": false,
    "pycharm": {
     "name": "#%%\n"
    }
   },
   "outputs": [
    {
     "data": {
      "text/plain": "[2, 0, 6, 'Python', 'Python', 'Python', 'Python', 5, 5, 5]"
     },
     "execution_count": 7,
     "metadata": {},
     "output_type": "execute_result"
    }
   ],
   "source": [
    "List = []\n",
    "List.append(2)\n",
    "List.append(0)\n",
    "List.append(6)\n",
    "\n",
    "for i in range(1, 4):\n",
    "    List.append((5))\n",
    "\n",
    "\n",
    "\n",
    "for i in range(1, 5):\n",
    "    List.insert(3, 'Python')\n",
    "\n",
    "List"
   ]
  },
  {
   "cell_type": "code",
   "execution_count": 8,
   "metadata": {
    "collapsed": false,
    "pycharm": {
     "name": "#%%\n"
    }
   },
   "outputs": [
    {
     "name": "stdout",
     "output_type": "stream",
     "text": [
      "7\n"
     ]
    }
   ],
   "source": [
    "def decorator(func):\n",
    "    def program1(*args, **kwargs):\n",
    "        value = func(*args, **kwargs)\n",
    "        return value\n",
    "    return program1\n",
    "\n",
    "@decorator\n",
    "def numbers(x, y):\n",
    "    return x+y\n",
    "\n",
    "x, y = 5, 2\n",
    "\n",
    "print(numbers(x, y))\n"
   ]
  },
  {
   "cell_type": "code",
   "execution_count": 9,
   "metadata": {
    "collapsed": false,
    "pycharm": {
     "name": "#%%\n"
    }
   },
   "outputs": [
    {
     "name": "stdout",
     "output_type": "stream",
     "text": [
      "6\n"
     ]
    }
   ],
   "source": [
    "# Python 3 program to minimize the length of string\n",
    "# by removing occurrence of only one character\n",
    "\n",
    "# Function to find the minimum length\n",
    "def minimumLength(s) :\n",
    "\n",
    "    maxOcc = 0\n",
    "    n = len(s)\n",
    "    arr = [0]*26\n",
    "\n",
    "    # Count the frequency of each alphabet\n",
    "    for i in range(n) :\n",
    "        arr[ord(s[i]) -ord('a')] += 1\n",
    "\n",
    "    # Find the alphabets with maximum frequency\n",
    "    for i in range(26) :\n",
    "        if arr[i] > maxOcc :\n",
    "            maxOcc = arr[i]\n",
    "\n",
    "    # Subtract the frequency of character\n",
    "    # from length of string\n",
    "    return n - maxOcc\n",
    "\n",
    "str = \"aabcccabba\"\n",
    "print(minimumLength(str))\n",
    "\n",
    "\n",
    "\n"
   ]
  },
  {
   "cell_type": "code",
   "execution_count": 10,
   "metadata": {
    "collapsed": false,
    "pycharm": {
     "name": "#%%\n"
    }
   },
   "outputs": [
    {
     "name": "stdout",
     "output_type": "stream",
     "text": [
      "4\n"
     ]
    }
   ],
   "source": [
    "def reduceString(s):\n",
    "    count = 1;\n",
    "    steps = 0;\n",
    "    l = len(s)\n",
    "\n",
    "    # traverse in\n",
    "    # the string\n",
    "    for i in range(1,l):\n",
    "        # if adjacent\n",
    "        # characters are same\n",
    "        if s[i] is s[i - 1]:\n",
    "            count += 1\n",
    "\n",
    "        else:\n",
    "            # if same adjacent pairs\n",
    "            # are more than 1\n",
    "            steps += int(count / 2)\n",
    "\n",
    "            count = 1;\n",
    "        steps += int(count / 2)\n",
    "    return steps\n",
    "\n",
    "\n",
    "# Driver Code\n",
    "s = \"geeksforgeeks\";\n",
    "\n",
    "l = len(s);\n",
    "print(reduceString(s));"
   ]
  },
  {
   "cell_type": "code",
   "execution_count": 11,
   "metadata": {
    "collapsed": false,
    "pycharm": {
     "name": "#%%\n"
    }
   },
   "outputs": [
    {
     "name": "stdout",
     "output_type": "stream",
     "text": [
      "59  is a Special  Two-Digit Number\n"
     ]
    }
   ],
   "source": [
    "# Python3 code to find if\n",
    "# number is a Special\n",
    "# Two-Digit number or not\n",
    "\n",
    "# Function to find if number\n",
    "# is special or not\n",
    "def specialNumber(n):\n",
    "\n",
    "    # Checking whether entered\n",
    "    # number is 2 digit or not\n",
    "    if (n < 10 or n > 99):\n",
    "        print(\"Invalid Input! Number\",\n",
    "              \" should have 2 digits only\")\n",
    "    else:\n",
    "\n",
    "        # Finding the first digit\n",
    "        first = n // 10\n",
    "\n",
    "        # Finding the last digit\n",
    "        last = n % 10\n",
    "\n",
    "        # Finding the sum\n",
    "        # of the digits\n",
    "        sum = first + last\n",
    "\n",
    "        # Finding the product\n",
    "        # of the digits\n",
    "        pro = first * last\n",
    "\n",
    "        if ((sum + pro) == n):\n",
    "\n",
    "            print(n ,\" is a Special \",\n",
    "                   \"Two-Digit Number\")\n",
    "        else:\n",
    "\n",
    "            print(n , \" is Not a \",\n",
    "                \"Special Two-Digit Number\")\n",
    "\n",
    "# Driver code\n",
    "n = 59\n",
    "specialNumber(n)\n",
    "\n",
    "# This code is contributed\n",
    "# by Anant Agarwal."
   ]
  },
  {
   "cell_type": "code",
   "execution_count": 12,
   "metadata": {
    "collapsed": false,
    "pycharm": {
     "name": "#%%\n"
    }
   },
   "outputs": [
    {
     "name": "stdout",
     "output_type": "stream",
     "text": [
      "NO\n"
     ]
    }
   ],
   "source": [
    "\n",
    "# Python3 program to check whether there\n",
    "# exist at least k or not in range [2..n]\n",
    "primes = [];\n",
    "\n",
    "# Generating all the prime numbers\n",
    "# from 2 to n.\n",
    "def SieveofEratosthenes(n):\n",
    "\n",
    "    visited = [False] * (n + 2);\n",
    "    for i in range(2, n + 2):\n",
    "        if (visited[i] == False):\n",
    "            for j in range(i * i, n + 2, i):\n",
    "                visited[j] = True;\n",
    "            primes.append(i);\n",
    "\n",
    "def specialPrimeNumbers(n, k):\n",
    "\n",
    "    SieveofEratosthenes(n);\n",
    "    count = 0;\n",
    "    for i in range(len(primes)):\n",
    "        for j in range(i - 1):\n",
    "\n",
    "            # If a prime number is Special\n",
    "            # prime number, then we increments\n",
    "            # the value of k.\n",
    "            if (primes[j] +\n",
    "                primes[j + 1] + 1 == primes[i]):\n",
    "                count += 1;\n",
    "                break;\n",
    "\n",
    "        # If at least k Special prime numbers\n",
    "        # are present, then we return 1.\n",
    "        # else we return 0 from outside of\n",
    "        # the outer loop.\n",
    "        if (count == k):\n",
    "            return True;\n",
    "\n",
    "    return False;\n",
    "\n",
    "# Driver Code\n",
    "n = 12;\n",
    "k = 4;\n",
    "if (specialPrimeNumbers(n, k)):\n",
    "    print(\"YES\");\n",
    "else:\n",
    "    print(\"NO\");"
   ]
  },
  {
   "cell_type": "code",
   "execution_count": 13,
   "metadata": {
    "collapsed": false,
    "pycharm": {
     "name": "#%%\n"
    }
   },
   "outputs": [
    {
     "name": "stdout",
     "output_type": "stream",
     "text": [
      "Factorial of 2 = 2\n",
      "Factorial of 1 = 1\n",
      "\n",
      " Sum of Factorials of a Given Number 12 = 3\n",
      " The given number is not a Strong Number\n"
     ]
    }
   ],
   "source": [
    "import math\n",
    "num = int(input(\" Enter the Number:\"))\n",
    "sum = 0\n",
    "temp = num\n",
    "\n",
    "while(temp > 0):\n",
    "    rem = temp % 10\n",
    "    fact = math.factorial(rem)  # Using the buitlt-in factorial() function\n",
    "\n",
    "    print(\"Factorial of %d = %d\" %(rem, fact))\n",
    "    sum = sum + fact\n",
    "    temp = temp // 10\n",
    "\n",
    "print(\"\\n Sum of Factorials of a Given Number %d = %d\" %(num, sum))\n",
    "\n",
    "if (sum == num):\n",
    "    print(\" The given number is a Strong Number\")\n",
    "else:\n",
    "    print(\" The given number is not a Strong Number\")\n"
   ]
  },
  {
   "cell_type": "code",
   "execution_count": 14,
   "metadata": {},
   "outputs": [
    {
     "name": "stdout",
     "output_type": "stream",
     "text": [
      "./.git\\COMMIT_EDITMSG\n",
      "./.git\\config\n",
      "./.git\\description\n",
      "./.git\\FETCH_HEAD\n",
      "./.git\\HEAD\n",
      "./.git\\hooks\\applypatch-msg.sample\n",
      "./.git\\hooks\\commit-msg.sample\n",
      "./.git\\hooks\\fsmonitor-watchman.sample\n",
      "./.git\\hooks\\post-update.sample\n",
      "./.git\\hooks\\pre-applypatch.sample\n",
      "./.git\\hooks\\pre-commit.sample\n",
      "./.git\\hooks\\pre-merge-commit.sample\n",
      "./.git\\hooks\\pre-push.sample\n",
      "./.git\\hooks\\pre-rebase.sample\n",
      "./.git\\hooks\\pre-receive.sample\n",
      "./.git\\hooks\\prepare-commit-msg.sample\n",
      "./.git\\hooks\\update.sample\n",
      "./.git\\index\n",
      "./.git\\info\\exclude\n",
      "./.git\\logs\\HEAD\n",
      "./.git\\logs\\refs\\heads\\master\n",
      "./.git\\logs\\refs\\remotes\\origin\\master\n",
      "./.git\\objects\\0a\\3c8abb040f4e775fc50b7b8c27f6e1a0aaad17\n",
      "./.git\\objects\\21\\3fbc93e544ee871fc0ab7ebdbf291789ff8991\n",
      "./.git\\objects\\28\\aeea41be126bb117fafc4085475dfbf38d9867\n",
      "./.git\\objects\\38\\3c13d468a12957f3fb4493ecbd36286932ad5d\n",
      "./.git\\objects\\38\\80b98e918108f90b8d22676f21bf77b27f94c9\n",
      "./.git\\objects\\42\\1c250bae130d0070191a0bf31fb69b2649be61\n",
      "./.git\\objects\\46\\804e78fcedd6d075c80c200a31f1536b523f42\n",
      "./.git\\objects\\47\\1641f856eaca6570647c38659980e4ac4c745b\n",
      "./.git\\objects\\6d\\630fae3dc5ea2db7d0fa2ecafd27e47d5e15d0\n",
      "./.git\\objects\\70\\6fd07fada69d5222265c65853a51a3ec288d62\n",
      "./.git\\objects\\71\\ea176406edec2ef944f009d0c82e0dd345ad3c\n",
      "./.git\\objects\\73\\89cc53f0156f35d1baf89e0a20e209b29852f3\n",
      "./.git\\objects\\74\\2b80c5e91b88f57799b5284c8f8932ff6e1588\n",
      "./.git\\objects\\79\\433c1177b68f60dfd559ec9ece0e716b499f00\n",
      "./.git\\objects\\84\\0ba104302193868fb01c13c499146b7cec3f7f\n",
      "./.git\\objects\\8d\\1e9e5548ba45f5787e88f8f610153b4a85b067\n",
      "./.git\\objects\\94\\be9bd0cf60402d252e14076422c487e1473039\n",
      "./.git\\objects\\95\\61469f21169d67936f076ea30fcf921f8a45d3\n",
      "./.git\\objects\\9f\\32f28d13319cd408490af92714657cea430ad1\n",
      "./.git\\objects\\a1\\9091fc61b6d30095bd61e6b9a8e45fa6788280\n",
      "./.git\\objects\\a1\\cf29b20d6b7bbba10941880cfe2ba539193363\n",
      "./.git\\objects\\a8\\24cca785dc5beb799e9de04477b3f18a992482\n",
      "./.git\\objects\\ad\\425139b2fa806ab53f94b124fa091ad5688665\n",
      "./.git\\objects\\ad\\5c3f2d147eaa213a2209c124e236f476d3df69\n",
      "./.git\\objects\\b4\\77b99f6a94355d6160b24ebde9366d539492fd\n",
      "./.git\\objects\\bc\\ebc0cc509c903383f5c028c1696cd5e859090f\n",
      "./.git\\objects\\c6\\36e1668a3be064e2515b0d93bd4d3a9941c177\n",
      "./.git\\objects\\c7\\e3b5489066e66e91958f3ad5227c392a944701\n",
      "./.git\\objects\\cd\\686d7eb3b24fe386b5a4ba70729c74064521a1\n",
      "./.git\\objects\\cd\\79b3c03189bd4e4dc9e6afba028d3304f75c18\n",
      "./.git\\objects\\d4\\8c759d6c990444f193c0043ec9b316029d31bc\n",
      "./.git\\objects\\d8\\0334dc21a25b0d54d2b6454b01ce1e0b8958ae\n",
      "./.git\\objects\\da\\ae2c80fc3b25c408783a009194e843c0073335\n",
      "./.git\\objects\\e8\\4d14f21b8d5ece83ecd13b7d5372ed8ef4443d\n",
      "./.git\\objects\\ee\\161856a46ee2a1ec27877ad5408d33f3233f42\n",
      "./.git\\objects\\fa\\dec56f3b1e9e5309336564f6e454bf57767658\n",
      "./.git\\objects\\fc\\35d6e9b9c509afe8e790d87e0cc1b4bab5a61a\n",
      "./.git\\ORIG_HEAD\n",
      "./.git\\refs\\heads\\master\n",
      "./.git\\refs\\remotes\\origin\\master\n",
      "./.gitignore\n",
      "./.idea\\.gitignore\n",
      "./.idea\\aws.xml\n",
      "./.idea\\inspectionProfiles\\profiles_settings.xml\n",
      "./.idea\\inspectionProfiles\\Project_Default.xml\n",
      "./.idea\\misc.xml\n",
      "./.idea\\modules.xml\n",
      "./.idea\\TechExercise.iml\n",
      "./.idea\\vcs.xml\n",
      "./.idea\\workspace.xml\n",
      "./.vscode\\extensions.json\n",
      "./.vscode\\settings.json\n",
      "./contenido.csv\n",
      "./Ejercicios.ipynb\n",
      "./employees.csv\n",
      "./employees.txt\n",
      "./main.py\n",
      "./pokedex.csv\n",
      "./Python_3_OOP_Part_4__Polymorphism.ipynb\n",
      "./Test.ipynb\n",
      "./test.py\n",
      "./__pycache__\\test.cpython-38.pyc\n"
     ]
    }
   ],
   "source": [
    "def print_directory_contents(sPath):\n",
    "    import os                                       \n",
    "    for sChild in os.listdir(sPath):                \n",
    "        sChildPath = os.path.join(sPath,sChild)\n",
    "        if os.path.isdir(sChildPath):\n",
    "            print_directory_contents(sChildPath)\n",
    "        else:\n",
    "            print(sChildPath)\n",
    "\n",
    "\n",
    "print_directory_contents('./')"
   ]
  },
  {
   "cell_type": "code",
   "execution_count": 15,
   "metadata": {
    "collapsed": false,
    "pycharm": {
     "name": "#%%\n"
    }
   },
   "outputs": [
    {
     "name": "stdout",
     "output_type": "stream",
     "text": [
      "Help on class PlayerCharacter in module __main__:\n",
      "\n",
      "class PlayerCharacter(builtins.object)\n",
      " |  PlayerCharacter(name, age)\n",
      " |  \n",
      " |  Methods defined here:\n",
      " |  \n",
      " |  __init__(self, name, age)\n",
      " |      Initialize self.  See help(type(self)) for accurate signature.\n",
      " |  \n",
      " |  shout(self)\n",
      " |  \n",
      " |  speak(self)\n",
      " |  \n",
      " |  ----------------------------------------------------------------------\n",
      " |  Class methods defined here:\n",
      " |  \n",
      " |  adding_thing(num1, num2) from builtins.type\n",
      " |  \n",
      " |  ----------------------------------------------------------------------\n",
      " |  Data descriptors defined here:\n",
      " |  \n",
      " |  __dict__\n",
      " |      dictionary for instance variables (if defined)\n",
      " |  \n",
      " |  __weakref__\n",
      " |      list of weak references to the object (if defined)\n",
      " |  \n",
      " |  ----------------------------------------------------------------------\n",
      " |  Data and other attributes defined here:\n",
      " |  \n",
      " |  membership = True\n",
      "\n",
      "None\n",
      "MyList name is Richard my age is 20\n"
     ]
    }
   ],
   "source": [
    "class PlayerCharacter:\n",
    "\n",
    "    membership = True\n",
    "\n",
    "    def __init__(self, name, age):\n",
    "        self._name = name\n",
    "        self._age = age\n",
    "\n",
    "    def shout(self):\n",
    "        print(f\"my name is {self.name}\")\n",
    "\n",
    "    def speak(self):\n",
    "        print(f\"MyList name is {self._name} my age is {self._age}\")\n",
    "\n",
    "    @classmethod\n",
    "    def adding_thing(cls, num1, num2):\n",
    "        print(help(cls))\n",
    "        return num1 + num2\n",
    "\n",
    "\n",
    "PlayerCharacter.adding_thing(2,4)\n",
    "\n",
    "p1 = PlayerCharacter('Richard', 20)\n",
    "p1.speak()\n"
   ]
  },
  {
   "cell_type": "code",
   "execution_count": 16,
   "metadata": {
    "collapsed": false,
    "pycharm": {
     "name": "#%%\n"
    }
   },
   "outputs": [
    {
     "name": "stdout",
     "output_type": "stream",
     "text": [
      "Got grades: <map object at 0x0000014962513AC0>\n",
      "Invalid!\n"
     ]
    }
   ],
   "source": [
    "class ClassGrades:\n",
    "\n",
    "    def __init__(self, grades):\n",
    "        self.grades = grades\n",
    "\n",
    "    @classmethod\n",
    "    def from_csv(cls, grade_csv_str):\n",
    "        grades = map(int, grade_csv_str.split(', '))\n",
    "        cls.validate(grades)\n",
    "        return cls(grades)\n",
    "\n",
    "\n",
    "    @staticmethod\n",
    "    def validate(grades):\n",
    "        for g in grades:\n",
    "            if g < 0 or g > 100:\n",
    "                raise Exception()\n",
    "\n",
    "try:\n",
    "    # Try out some valid grades\n",
    "    class_grades_valid = ClassGrades.from_csv('90, 80, 85, 94, 70')\n",
    "    print('Got grades:', class_grades_valid.grades)\n",
    "\n",
    "    # Should fail with invalid grades\n",
    "    class_grades_invalid = ClassGrades.from_csv('92, -15, 99, 101, 77, 65, 100')\n",
    "    print(class_grades_invalid.grades)\n",
    "except:\n",
    "    print('Invalid!')"
   ]
  },
  {
   "cell_type": "code",
   "execution_count": 17,
   "metadata": {
    "collapsed": false,
    "pycharm": {
     "name": "#%%\n"
    }
   },
   "outputs": [
    {
     "name": "stdout",
     "output_type": "stream",
     "text": [
      "attacking with the power of 100\n",
      "{'email': 'merlin@gmail.com', 'name': 'Gandalf', 'power': 100}\n"
     ]
    },
    {
     "ename": "TypeError",
     "evalue": "__init__() missing 1 required positional argument: 'self'",
     "output_type": "error",
     "traceback": [
      "\u001B[1;31m---------------------------------------------------------------------------\u001B[0m",
      "\u001B[1;31mTypeError\u001B[0m                                 Traceback (most recent call last)",
      "\u001B[1;32m<ipython-input-17-189a576667d7>\u001B[0m in \u001B[0;36m<module>\u001B[1;34m\u001B[0m\n\u001B[0;32m     47\u001B[0m \u001B[0mprint\u001B[0m\u001B[1;33m(\u001B[0m\u001B[0mw1\u001B[0m\u001B[1;33m.\u001B[0m\u001B[0m__dict__\u001B[0m\u001B[1;33m)\u001B[0m\u001B[1;33m\u001B[0m\u001B[1;33m\u001B[0m\u001B[0m\n\u001B[0;32m     48\u001B[0m \u001B[1;33m\u001B[0m\u001B[0m\n\u001B[1;32m---> 49\u001B[1;33m \u001B[0mhb1\u001B[0m \u001B[1;33m=\u001B[0m \u001B[0mHybridBorg\u001B[0m\u001B[1;33m(\u001B[0m\u001B[1;34m'borgie'\u001B[0m\u001B[1;33m,\u001B[0m \u001B[1;36m50\u001B[0m\u001B[1;33m,\u001B[0m \u001B[1;36m100\u001B[0m\u001B[1;33m)\u001B[0m\u001B[1;33m\u001B[0m\u001B[1;33m\u001B[0m\u001B[0m\n\u001B[0m\u001B[0;32m     50\u001B[0m \u001B[0mhb1\u001B[0m\u001B[1;33m.\u001B[0m\u001B[0matack\u001B[0m\u001B[1;33m(\u001B[0m\u001B[1;33m)\u001B[0m\u001B[1;33m\u001B[0m\u001B[1;33m\u001B[0m\u001B[0m\n",
      "\u001B[1;32m<ipython-input-17-189a576667d7>\u001B[0m in \u001B[0;36m__init__\u001B[1;34m(self, name, power, arrows)\u001B[0m\n\u001B[0;32m     37\u001B[0m \u001B[1;32mclass\u001B[0m \u001B[0mHybridBorg\u001B[0m\u001B[1;33m(\u001B[0m\u001B[0mWizard\u001B[0m\u001B[1;33m,\u001B[0m \u001B[0mArcher\u001B[0m\u001B[1;33m)\u001B[0m\u001B[1;33m:\u001B[0m\u001B[1;33m\u001B[0m\u001B[1;33m\u001B[0m\u001B[0m\n\u001B[0;32m     38\u001B[0m     \u001B[1;32mdef\u001B[0m \u001B[0m__init__\u001B[0m\u001B[1;33m(\u001B[0m\u001B[0mself\u001B[0m\u001B[1;33m,\u001B[0m \u001B[0mname\u001B[0m\u001B[1;33m,\u001B[0m \u001B[0mpower\u001B[0m\u001B[1;33m,\u001B[0m \u001B[0marrows\u001B[0m\u001B[1;33m)\u001B[0m\u001B[1;33m:\u001B[0m\u001B[1;33m\u001B[0m\u001B[1;33m\u001B[0m\u001B[0m\n\u001B[1;32m---> 39\u001B[1;33m         \u001B[0mArcher\u001B[0m\u001B[1;33m.\u001B[0m\u001B[0m__init__\u001B[0m\u001B[1;33m(\u001B[0m\u001B[0mname\u001B[0m\u001B[1;33m=\u001B[0m\u001B[0mname\u001B[0m\u001B[1;33m,\u001B[0m \u001B[0mnum_of_arrow\u001B[0m\u001B[1;33m=\u001B[0m\u001B[0marrows\u001B[0m\u001B[1;33m)\u001B[0m\u001B[1;33m\u001B[0m\u001B[1;33m\u001B[0m\u001B[0m\n\u001B[0m\u001B[0;32m     40\u001B[0m         \u001B[0mWizard\u001B[0m\u001B[1;33m.\u001B[0m\u001B[0m__init__\u001B[0m\u001B[1;33m(\u001B[0m\u001B[0mname\u001B[0m\u001B[1;33m=\u001B[0m\u001B[0mname\u001B[0m\u001B[1;33m,\u001B[0m \u001B[0mpower\u001B[0m\u001B[1;33m=\u001B[0m\u001B[0mpower\u001B[0m\u001B[1;33m)\u001B[0m\u001B[1;33m\u001B[0m\u001B[1;33m\u001B[0m\u001B[0m\n\u001B[0;32m     41\u001B[0m \u001B[1;33m\u001B[0m\u001B[0m\n",
      "\u001B[1;31mTypeError\u001B[0m: __init__() missing 1 required positional argument: 'self'"
     ]
    }
   ],
   "source": [
    "class User():\n",
    "    def __init__(self, email):\n",
    "        self.email = email\n",
    "\n",
    "    def sign_in(self):\n",
    "        print('logged in')\n",
    "\n",
    "    def attack(self):\n",
    "        print('do nothing')\n",
    "\n",
    "\n",
    "\n",
    "class Wizard(User):\n",
    "    def __init__(self, name, power, email=''):\n",
    "        super().__init__(email)\n",
    "        self.name = name\n",
    "        self.power = power\n",
    "\n",
    "    def atack(self):\n",
    "        print(f'attacking with the power of {self.power}')\n",
    "\n",
    "\n",
    "class Archer(User):\n",
    "    def __init__(self,name, num_of_arrow):\n",
    "        self.name = name\n",
    "        self.num_of_arrow = num_of_arrow\n",
    "\n",
    "\n",
    "    def attack(self):\n",
    "        print(f'Attacking with the power')\n",
    "\n",
    "    def check_arrows(self):\n",
    "        print(f\"the arrows remaining are: {self.num_of_arrow}\")\n",
    "\n",
    "\n",
    "\n",
    "class HybridBorg(Wizard, Archer):\n",
    "    def __init__(self, name, power, arrows):\n",
    "        Archer.__init__(name=name, num_of_arrow=arrows)\n",
    "        Wizard.__init__(name=name, power=power)\n",
    "\n",
    "\n",
    "\n",
    "w1 = Wizard('Gandalf',100, 'merlin@gmail.com')\n",
    "w1.atack()\n",
    "a1 = Archer('Robin', 100)\n",
    "print(w1.__dict__)\n",
    "\n",
    "hb1 = HybridBorg('borgie', 50, 100)\n",
    "hb1.atack()"
   ]
  },
  {
   "cell_type": "code",
   "execution_count": null,
   "metadata": {
    "collapsed": false,
    "pycharm": {
     "name": "#%%\n"
    }
   },
   "outputs": [],
   "source": [
    "class Pets():\n",
    "    animals = []\n",
    "    def __init__(self, animals):\n",
    "        self.animals = animals\n",
    "\n",
    "    def walk(self):\n",
    "        for animal in self.animals:\n",
    "            print(animal.walk())\n",
    "\n",
    "class Cat():\n",
    "    is_lazy = True\n",
    "\n",
    "    def __init__(self, name, age):\n",
    "        self.name = name\n",
    "        self.age = age\n",
    "\n",
    "    def walk(self):\n",
    "        return f'{self.name} is just walking around'\n",
    "\n",
    "class Simon(Cat):\n",
    "    def sing(self, sounds):\n",
    "        return f'{sounds}'\n",
    "qq\n",
    "class Sally(Cat):\n",
    "    def sing(self, sounds):\n",
    "        return f'{sounds}'\n",
    "\n",
    "#1 Add nother Cat\n",
    "class Suzy(Cat):\n",
    "    def sing(self, sounds):\n",
    "        return f'{sounds}'\n",
    "\n",
    "#2 Create a list of all of the pets (create 3 cat instances from the above)\n",
    "my_cats = [Simon('Simon', 4), Sally('Sally', 21), Suzy('Suzy', 1)]\n",
    "\n",
    "#3 Instantiate the Pet class with all your cats\n",
    "my_pets = Pets(my_cats)\n",
    "\n",
    "#4 Output all of the cats singing using the my_pets instance\n",
    "my_pets.walk()"
   ]
  },
  {
   "cell_type": "markdown",
   "metadata": {
    "collapsed": false
   },
   "source": [
    "Methode resolution order"
   ]
  },
  {
   "cell_type": "code",
   "execution_count": null,
   "metadata": {
    "collapsed": false,
    "pycharm": {
     "name": "#%%\n"
    }
   },
   "outputs": [],
   "source": [
    "#MRO - Method Resolution Order\n",
    "class A:\n",
    "    num = 10\n",
    "\n",
    "\n",
    "class B(A):\n",
    "    pass\n",
    "\n",
    "class C(A):\n",
    "    num = 1\n",
    "\n",
    "class D(B, C):\n",
    "    pass"
   ]
  },
  {
   "cell_type": "code",
   "execution_count": null,
   "metadata": {
    "collapsed": false,
    "pycharm": {
     "name": "#%%\n"
    }
   },
   "outputs": [],
   "source": [
    "favcomp = [[\"netflix\",\"google\",\"facebook\"],[\"netflix\",\"amazon\"],[\"facebook\",\"google\"]]\n",
    "\n",
    "for comp in favcomp:\n",
    "    print(comp)"
   ]
  },
  {
   "cell_type": "code",
   "execution_count": null,
   "metadata": {
    "collapsed": false,
    "pycharm": {
     "name": "#%%\n"
    }
   },
   "outputs": [],
   "source": [
    "from functools import reduce\n",
    "\n",
    "#1 Capitalize all of the pet names and print the list\n",
    "my_pets = ['sisi', 'bibi', 'titi', 'carla']\n",
    "\n",
    "def capitalize(string):\n",
    "    return string.upper()\n",
    "\n",
    "print(list(map(capitalize, my_pets)))\n",
    "\n",
    "\n",
    "#2 Zip the 2 lists into a list of tuples, but sort the numbers from lowest to highest.\n",
    "my_strings = ['a', 'b', 'c', 'd', 'e']\n",
    "my_numbers = [5,4,3,2,1]\n",
    "\n",
    "print(list(zip(my_strings, sorted(my_numbers))))\n",
    "\n",
    "\n",
    "#3 Filter the scores that pass over 50%\n",
    "scores = [73, 20, 65, 19, 76, 100, 88]\n",
    "\n",
    "def is_smart_student(score):\n",
    "    return score > 50\n",
    "\n",
    "print(list(filter(is_smart_student, scores)))\n",
    "\n",
    "\n",
    "#4 Combine all of the numbers that are in a list on this file using reduce (my_numbers and scores). What is the total?\n",
    "def accumulator(acc, item):\n",
    "    return acc + item\n",
    "\n",
    "print(reduce(accumulator, (my_numbers + scores)))"
   ]
  },
  {
   "cell_type": "code",
   "execution_count": 5,
   "metadata": {
    "collapsed": false,
    "pycharm": {
     "name": "#%%\n"
    }
   },
   "outputs": [
    {
     "name": "stdout",
     "output_type": "stream",
     "text": [
      "1\n",
      "1\n",
      "[1]\n",
      "[1, 1]\n"
     ]
    }
   ],
   "source": [
    "def foo(my_lst=[]):\n",
    "\tmy_lst.append(1)\n",
    "\tprint(my_lst)\n",
    "\n",
    "def bar(n=0):\n",
    "\tn += 1\n",
    "\tprint(n)\n",
    "\n",
    "\n",
    "bar()\n",
    "foo()\n",
    "foo()\n",
    "foo()"
   ]
  },
  {
   "cell_type": "code",
   "execution_count": 3,
   "metadata": {},
   "outputs": [
    {
     "name": "stdout",
     "output_type": "stream",
     "text": [
      "[('b', 6), ('a', 1), ('c', 1)]\n",
      "\n",
      "[('h', 2), ('e', 2), ('i', 1), (' ', 1), ('t', 1), ('r', 1), ('!', 1)]\n"
     ]
    }
   ],
   "source": [
    "def count_occurs(my_string):\r\n",
    "  count = {}\r\n",
    "\r\n",
    "  for char in my_string:\r\n",
    "    if count.get(char) is None:\r\n",
    "        count[char] = 1\r\n",
    "    else:\r\n",
    "      count[char] += 1\r\n",
    "    \r\n",
    "\r\n",
    "  orderdict = sorted(count.items(), key=lambda x: x[1])\r\n",
    "  return count\r\n",
    "\r\n",
    "\r\n",
    "print(count_occurs(\"abbbbbbc\"))\r\n",
    "print()\r\n",
    "print(count_occurs(\"hi there!\"))"
   ]
  }
 ],
 "metadata": {
  "interpreter": {
   "hash": "dd3b5c563efb76feba9f2e942ca6004d5ae7f36bfec977c033432a926d718a46"
  },
  "kernelspec": {
   "name": "python3",
   "language": "python",
   "display_name": "Python 3"
  },
  "language_info": {
   "codemirror_mode": {
    "name": "ipython",
    "version": 3
   },
   "file_extension": ".py",
   "mimetype": "text/x-python",
   "name": "python",
   "nbconvert_exporter": "python",
   "pygments_lexer": "ipython3",
   "version": "3.8.8"
  }
 },
 "nbformat": 4,
 "nbformat_minor": 0
}