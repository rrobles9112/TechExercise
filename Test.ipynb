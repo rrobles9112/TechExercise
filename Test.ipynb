{
 "cells": [
  {
   "cell_type": "code",
   "execution_count": 2,
   "metadata": {},
   "outputs": [
    {
     "name": "stdout",
     "output_type": "stream",
     "text": [
      "hola mundo\n",
      "\n",
      "1099\n",
      "10999\n"
     ]
    },
    {
     "data": {
      "text/plain": "__main__.Empty"
     },
     "execution_count": 2,
     "metadata": {},
     "output_type": "execute_result"
    }
   ],
   "source": [
    "print(\"hola mundo\")\r\n",
    "print()\r\n",
    "a = 999\r\n",
    "b = a ** 12\r\n",
    "print(a.__add__(100))\r\n",
    "print(a.__add__(10000)) \r\n",
    "\r\n",
    "class Empty(object):\r\n",
    "    def __init__(self):\r\n",
    "        self.__name= \"Empty\"\r\n",
    "\r\n",
    "    \r\n",
    "e = Empty()"
   ]
  }
 ],
 "metadata": {
  "kernelspec": {
   "display_name": "Python 3.8.5 64-bit ('base': conda)",
   "name": "python385jvsc74a57bd084bb7a3af9392a165d6d7eca5acf37c7a36d66449d3aacf3035c891e80e8a35c"
  },
  "language_info": {
   "codemirror_mode": {
    "name": "ipython",
    "version": 3
   },
   "file_extension": ".py",
   "mimetype": "text/x-python",
   "name": "python",
   "nbconvert_exporter": "python",
   "pygments_lexer": "ipython3",
   "version": "3.8.5"
  }
 },
 "nbformat": 4,
 "nbformat_minor": 0
}